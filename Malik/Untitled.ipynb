{
 "cells": [
  {
   "cell_type": "code",
   "execution_count": 1,
   "metadata": {},
   "outputs": [],
   "source": [
    "import pandas as pd \n",
    "import datetime as dt\n",
    "import numpy as np\n",
    "\n",
    "import requests\n",
    "import json\n",
    "from pprint import pprint\n",
    "import csv"
   ]
  },
  {
   "cell_type": "code",
   "execution_count": 2,
   "metadata": {},
   "outputs": [
    {
     "name": "stderr",
     "output_type": "stream",
     "text": [
      "/home/brownapple/anaconda3/lib/python3.7/site-packages/IPython/core/interactiveshell.py:3049: DtypeWarning: Columns (1,4,7,10,13,16,19,22,25,28,34,37,40,43,46,49,55,58,61,64,67,70,73,76,79,82,85,88,91,94,97,100,103,106,112,115,118,121,124,127,130,133,136,139,142,145,148,151,154,157,160,163,166,169,172,175,178,181,184,187,190,193,196,199,202,205,208,211,217,220,223,226,232,235,238,241,244,247,250,253,256,259,265,268,271,274,277,280,283,286,289,292,295,298,301,304,307,310,313,316,319,322,325,328,331,334,337,340,343,346,349,352,355,358,361,364,367,370,373,376,379,382,385,388,391,394,397,403,406,409,412,415,418,421,424,427,430,433,436,439,442,445,448,451,454,457,460,463,466,469,472,475,478,481,484,487,490,493,496) have mixed types. Specify dtype option on import or set low_memory=False.\n",
      "  interactivity=interactivity, compiler=compiler, result=result)\n"
     ]
    }
   ],
   "source": [
    "df =  pd.read_csv('features.csv')"
   ]
  },
  {
   "cell_type": "code",
   "execution_count": 3,
   "metadata": {},
   "outputs": [
    {
     "data": {
      "text/html": [
       "<div>\n",
       "<style scoped>\n",
       "    .dataframe tbody tr th:only-of-type {\n",
       "        vertical-align: middle;\n",
       "    }\n",
       "\n",
       "    .dataframe tbody tr th {\n",
       "        vertical-align: top;\n",
       "    }\n",
       "\n",
       "    .dataframe thead th {\n",
       "        text-align: right;\n",
       "    }\n",
       "</style>\n",
       "<table border=\"1\" class=\"dataframe\">\n",
       "  <thead>\n",
       "    <tr style=\"text-align: right;\">\n",
       "      <th></th>\n",
       "      <th>Unnamed: 0</th>\n",
       "      <th>CME_QXD</th>\n",
       "      <th>CME_QXS</th>\n",
       "      <th>CME_QXV</th>\n",
       "      <th>LIFFE_RD</th>\n",
       "      <th>LIFFE_RS</th>\n",
       "      <th>LIFFE_RV</th>\n",
       "      <th>SHFE_RBD</th>\n",
       "      <th>SHFE_RBS</th>\n",
       "      <th>SHFE_RBV</th>\n",
       "      <th>...</th>\n",
       "      <th>CME_MEV</th>\n",
       "      <th>CME_MEOD</th>\n",
       "      <th>CME_MEOS</th>\n",
       "      <th>CME_MEOV</th>\n",
       "      <th>CME_MFD</th>\n",
       "      <th>CME_MFS</th>\n",
       "      <th>CME_MFV</th>\n",
       "      <th>CME_MFFD</th>\n",
       "      <th>CME_MFFS</th>\n",
       "      <th>CME_MFFV</th>\n",
       "    </tr>\n",
       "  </thead>\n",
       "  <tbody>\n",
       "    <tr>\n",
       "      <th>0</th>\n",
       "      <td>0</td>\n",
       "      <td>2018-11-27</td>\n",
       "      <td>77.68</td>\n",
       "      <td>0.0</td>\n",
       "      <td>2019-05-01</td>\n",
       "      <td>127.61</td>\n",
       "      <td>88149.0</td>\n",
       "      <td>2019-04-30</td>\n",
       "      <td>4192.0</td>\n",
       "      <td>143910.0</td>\n",
       "      <td>...</td>\n",
       "      <td>0.0</td>\n",
       "      <td>2019-05-01</td>\n",
       "      <td>684.125</td>\n",
       "      <td>0.0</td>\n",
       "      <td>2019-05-01</td>\n",
       "      <td>66.05</td>\n",
       "      <td>0.0</td>\n",
       "      <td>2019-05-01</td>\n",
       "      <td>71.60</td>\n",
       "      <td>0.0</td>\n",
       "    </tr>\n",
       "    <tr>\n",
       "      <th>1</th>\n",
       "      <td>1</td>\n",
       "      <td>2018-11-26</td>\n",
       "      <td>77.68</td>\n",
       "      <td>0.0</td>\n",
       "      <td>2019-04-30</td>\n",
       "      <td>127.32</td>\n",
       "      <td>214495.0</td>\n",
       "      <td>2019-04-29</td>\n",
       "      <td>4179.0</td>\n",
       "      <td>86764.0</td>\n",
       "      <td>...</td>\n",
       "      <td>0.0</td>\n",
       "      <td>2019-04-30</td>\n",
       "      <td>684.125</td>\n",
       "      <td>0.0</td>\n",
       "      <td>2019-04-30</td>\n",
       "      <td>66.04</td>\n",
       "      <td>0.0</td>\n",
       "      <td>2019-04-30</td>\n",
       "      <td>68.58</td>\n",
       "      <td>0.0</td>\n",
       "    </tr>\n",
       "    <tr>\n",
       "      <th>2</th>\n",
       "      <td>2</td>\n",
       "      <td>2018-11-23</td>\n",
       "      <td>77.55</td>\n",
       "      <td>0.0</td>\n",
       "      <td>2019-04-29</td>\n",
       "      <td>127.67</td>\n",
       "      <td>111667.0</td>\n",
       "      <td>2019-04-26</td>\n",
       "      <td>4145.0</td>\n",
       "      <td>78638.0</td>\n",
       "      <td>...</td>\n",
       "      <td>0.0</td>\n",
       "      <td>2019-04-29</td>\n",
       "      <td>683.631</td>\n",
       "      <td>0.0</td>\n",
       "      <td>2019-04-29</td>\n",
       "      <td>66.04</td>\n",
       "      <td>0.0</td>\n",
       "      <td>2019-04-29</td>\n",
       "      <td>68.58</td>\n",
       "      <td>0.0</td>\n",
       "    </tr>\n",
       "    <tr>\n",
       "      <th>3</th>\n",
       "      <td>3</td>\n",
       "      <td>2018-11-21</td>\n",
       "      <td>77.55</td>\n",
       "      <td>0.0</td>\n",
       "      <td>2019-04-26</td>\n",
       "      <td>127.75</td>\n",
       "      <td>133857.0</td>\n",
       "      <td>2019-04-25</td>\n",
       "      <td>4143.0</td>\n",
       "      <td>96228.0</td>\n",
       "      <td>...</td>\n",
       "      <td>0.0</td>\n",
       "      <td>2019-04-26</td>\n",
       "      <td>684.079</td>\n",
       "      <td>0.0</td>\n",
       "      <td>2019-04-26</td>\n",
       "      <td>66.01</td>\n",
       "      <td>0.0</td>\n",
       "      <td>2019-04-26</td>\n",
       "      <td>68.60</td>\n",
       "      <td>0.0</td>\n",
       "    </tr>\n",
       "    <tr>\n",
       "      <th>4</th>\n",
       "      <td>4</td>\n",
       "      <td>2018-11-20</td>\n",
       "      <td>77.55</td>\n",
       "      <td>0.0</td>\n",
       "      <td>2019-04-25</td>\n",
       "      <td>127.62</td>\n",
       "      <td>126012.0</td>\n",
       "      <td>2019-04-24</td>\n",
       "      <td>4135.0</td>\n",
       "      <td>130212.0</td>\n",
       "      <td>...</td>\n",
       "      <td>0.0</td>\n",
       "      <td>2019-04-25</td>\n",
       "      <td>684.730</td>\n",
       "      <td>0.0</td>\n",
       "      <td>2019-04-24</td>\n",
       "      <td>66.29</td>\n",
       "      <td>0.0</td>\n",
       "      <td>2019-04-25</td>\n",
       "      <td>69.25</td>\n",
       "      <td>0.0</td>\n",
       "    </tr>\n",
       "  </tbody>\n",
       "</table>\n",
       "<p>5 rows × 499 columns</p>\n",
       "</div>"
      ],
      "text/plain": [
       "   Unnamed: 0     CME_QXD  CME_QXS  CME_QXV    LIFFE_RD  LIFFE_RS  LIFFE_RV  \\\n",
       "0           0  2018-11-27    77.68      0.0  2019-05-01    127.61   88149.0   \n",
       "1           1  2018-11-26    77.68      0.0  2019-04-30    127.32  214495.0   \n",
       "2           2  2018-11-23    77.55      0.0  2019-04-29    127.67  111667.0   \n",
       "3           3  2018-11-21    77.55      0.0  2019-04-26    127.75  133857.0   \n",
       "4           4  2018-11-20    77.55      0.0  2019-04-25    127.62  126012.0   \n",
       "\n",
       "     SHFE_RBD  SHFE_RBS  SHFE_RBV  ... CME_MEV    CME_MEOD  CME_MEOS CME_MEOV  \\\n",
       "0  2019-04-30    4192.0  143910.0  ...     0.0  2019-05-01   684.125      0.0   \n",
       "1  2019-04-29    4179.0   86764.0  ...     0.0  2019-04-30   684.125      0.0   \n",
       "2  2019-04-26    4145.0   78638.0  ...     0.0  2019-04-29   683.631      0.0   \n",
       "3  2019-04-25    4143.0   96228.0  ...     0.0  2019-04-26   684.079      0.0   \n",
       "4  2019-04-24    4135.0  130212.0  ...     0.0  2019-04-25   684.730      0.0   \n",
       "\n",
       "      CME_MFD  CME_MFS CME_MFV    CME_MFFD  CME_MFFS CME_MFFV  \n",
       "0  2019-05-01    66.05     0.0  2019-05-01     71.60      0.0  \n",
       "1  2019-04-30    66.04     0.0  2019-04-30     68.58      0.0  \n",
       "2  2019-04-29    66.04     0.0  2019-04-29     68.58      0.0  \n",
       "3  2019-04-26    66.01     0.0  2019-04-26     68.60      0.0  \n",
       "4  2019-04-24    66.29     0.0  2019-04-25     69.25      0.0  \n",
       "\n",
       "[5 rows x 499 columns]"
      ]
     },
     "execution_count": 3,
     "metadata": {},
     "output_type": "execute_result"
    }
   ],
   "source": [
    "df.head()"
   ]
  },
  {
   "cell_type": "code",
   "execution_count": 4,
   "metadata": {},
   "outputs": [
    {
     "data": {
      "text/html": [
       "<div>\n",
       "<style scoped>\n",
       "    .dataframe tbody tr th:only-of-type {\n",
       "        vertical-align: middle;\n",
       "    }\n",
       "\n",
       "    .dataframe tbody tr th {\n",
       "        vertical-align: top;\n",
       "    }\n",
       "\n",
       "    .dataframe thead th {\n",
       "        text-align: right;\n",
       "    }\n",
       "</style>\n",
       "<table border=\"1\" class=\"dataframe\">\n",
       "  <thead>\n",
       "    <tr style=\"text-align: right;\">\n",
       "      <th></th>\n",
       "      <th>SHFE_RBD</th>\n",
       "      <th>SHFE_RBS</th>\n",
       "    </tr>\n",
       "  </thead>\n",
       "  <tbody>\n",
       "    <tr>\n",
       "      <th>0</th>\n",
       "      <td>2019-04-30</td>\n",
       "      <td>4192.0</td>\n",
       "    </tr>\n",
       "    <tr>\n",
       "      <th>1</th>\n",
       "      <td>2019-04-29</td>\n",
       "      <td>4179.0</td>\n",
       "    </tr>\n",
       "    <tr>\n",
       "      <th>2</th>\n",
       "      <td>2019-04-26</td>\n",
       "      <td>4145.0</td>\n",
       "    </tr>\n",
       "    <tr>\n",
       "      <th>3</th>\n",
       "      <td>2019-04-25</td>\n",
       "      <td>4143.0</td>\n",
       "    </tr>\n",
       "    <tr>\n",
       "      <th>4</th>\n",
       "      <td>2019-04-24</td>\n",
       "      <td>4135.0</td>\n",
       "    </tr>\n",
       "  </tbody>\n",
       "</table>\n",
       "</div>"
      ],
      "text/plain": [
       "     SHFE_RBD  SHFE_RBS\n",
       "0  2019-04-30    4192.0\n",
       "1  2019-04-29    4179.0\n",
       "2  2019-04-26    4145.0\n",
       "3  2019-04-25    4143.0\n",
       "4  2019-04-24    4135.0"
      ]
     },
     "execution_count": 4,
     "metadata": {},
     "output_type": "execute_result"
    }
   ],
   "source": [
    "sample_df = df[[\"SHFE_RBD\",\"SHFE_RBS\"]]\n",
    "sample_df.head()"
   ]
  },
  {
   "cell_type": "code",
   "execution_count": 14,
   "metadata": {},
   "outputs": [],
   "source": [
    "sample_df = sample_df.set_index('SHFE_RBD')"
   ]
  },
  {
   "cell_type": "code",
   "execution_count": 50,
   "metadata": {},
   "outputs": [],
   "source": [
    "import sqlalchemy\n",
    "from sqlalchemy.ext.automap import automap_base\n",
    "from sqlalchemy.orm import Session\n",
    "from sqlalchemy import create_engine, inspect, func\n",
    "import matplotlib.pyplot as plt"
   ]
  },
  {
   "cell_type": "code",
   "execution_count": 2,
   "metadata": {},
   "outputs": [
    {
     "ename": "NameError",
     "evalue": "name 'create_engine' is not defined",
     "output_type": "error",
     "traceback": [
      "\u001b[1;31m---------------------------------------------------------------------------\u001b[0m",
      "\u001b[1;31mNameError\u001b[0m                                 Traceback (most recent call last)",
      "\u001b[1;32m<ipython-input-2-e61ca30e7fa3>\u001b[0m in \u001b[0;36m<module>\u001b[1;34m\u001b[0m\n\u001b[1;32m----> 1\u001b[1;33m \u001b[0mengine\u001b[0m \u001b[1;33m=\u001b[0m \u001b[0mcreate_engine\u001b[0m\u001b[1;33m(\u001b[0m\u001b[1;34m\"sqlite:///trade.sqlite\"\u001b[0m\u001b[1;33m)\u001b[0m\u001b[1;33m\u001b[0m\u001b[1;33m\u001b[0m\u001b[0m\n\u001b[0m",
      "\u001b[1;31mNameError\u001b[0m: name 'create_engine' is not defined"
     ]
    }
   ],
   "source": [
    "engine = create_engine(\"sqlite:///trade.sqlite\")"
   ]
  },
  {
   "cell_type": "code",
   "execution_count": 34,
   "metadata": {},
   "outputs": [],
   "source": [
    "Base = automap_base()"
   ]
  },
  {
   "cell_type": "code",
   "execution_count": 35,
   "metadata": {},
   "outputs": [],
   "source": [
    "Base.prepare(engine, reflect=True)"
   ]
  },
  {
   "cell_type": "code",
   "execution_count": 36,
   "metadata": {},
   "outputs": [
    {
     "data": {
      "text/plain": [
       "['exports', 'imports']"
      ]
     },
     "execution_count": 36,
     "metadata": {},
     "output_type": "execute_result"
    }
   ],
   "source": [
    "Base.classes.keys()"
   ]
  },
  {
   "cell_type": "code",
   "execution_count": 37,
   "metadata": {},
   "outputs": [],
   "source": [
    "export = Base.classes.exports"
   ]
  },
  {
   "cell_type": "code",
   "execution_count": 38,
   "metadata": {},
   "outputs": [],
   "source": [
    "session = Session(engine)"
   ]
  },
  {
   "cell_type": "code",
   "execution_count": 5,
   "metadata": {},
   "outputs": [],
   "source": [
    "# newList = []\n",
    "# for row in session.query(export.Period).all():\n",
    "#     print(row)"
   ]
  },
  {
   "cell_type": "code",
   "execution_count": 6,
   "metadata": {
    "scrolled": true
   },
   "outputs": [],
   "source": [
    "# newList = []\n",
    "# for row in session.query(export.Period).all():\n",
    "#     newList.append(row.__dict__)"
   ]
  },
  {
   "cell_type": "code",
   "execution_count": 7,
   "metadata": {},
   "outputs": [],
   "source": [
    "api_key = \"93ba5366cb39b249dcbde95cc4d461e7b05b747d\"\n",
    "export_url = (f\"https://api.census.gov/data/timeseries/intltrade/exports\")\n",
    "import_url = (f\"https://api.census.gov/data/timeseries/intltrade/imports\")\n",
    "china_code = \"5700\"\n",
    "usa_code = \"1000\"\n",
    "month = []\n",
    "year = []"
   ]
  },
  {
   "cell_type": "code",
   "execution_count": 8,
   "metadata": {},
   "outputs": [],
   "source": [
    "export_by_commodity = requests.get(f\"{export_url}/hs?get=E_COMMODITY,E_COMMODITY_SDESC,ALL_VAL_MO,ALL_VAL_YR&time=from+2015-01&COMM_LVL=HS4\").json()\n"
   ]
  },
  {
   "cell_type": "code",
   "execution_count": 11,
   "metadata": {},
   "outputs": [
    {
     "data": {
      "text/plain": [
       "62429"
      ]
     },
     "execution_count": 11,
     "metadata": {},
     "output_type": "execute_result"
    }
   ],
   "source": [
    "len(export_by_commodity)"
   ]
  },
  {
   "cell_type": "code",
   "execution_count": 12,
   "metadata": {},
   "outputs": [],
   "source": [
    "count = 1\n",
    "movalue = []\n",
    "yrvalue = []\n",
    "period = []\n",
    "desc = []\n",
    "code = []\n",
    "while count < 62428:\n",
    "    count += 1\n",
    "    movalue.append(export_by_commodity[count][2])\n",
    "    yrvalue.append(export_by_commodity[count][3])\n",
    "    desc.append(export_by_commodity[count][1])\n",
    "    period.append(export_by_commodity[count][4])\n",
    "    code.append(export_by_commodity[count][0])\n",
    "Export = pd.DataFrame({\"YTD Value\" : yrvalue,\n",
    "                           \"Monthly Value\" : movalue,\n",
    "                          \"Period\" : period,\n",
    "                          \"Commodity\" : desc,\n",
    "                          \"Comm Code\": code})"
   ]
  },
  {
   "cell_type": "code",
   "execution_count": 13,
   "metadata": {},
   "outputs": [
    {
     "data": {
      "text/html": [
       "<div>\n",
       "<style scoped>\n",
       "    .dataframe tbody tr th:only-of-type {\n",
       "        vertical-align: middle;\n",
       "    }\n",
       "\n",
       "    .dataframe tbody tr th {\n",
       "        vertical-align: top;\n",
       "    }\n",
       "\n",
       "    .dataframe thead th {\n",
       "        text-align: right;\n",
       "    }\n",
       "</style>\n",
       "<table border=\"1\" class=\"dataframe\">\n",
       "  <thead>\n",
       "    <tr style=\"text-align: right;\">\n",
       "      <th></th>\n",
       "      <th>YTD Value</th>\n",
       "      <th>Monthly Value</th>\n",
       "      <th>Period</th>\n",
       "      <th>Commodity</th>\n",
       "      <th>Comm Code</th>\n",
       "    </tr>\n",
       "  </thead>\n",
       "  <tbody>\n",
       "    <tr>\n",
       "      <th>0</th>\n",
       "      <td>80062016</td>\n",
       "      <td>28872544</td>\n",
       "      <td>2016-03</td>\n",
       "      <td>WIRE, RODS ETC FOR SOLDER</td>\n",
       "      <td>8311</td>\n",
       "    </tr>\n",
       "    <tr>\n",
       "      <th>1</th>\n",
       "      <td>243870938</td>\n",
       "      <td>122169910</td>\n",
       "      <td>2016-02</td>\n",
       "      <td>LUBRICATING PREPS, ANTIR</td>\n",
       "      <td>3403</td>\n",
       "    </tr>\n",
       "    <tr>\n",
       "      <th>2</th>\n",
       "      <td>630433253</td>\n",
       "      <td>125004276</td>\n",
       "      <td>2016-05</td>\n",
       "      <td>LUBRICATING PREPS, ANTIR</td>\n",
       "      <td>3403</td>\n",
       "    </tr>\n",
       "    <tr>\n",
       "      <th>3</th>\n",
       "      <td>1004995453</td>\n",
       "      <td>165036377</td>\n",
       "      <td>2018-07</td>\n",
       "      <td>LUBRICATING PREPS, ANTIR</td>\n",
       "      <td>3403</td>\n",
       "    </tr>\n",
       "    <tr>\n",
       "      <th>4</th>\n",
       "      <td>25013744</td>\n",
       "      <td>25013744</td>\n",
       "      <td>2018-01</td>\n",
       "      <td>WIRE, RODS ETC FOR SOLDER</td>\n",
       "      <td>8311</td>\n",
       "    </tr>\n",
       "  </tbody>\n",
       "</table>\n",
       "</div>"
      ],
      "text/plain": [
       "    YTD Value Monthly Value   Period                  Commodity Comm Code\n",
       "0    80062016      28872544  2016-03  WIRE, RODS ETC FOR SOLDER      8311\n",
       "1   243870938     122169910  2016-02   LUBRICATING PREPS, ANTIR      3403\n",
       "2   630433253     125004276  2016-05   LUBRICATING PREPS, ANTIR      3403\n",
       "3  1004995453     165036377  2018-07   LUBRICATING PREPS, ANTIR      3403\n",
       "4    25013744      25013744  2018-01  WIRE, RODS ETC FOR SOLDER      8311"
      ]
     },
     "execution_count": 13,
     "metadata": {},
     "output_type": "execute_result"
    }
   ],
   "source": [
    "Export.head()"
   ]
  },
  {
   "cell_type": "code",
   "execution_count": 14,
   "metadata": {},
   "outputs": [],
   "source": [
    "df_2015 = Export[Export[\"Comm Code\"].str.contains(\"1006\")]"
   ]
  },
  {
   "cell_type": "code",
   "execution_count": 27,
   "metadata": {},
   "outputs": [
    {
     "data": {
      "text/html": [
       "<div>\n",
       "<style scoped>\n",
       "    .dataframe tbody tr th:only-of-type {\n",
       "        vertical-align: middle;\n",
       "    }\n",
       "\n",
       "    .dataframe tbody tr th {\n",
       "        vertical-align: top;\n",
       "    }\n",
       "\n",
       "    .dataframe thead th {\n",
       "        text-align: right;\n",
       "    }\n",
       "</style>\n",
       "<table border=\"1\" class=\"dataframe\">\n",
       "  <thead>\n",
       "    <tr style=\"text-align: right;\">\n",
       "      <th></th>\n",
       "      <th>YTD Value</th>\n",
       "      <th>Monthly Value</th>\n",
       "      <th>Period</th>\n",
       "      <th>Commodity</th>\n",
       "      <th>Comm Code</th>\n",
       "    </tr>\n",
       "  </thead>\n",
       "  <tbody>\n",
       "    <tr>\n",
       "      <th>19692</th>\n",
       "      <td>888066879</td>\n",
       "      <td>106112723</td>\n",
       "      <td>2018-06</td>\n",
       "      <td>RICE</td>\n",
       "      <td>1006</td>\n",
       "    </tr>\n",
       "    <tr>\n",
       "      <th>19693</th>\n",
       "      <td>762175744</td>\n",
       "      <td>166165458</td>\n",
       "      <td>2016-05</td>\n",
       "      <td>RICE</td>\n",
       "      <td>1006</td>\n",
       "    </tr>\n",
       "    <tr>\n",
       "      <th>19697</th>\n",
       "      <td>1522382411</td>\n",
       "      <td>190074838</td>\n",
       "      <td>2018-11</td>\n",
       "      <td>RICE</td>\n",
       "      <td>1006</td>\n",
       "    </tr>\n",
       "    <tr>\n",
       "      <th>19698</th>\n",
       "      <td>1375640684</td>\n",
       "      <td>163490442</td>\n",
       "      <td>2016-09</td>\n",
       "      <td>RICE</td>\n",
       "      <td>1006</td>\n",
       "    </tr>\n",
       "    <tr>\n",
       "      <th>19702</th>\n",
       "      <td>596010286</td>\n",
       "      <td>157634436</td>\n",
       "      <td>2016-04</td>\n",
       "      <td>RICE</td>\n",
       "      <td>1006</td>\n",
       "    </tr>\n",
       "  </tbody>\n",
       "</table>\n",
       "</div>"
      ],
      "text/plain": [
       "        YTD Value Monthly Value   Period Commodity Comm Code\n",
       "19692   888066879     106112723  2018-06      RICE      1006\n",
       "19693   762175744     166165458  2016-05      RICE      1006\n",
       "19697  1522382411     190074838  2018-11      RICE      1006\n",
       "19698  1375640684     163490442  2016-09      RICE      1006\n",
       "19702   596010286     157634436  2016-04      RICE      1006"
      ]
     },
     "execution_count": 27,
     "metadata": {},
     "output_type": "execute_result"
    }
   ],
   "source": [
    "df_2015.head()"
   ]
  },
  {
   "cell_type": "code",
   "execution_count": 28,
   "metadata": {},
   "outputs": [],
   "source": [
    "Export[\"YTD Value\"] =pd.to_numeric(Export[\"YTD Value\"])\n",
    "Export[\"Monthly Value\"] =pd.to_numeric(Export[\"Monthly Value\"])\n",
    "Export[\"Period\"]=pd.to_datetime(Export.Period)"
   ]
  },
  {
   "cell_type": "code",
   "execution_count": 29,
   "metadata": {},
   "outputs": [
    {
     "name": "stderr",
     "output_type": "stream",
     "text": [
      "/home/brownapple/anaconda3/lib/python3.7/site-packages/ipykernel_launcher.py:1: SettingWithCopyWarning: \n",
      "A value is trying to be set on a copy of a slice from a DataFrame.\n",
      "Try using .loc[row_indexer,col_indexer] = value instead\n",
      "\n",
      "See the caveats in the documentation: http://pandas.pydata.org/pandas-docs/stable/indexing.html#indexing-view-versus-copy\n",
      "  \"\"\"Entry point for launching an IPython kernel.\n",
      "/home/brownapple/anaconda3/lib/python3.7/site-packages/ipykernel_launcher.py:2: SettingWithCopyWarning: \n",
      "A value is trying to be set on a copy of a slice from a DataFrame.\n",
      "Try using .loc[row_indexer,col_indexer] = value instead\n",
      "\n",
      "See the caveats in the documentation: http://pandas.pydata.org/pandas-docs/stable/indexing.html#indexing-view-versus-copy\n",
      "  \n"
     ]
    }
   ],
   "source": [
    "df_2015[\"YTD Value\"] =pd.to_numeric(df_2015[\"YTD Value\"])\n",
    "df_2015[\"Monthly Value\"] =pd.to_numeric(df_2015[\"Monthly Value\"])"
   ]
  },
  {
   "cell_type": "code",
   "execution_count": 30,
   "metadata": {},
   "outputs": [
    {
     "data": {
      "text/plain": [
       "7633479007"
      ]
     },
     "execution_count": 30,
     "metadata": {},
     "output_type": "execute_result"
    }
   ],
   "source": [
    "df_2015[\"Monthly Value\"].sum()"
   ]
  },
  {
   "cell_type": "code",
   "execution_count": 31,
   "metadata": {},
   "outputs": [
    {
     "data": {
      "text/html": [
       "<div>\n",
       "<style scoped>\n",
       "    .dataframe tbody tr th:only-of-type {\n",
       "        vertical-align: middle;\n",
       "    }\n",
       "\n",
       "    .dataframe tbody tr th {\n",
       "        vertical-align: top;\n",
       "    }\n",
       "\n",
       "    .dataframe thead th {\n",
       "        text-align: right;\n",
       "    }\n",
       "</style>\n",
       "<table border=\"1\" class=\"dataframe\">\n",
       "  <thead>\n",
       "    <tr style=\"text-align: right;\">\n",
       "      <th></th>\n",
       "      <th>YTD Value</th>\n",
       "      <th>Monthly Value</th>\n",
       "      <th>Period</th>\n",
       "      <th>Commodity</th>\n",
       "      <th>Comm Code</th>\n",
       "    </tr>\n",
       "  </thead>\n",
       "  <tbody>\n",
       "    <tr>\n",
       "      <th>19692</th>\n",
       "      <td>888066879</td>\n",
       "      <td>106112723</td>\n",
       "      <td>2018-06</td>\n",
       "      <td>RICE</td>\n",
       "      <td>1006</td>\n",
       "    </tr>\n",
       "    <tr>\n",
       "      <th>19693</th>\n",
       "      <td>762175744</td>\n",
       "      <td>166165458</td>\n",
       "      <td>2016-05</td>\n",
       "      <td>RICE</td>\n",
       "      <td>1006</td>\n",
       "    </tr>\n",
       "    <tr>\n",
       "      <th>19697</th>\n",
       "      <td>1522382411</td>\n",
       "      <td>190074838</td>\n",
       "      <td>2018-11</td>\n",
       "      <td>RICE</td>\n",
       "      <td>1006</td>\n",
       "    </tr>\n",
       "    <tr>\n",
       "      <th>19698</th>\n",
       "      <td>1375640684</td>\n",
       "      <td>163490442</td>\n",
       "      <td>2016-09</td>\n",
       "      <td>RICE</td>\n",
       "      <td>1006</td>\n",
       "    </tr>\n",
       "    <tr>\n",
       "      <th>19702</th>\n",
       "      <td>596010286</td>\n",
       "      <td>157634436</td>\n",
       "      <td>2016-04</td>\n",
       "      <td>RICE</td>\n",
       "      <td>1006</td>\n",
       "    </tr>\n",
       "  </tbody>\n",
       "</table>\n",
       "</div>"
      ],
      "text/plain": [
       "        YTD Value  Monthly Value   Period Commodity Comm Code\n",
       "19692   888066879      106112723  2018-06      RICE      1006\n",
       "19693   762175744      166165458  2016-05      RICE      1006\n",
       "19697  1522382411      190074838  2018-11      RICE      1006\n",
       "19698  1375640684      163490442  2016-09      RICE      1006\n",
       "19702   596010286      157634436  2016-04      RICE      1006"
      ]
     },
     "execution_count": 31,
     "metadata": {},
     "output_type": "execute_result"
    }
   ],
   "source": [
    "df_2015.head()"
   ]
  },
  {
   "cell_type": "code",
   "execution_count": 32,
   "metadata": {},
   "outputs": [],
   "source": [
    "def commodity(trade,code):\n",
    "    data = trade[trade[\"Comm Code\"].str.contains(code)]\n",
    "    data = data.sort_values(by='Period', ascending=True)\n",
    "    data = data.reset_index()\n",
    "    \n",
    "    return data"
   ]
  },
  {
   "cell_type": "code",
   "execution_count": 33,
   "metadata": {},
   "outputs": [],
   "source": [
    "rice = commodity(Export,\"1007\")"
   ]
  },
  {
   "cell_type": "code",
   "execution_count": 34,
   "metadata": {},
   "outputs": [
    {
     "data": {
      "text/html": [
       "<div>\n",
       "<style scoped>\n",
       "    .dataframe tbody tr th:only-of-type {\n",
       "        vertical-align: middle;\n",
       "    }\n",
       "\n",
       "    .dataframe tbody tr th {\n",
       "        vertical-align: top;\n",
       "    }\n",
       "\n",
       "    .dataframe thead th {\n",
       "        text-align: right;\n",
       "    }\n",
       "</style>\n",
       "<table border=\"1\" class=\"dataframe\">\n",
       "  <thead>\n",
       "    <tr style=\"text-align: right;\">\n",
       "      <th></th>\n",
       "      <th>index</th>\n",
       "      <th>YTD Value</th>\n",
       "      <th>Monthly Value</th>\n",
       "      <th>Period</th>\n",
       "      <th>Commodity</th>\n",
       "      <th>Comm Code</th>\n",
       "    </tr>\n",
       "  </thead>\n",
       "  <tbody>\n",
       "    <tr>\n",
       "      <th>0</th>\n",
       "      <td>47242</td>\n",
       "      <td>198504519</td>\n",
       "      <td>198504519</td>\n",
       "      <td>2015-01-01</td>\n",
       "      <td>GRAIN SORGHUM</td>\n",
       "      <td>1007</td>\n",
       "    </tr>\n",
       "    <tr>\n",
       "      <th>1</th>\n",
       "      <td>47232</td>\n",
       "      <td>423896637</td>\n",
       "      <td>225392118</td>\n",
       "      <td>2015-02-01</td>\n",
       "      <td>GRAIN SORGHUM</td>\n",
       "      <td>1007</td>\n",
       "    </tr>\n",
       "    <tr>\n",
       "      <th>2</th>\n",
       "      <td>47224</td>\n",
       "      <td>679852947</td>\n",
       "      <td>255956310</td>\n",
       "      <td>2015-03-01</td>\n",
       "      <td>GRAIN SORGHUM</td>\n",
       "      <td>1007</td>\n",
       "    </tr>\n",
       "    <tr>\n",
       "      <th>3</th>\n",
       "      <td>47231</td>\n",
       "      <td>912178609</td>\n",
       "      <td>232325662</td>\n",
       "      <td>2015-04-01</td>\n",
       "      <td>GRAIN SORGHUM</td>\n",
       "      <td>1007</td>\n",
       "    </tr>\n",
       "    <tr>\n",
       "      <th>4</th>\n",
       "      <td>47239</td>\n",
       "      <td>1045776472</td>\n",
       "      <td>133597863</td>\n",
       "      <td>2015-05-01</td>\n",
       "      <td>GRAIN SORGHUM</td>\n",
       "      <td>1007</td>\n",
       "    </tr>\n",
       "  </tbody>\n",
       "</table>\n",
       "</div>"
      ],
      "text/plain": [
       "   index   YTD Value  Monthly Value     Period      Commodity Comm Code\n",
       "0  47242   198504519      198504519 2015-01-01  GRAIN SORGHUM      1007\n",
       "1  47232   423896637      225392118 2015-02-01  GRAIN SORGHUM      1007\n",
       "2  47224   679852947      255956310 2015-03-01  GRAIN SORGHUM      1007\n",
       "3  47231   912178609      232325662 2015-04-01  GRAIN SORGHUM      1007\n",
       "4  47239  1045776472      133597863 2015-05-01  GRAIN SORGHUM      1007"
      ]
     },
     "execution_count": 34,
     "metadata": {},
     "output_type": "execute_result"
    }
   ],
   "source": [
    "rice.head()"
   ]
  },
  {
   "cell_type": "code",
   "execution_count": 35,
   "metadata": {},
   "outputs": [
    {
     "data": {
      "text/html": [
       "<div>\n",
       "<style scoped>\n",
       "    .dataframe tbody tr th:only-of-type {\n",
       "        vertical-align: middle;\n",
       "    }\n",
       "\n",
       "    .dataframe tbody tr th {\n",
       "        vertical-align: top;\n",
       "    }\n",
       "\n",
       "    .dataframe thead th {\n",
       "        text-align: right;\n",
       "    }\n",
       "</style>\n",
       "<table border=\"1\" class=\"dataframe\">\n",
       "  <thead>\n",
       "    <tr style=\"text-align: right;\">\n",
       "      <th></th>\n",
       "      <th>Monthly Value</th>\n",
       "    </tr>\n",
       "    <tr>\n",
       "      <th>Period</th>\n",
       "      <th></th>\n",
       "    </tr>\n",
       "  </thead>\n",
       "  <tbody>\n",
       "    <tr>\n",
       "      <th>2015-01-01</th>\n",
       "      <td>198504519</td>\n",
       "    </tr>\n",
       "    <tr>\n",
       "      <th>2015-02-01</th>\n",
       "      <td>225392118</td>\n",
       "    </tr>\n",
       "    <tr>\n",
       "      <th>2015-03-01</th>\n",
       "      <td>255956310</td>\n",
       "    </tr>\n",
       "    <tr>\n",
       "      <th>2015-04-01</th>\n",
       "      <td>232325662</td>\n",
       "    </tr>\n",
       "    <tr>\n",
       "      <th>2015-05-01</th>\n",
       "      <td>133597863</td>\n",
       "    </tr>\n",
       "  </tbody>\n",
       "</table>\n",
       "</div>"
      ],
      "text/plain": [
       "            Monthly Value\n",
       "Period                   \n",
       "2015-01-01      198504519\n",
       "2015-02-01      225392118\n",
       "2015-03-01      255956310\n",
       "2015-04-01      232325662\n",
       "2015-05-01      133597863"
      ]
     },
     "execution_count": 35,
     "metadata": {},
     "output_type": "execute_result"
    }
   ],
   "source": [
    "trade = rice[[\"Period\", \"Monthly Value\"]]\n",
    "trade = trade.set_index('Period')\n",
    "trade.head()"
   ]
  },
  {
   "cell_type": "code",
   "execution_count": 36,
   "metadata": {},
   "outputs": [
    {
     "data": {
      "text/plain": [
       "<matplotlib.axes._subplots.AxesSubplot at 0x7f91761ca320>"
      ]
     },
     "execution_count": 36,
     "metadata": {},
     "output_type": "execute_result"
    },
    {
     "data": {
      "image/png": "[encoded data removed]",
      "text/plain": [
       "<Figure size 432x288 with 1 Axes>"
      ]
     },
     "metadata": {
      "needs_background": "light"
     },
     "output_type": "display_data"
    }
   ],
   "source": [
    "trade.plot()"
   ]
  },
  {
   "cell_type": "code",
   "execution_count": 37,
   "metadata": {},
   "outputs": [
    {
     "data": {
      "text/html": [
       "<div>\n",
       "<style scoped>\n",
       "    .dataframe tbody tr th:only-of-type {\n",
       "        vertical-align: middle;\n",
       "    }\n",
       "\n",
       "    .dataframe tbody tr th {\n",
       "        vertical-align: top;\n",
       "    }\n",
       "\n",
       "    .dataframe thead th {\n",
       "        text-align: right;\n",
       "    }\n",
       "</style>\n",
       "<table border=\"1\" class=\"dataframe\">\n",
       "  <thead>\n",
       "    <tr style=\"text-align: right;\">\n",
       "      <th></th>\n",
       "      <th>Monthly Value</th>\n",
       "    </tr>\n",
       "  </thead>\n",
       "  <tbody>\n",
       "    <tr>\n",
       "      <th>count</th>\n",
       "      <td>5.100000e+01</td>\n",
       "    </tr>\n",
       "    <tr>\n",
       "      <th>mean</th>\n",
       "      <td>1.115291e+08</td>\n",
       "    </tr>\n",
       "    <tr>\n",
       "      <th>std</th>\n",
       "      <td>6.965062e+07</td>\n",
       "    </tr>\n",
       "    <tr>\n",
       "      <th>min</th>\n",
       "      <td>8.608271e+06</td>\n",
       "    </tr>\n",
       "    <tr>\n",
       "      <th>25%</th>\n",
       "      <td>5.198692e+07</td>\n",
       "    </tr>\n",
       "    <tr>\n",
       "      <th>50%</th>\n",
       "      <td>9.482746e+07</td>\n",
       "    </tr>\n",
       "    <tr>\n",
       "      <th>75%</th>\n",
       "      <td>1.683440e+08</td>\n",
       "    </tr>\n",
       "    <tr>\n",
       "      <th>max</th>\n",
       "      <td>2.559563e+08</td>\n",
       "    </tr>\n",
       "  </tbody>\n",
       "</table>\n",
       "</div>"
      ],
      "text/plain": [
       "       Monthly Value\n",
       "count   5.100000e+01\n",
       "mean    1.115291e+08\n",
       "std     6.965062e+07\n",
       "min     8.608271e+06\n",
       "25%     5.198692e+07\n",
       "50%     9.482746e+07\n",
       "75%     1.683440e+08\n",
       "max     2.559563e+08"
      ]
     },
     "execution_count": 37,
     "metadata": {},
     "output_type": "execute_result"
    }
   ],
   "source": [
    "trade.describe()"
   ]
  },
  {
   "cell_type": "code",
   "execution_count": 39,
   "metadata": {},
   "outputs": [
    {
     "name": "stdout",
     "output_type": "stream",
     "text": [
      "Object `conda install pystan -c conda-forge` not found.\n",
      "Object `conda install -c conda-forge fbprophet` not found.\n"
     ]
    }
   ],
   "source": [
    "# fbProphet Model \n",
    "?conda install pystan -c conda-forge\n",
    "?conda install -c conda-forge fbprophet"
   ]
  },
  {
   "cell_type": "code",
   "execution_count": 129,
   "metadata": {},
   "outputs": [
    {
     "data": {
      "text/html": [
       "<div>\n",
       "<style scoped>\n",
       "    .dataframe tbody tr th:only-of-type {\n",
       "        vertical-align: middle;\n",
       "    }\n",
       "\n",
       "    .dataframe tbody tr th {\n",
       "        vertical-align: top;\n",
       "    }\n",
       "\n",
       "    .dataframe thead th {\n",
       "        text-align: right;\n",
       "    }\n",
       "</style>\n",
       "<table border=\"1\" class=\"dataframe\">\n",
       "  <thead>\n",
       "    <tr style=\"text-align: right;\">\n",
       "      <th></th>\n",
       "      <th>index</th>\n",
       "      <th>YTD Value</th>\n",
       "      <th>Monthly Value</th>\n",
       "      <th>Period</th>\n",
       "      <th>Commodity</th>\n",
       "      <th>Comm Code</th>\n",
       "    </tr>\n",
       "  </thead>\n",
       "  <tbody>\n",
       "    <tr>\n",
       "      <th>0</th>\n",
       "      <td>14166</td>\n",
       "      <td>44192651</td>\n",
       "      <td>44192651</td>\n",
       "      <td>2015-01-01</td>\n",
       "      <td>NATURAL SANDS OF ALL KINDS, EXCEPT METAL-BEARING</td>\n",
       "      <td>2505</td>\n",
       "    </tr>\n",
       "    <tr>\n",
       "      <th>1</th>\n",
       "      <td>14206</td>\n",
       "      <td>79118936</td>\n",
       "      <td>34926285</td>\n",
       "      <td>2015-02-01</td>\n",
       "      <td>NATURAL SANDS OF ALL KINDS, EXCEPT METAL-BEARING</td>\n",
       "      <td>2505</td>\n",
       "    </tr>\n",
       "    <tr>\n",
       "      <th>2</th>\n",
       "      <td>14158</td>\n",
       "      <td>115756788</td>\n",
       "      <td>36637852</td>\n",
       "      <td>2015-03-01</td>\n",
       "      <td>NATURAL SANDS OF ALL KINDS, EXCEPT METAL-BEARING</td>\n",
       "      <td>2505</td>\n",
       "    </tr>\n",
       "    <tr>\n",
       "      <th>3</th>\n",
       "      <td>14187</td>\n",
       "      <td>143026467</td>\n",
       "      <td>27269679</td>\n",
       "      <td>2015-04-01</td>\n",
       "      <td>NATURAL SANDS OF ALL KINDS, EXCEPT METAL-BEARING</td>\n",
       "      <td>2505</td>\n",
       "    </tr>\n",
       "    <tr>\n",
       "      <th>4</th>\n",
       "      <td>14175</td>\n",
       "      <td>168479782</td>\n",
       "      <td>25453315</td>\n",
       "      <td>2015-05-01</td>\n",
       "      <td>NATURAL SANDS OF ALL KINDS, EXCEPT METAL-BEARING</td>\n",
       "      <td>2505</td>\n",
       "    </tr>\n",
       "  </tbody>\n",
       "</table>\n",
       "</div>"
      ],
      "text/plain": [
       "   index  YTD Value  Monthly Value     Period  \\\n",
       "0  14166   44192651       44192651 2015-01-01   \n",
       "1  14206   79118936       34926285 2015-02-01   \n",
       "2  14158  115756788       36637852 2015-03-01   \n",
       "3  14187  143026467       27269679 2015-04-01   \n",
       "4  14175  168479782       25453315 2015-05-01   \n",
       "\n",
       "                                          Commodity Comm Code  \n",
       "0  NATURAL SANDS OF ALL KINDS, EXCEPT METAL-BEARING      2505  \n",
       "1  NATURAL SANDS OF ALL KINDS, EXCEPT METAL-BEARING      2505  \n",
       "2  NATURAL SANDS OF ALL KINDS, EXCEPT METAL-BEARING      2505  \n",
       "3  NATURAL SANDS OF ALL KINDS, EXCEPT METAL-BEARING      2505  \n",
       "4  NATURAL SANDS OF ALL KINDS, EXCEPT METAL-BEARING      2505  "
      ]
     },
     "execution_count": 129,
     "metadata": {},
     "output_type": "execute_result"
    }
   ],
   "source": [
    "rice = commodity(Export,\"2505\")\n",
    "rice.head()"
   ]
  },
  {
   "cell_type": "code",
   "execution_count": 130,
   "metadata": {},
   "outputs": [
    {
     "data": {
      "text/html": [
       "<div>\n",
       "<style scoped>\n",
       "    .dataframe tbody tr th:only-of-type {\n",
       "        vertical-align: middle;\n",
       "    }\n",
       "\n",
       "    .dataframe tbody tr th {\n",
       "        vertical-align: top;\n",
       "    }\n",
       "\n",
       "    .dataframe thead th {\n",
       "        text-align: right;\n",
       "    }\n",
       "</style>\n",
       "<table border=\"1\" class=\"dataframe\">\n",
       "  <thead>\n",
       "    <tr style=\"text-align: right;\">\n",
       "      <th></th>\n",
       "      <th>Monthly Value</th>\n",
       "    </tr>\n",
       "    <tr>\n",
       "      <th>Period</th>\n",
       "      <th></th>\n",
       "    </tr>\n",
       "  </thead>\n",
       "  <tbody>\n",
       "    <tr>\n",
       "      <th>2015-01-01</th>\n",
       "      <td>44192651</td>\n",
       "    </tr>\n",
       "    <tr>\n",
       "      <th>2015-02-01</th>\n",
       "      <td>34926285</td>\n",
       "    </tr>\n",
       "    <tr>\n",
       "      <th>2015-03-01</th>\n",
       "      <td>36637852</td>\n",
       "    </tr>\n",
       "    <tr>\n",
       "      <th>2015-04-01</th>\n",
       "      <td>27269679</td>\n",
       "    </tr>\n",
       "    <tr>\n",
       "      <th>2015-05-01</th>\n",
       "      <td>25453315</td>\n",
       "    </tr>\n",
       "  </tbody>\n",
       "</table>\n",
       "</div>"
      ],
      "text/plain": [
       "            Monthly Value\n",
       "Period                   \n",
       "2015-01-01       44192651\n",
       "2015-02-01       34926285\n",
       "2015-03-01       36637852\n",
       "2015-04-01       27269679\n",
       "2015-05-01       25453315"
      ]
     },
     "execution_count": 130,
     "metadata": {},
     "output_type": "execute_result"
    }
   ],
   "source": [
    "trade = rice[[\"Period\", \"Monthly Value\"]]\n",
    "trade = trade.set_index('Period')\n",
    "trade.head()"
   ]
  },
  {
   "cell_type": "code",
   "execution_count": null,
   "metadata": {},
   "outputs": [],
   "source": []
  },
  {
   "cell_type": "code",
   "execution_count": 131,
   "metadata": {},
   "outputs": [],
   "source": [
    "import fbprophet"
   ]
  },
  {
   "cell_type": "code",
   "execution_count": 132,
   "metadata": {},
   "outputs": [],
   "source": [
    "trade = trade.reset_index()\n"
   ]
  },
  {
   "cell_type": "code",
   "execution_count": 133,
   "metadata": {},
   "outputs": [
    {
     "data": {
      "text/html": [
       "<div>\n",
       "<style scoped>\n",
       "    .dataframe tbody tr th:only-of-type {\n",
       "        vertical-align: middle;\n",
       "    }\n",
       "\n",
       "    .dataframe tbody tr th {\n",
       "        vertical-align: top;\n",
       "    }\n",
       "\n",
       "    .dataframe thead th {\n",
       "        text-align: right;\n",
       "    }\n",
       "</style>\n",
       "<table border=\"1\" class=\"dataframe\">\n",
       "  <thead>\n",
       "    <tr style=\"text-align: right;\">\n",
       "      <th></th>\n",
       "      <th>Period</th>\n",
       "      <th>Monthly Value</th>\n",
       "    </tr>\n",
       "  </thead>\n",
       "  <tbody>\n",
       "    <tr>\n",
       "      <th>0</th>\n",
       "      <td>2015-01-01</td>\n",
       "      <td>44192651</td>\n",
       "    </tr>\n",
       "    <tr>\n",
       "      <th>1</th>\n",
       "      <td>2015-02-01</td>\n",
       "      <td>34926285</td>\n",
       "    </tr>\n",
       "    <tr>\n",
       "      <th>2</th>\n",
       "      <td>2015-03-01</td>\n",
       "      <td>36637852</td>\n",
       "    </tr>\n",
       "    <tr>\n",
       "      <th>3</th>\n",
       "      <td>2015-04-01</td>\n",
       "      <td>27269679</td>\n",
       "    </tr>\n",
       "    <tr>\n",
       "      <th>4</th>\n",
       "      <td>2015-05-01</td>\n",
       "      <td>25453315</td>\n",
       "    </tr>\n",
       "  </tbody>\n",
       "</table>\n",
       "</div>"
      ],
      "text/plain": [
       "      Period  Monthly Value\n",
       "0 2015-01-01       44192651\n",
       "1 2015-02-01       34926285\n",
       "2 2015-03-01       36637852\n",
       "3 2015-04-01       27269679\n",
       "4 2015-05-01       25453315"
      ]
     },
     "execution_count": 133,
     "metadata": {},
     "output_type": "execute_result"
    }
   ],
   "source": [
    "trade.head()"
   ]
  },
  {
   "cell_type": "code",
   "execution_count": 134,
   "metadata": {},
   "outputs": [],
   "source": [
    "trade = trade.rename(columns={'Period': 'ds', 'Monthly Value': 'y'})"
   ]
  },
  {
   "cell_type": "code",
   "execution_count": 135,
   "metadata": {},
   "outputs": [
    {
     "data": {
      "text/html": [
       "<div>\n",
       "<style scoped>\n",
       "    .dataframe tbody tr th:only-of-type {\n",
       "        vertical-align: middle;\n",
       "    }\n",
       "\n",
       "    .dataframe tbody tr th {\n",
       "        vertical-align: top;\n",
       "    }\n",
       "\n",
       "    .dataframe thead th {\n",
       "        text-align: right;\n",
       "    }\n",
       "</style>\n",
       "<table border=\"1\" class=\"dataframe\">\n",
       "  <thead>\n",
       "    <tr style=\"text-align: right;\">\n",
       "      <th></th>\n",
       "      <th>ds</th>\n",
       "      <th>y</th>\n",
       "    </tr>\n",
       "  </thead>\n",
       "  <tbody>\n",
       "    <tr>\n",
       "      <th>0</th>\n",
       "      <td>2015-01-01</td>\n",
       "      <td>44192651</td>\n",
       "    </tr>\n",
       "    <tr>\n",
       "      <th>1</th>\n",
       "      <td>2015-02-01</td>\n",
       "      <td>34926285</td>\n",
       "    </tr>\n",
       "    <tr>\n",
       "      <th>2</th>\n",
       "      <td>2015-03-01</td>\n",
       "      <td>36637852</td>\n",
       "    </tr>\n",
       "    <tr>\n",
       "      <th>3</th>\n",
       "      <td>2015-04-01</td>\n",
       "      <td>27269679</td>\n",
       "    </tr>\n",
       "    <tr>\n",
       "      <th>4</th>\n",
       "      <td>2015-05-01</td>\n",
       "      <td>25453315</td>\n",
       "    </tr>\n",
       "  </tbody>\n",
       "</table>\n",
       "</div>"
      ],
      "text/plain": [
       "          ds         y\n",
       "0 2015-01-01  44192651\n",
       "1 2015-02-01  34926285\n",
       "2 2015-03-01  36637852\n",
       "3 2015-04-01  27269679\n",
       "4 2015-05-01  25453315"
      ]
     },
     "execution_count": 135,
     "metadata": {},
     "output_type": "execute_result"
    }
   ],
   "source": [
    "trade.head()"
   ]
  },
  {
   "cell_type": "code",
   "execution_count": 136,
   "metadata": {},
   "outputs": [
    {
     "name": "stderr",
     "output_type": "stream",
     "text": [
      "C:\\Users\\Bashira\\Anaconda3\\lib\\site-packages\\fbprophet\\forecaster.py:880: FutureWarning: Series.nonzero() is deprecated and will be removed in a future version.Use Series.to_numpy().nonzero() instead\n",
      "  min_dt = dt.iloc[dt.nonzero()[0]].min()\n",
      "INFO:fbprophet:Disabling weekly seasonality. Run prophet with weekly_seasonality=True to override this.\n",
      "INFO:fbprophet:Disabling daily seasonality. Run prophet with daily_seasonality=True to override this.\n",
      "C:\\Users\\Bashira\\Anaconda3\\lib\\site-packages\\pystan\\misc.py:399: FutureWarning: Conversion of the second argument of issubdtype from `float` to `np.floating` is deprecated. In future, it will be treated as `np.float64 == np.dtype(float).type`.\n",
      "  elif np.issubdtype(np.asarray(v).dtype, float):\n"
     ]
    },
    {
     "data": {
      "text/plain": [
       "<fbprophet.forecaster.Prophet at 0x20c81115f60>"
      ]
     },
     "execution_count": 136,
     "metadata": {},
     "output_type": "execute_result"
    }
   ],
   "source": [
    "trade_prophet = fbprophet.Prophet(changepoint_prior_scale=0.15)\n",
    "trade_prophet.fit(trade)"
   ]
  },
  {
   "cell_type": "code",
   "execution_count": 137,
   "metadata": {},
   "outputs": [],
   "source": [
    "trade_forecast = trade_prophet.make_future_dataframe(periods=12, freq='M')"
   ]
  },
  {
   "cell_type": "code",
   "execution_count": 138,
   "metadata": {},
   "outputs": [],
   "source": [
    "trade_forecast = trade_prophet.predict(trade_forecast)"
   ]
  },
  {
   "cell_type": "code",
   "execution_count": 139,
   "metadata": {},
   "outputs": [
    {
     "data": {
      "image/png": "[encoded data removed]",
      "text/plain": [
       "<Figure size 720x432 with 1 Axes>"
      ]
     },
     "execution_count": 139,
     "metadata": {},
     "output_type": "execute_result"
    },
    {
     "data": {
      "image/png": "[encoded data removed]",
      "text/plain": [
       "<Figure size 720x432 with 1 Axes>"
      ]
     },
     "metadata": {},
     "output_type": "display_data"
    }
   ],
   "source": [
    "trade_prophet.plot(trade_forecast, xlabel = 'Date', ylabel = 'Market Cap (billions $)')"
   ]
  },
  {
   "cell_type": "code",
   "execution_count": 140,
   "metadata": {},
   "outputs": [],
   "source": [
    "from sklearn.metrics import mean_squared_error, r2_score, mean_absolute_error"
   ]
  },
  {
   "cell_type": "code",
   "execution_count": 141,
   "metadata": {},
   "outputs": [
    {
     "data": {
      "text/html": [
       "<div>\n",
       "<style scoped>\n",
       "    .dataframe tbody tr th:only-of-type {\n",
       "        vertical-align: middle;\n",
       "    }\n",
       "\n",
       "    .dataframe tbody tr th {\n",
       "        vertical-align: top;\n",
       "    }\n",
       "\n",
       "    .dataframe thead th {\n",
       "        text-align: right;\n",
       "    }\n",
       "</style>\n",
       "<table border=\"1\" class=\"dataframe\">\n",
       "  <thead>\n",
       "    <tr style=\"text-align: right;\">\n",
       "      <th></th>\n",
       "      <th>ds</th>\n",
       "      <th>trend</th>\n",
       "      <th>yhat_lower</th>\n",
       "      <th>yhat_upper</th>\n",
       "      <th>trend_lower</th>\n",
       "      <th>trend_upper</th>\n",
       "      <th>additive_terms</th>\n",
       "      <th>additive_terms_lower</th>\n",
       "      <th>additive_terms_upper</th>\n",
       "      <th>yearly</th>\n",
       "      <th>yearly_lower</th>\n",
       "      <th>yearly_upper</th>\n",
       "      <th>multiplicative_terms</th>\n",
       "      <th>multiplicative_terms_lower</th>\n",
       "      <th>multiplicative_terms_upper</th>\n",
       "      <th>yhat</th>\n",
       "    </tr>\n",
       "  </thead>\n",
       "  <tbody>\n",
       "    <tr>\n",
       "      <th>0</th>\n",
       "      <td>2015-01-01</td>\n",
       "      <td>3.242233e+07</td>\n",
       "      <td>3.151967e+07</td>\n",
       "      <td>3.958275e+07</td>\n",
       "      <td>3.242233e+07</td>\n",
       "      <td>3.242233e+07</td>\n",
       "      <td>3.218622e+06</td>\n",
       "      <td>3.218622e+06</td>\n",
       "      <td>3.218622e+06</td>\n",
       "      <td>3.218622e+06</td>\n",
       "      <td>3.218622e+06</td>\n",
       "      <td>3.218622e+06</td>\n",
       "      <td>0.0</td>\n",
       "      <td>0.0</td>\n",
       "      <td>0.0</td>\n",
       "      <td>3.564095e+07</td>\n",
       "    </tr>\n",
       "    <tr>\n",
       "      <th>1</th>\n",
       "      <td>2015-02-01</td>\n",
       "      <td>3.184235e+07</td>\n",
       "      <td>3.080156e+07</td>\n",
       "      <td>3.882494e+07</td>\n",
       "      <td>3.184235e+07</td>\n",
       "      <td>3.184235e+07</td>\n",
       "      <td>2.897048e+06</td>\n",
       "      <td>2.897048e+06</td>\n",
       "      <td>2.897048e+06</td>\n",
       "      <td>2.897048e+06</td>\n",
       "      <td>2.897048e+06</td>\n",
       "      <td>2.897048e+06</td>\n",
       "      <td>0.0</td>\n",
       "      <td>0.0</td>\n",
       "      <td>0.0</td>\n",
       "      <td>3.473940e+07</td>\n",
       "    </tr>\n",
       "    <tr>\n",
       "      <th>2</th>\n",
       "      <td>2015-03-01</td>\n",
       "      <td>3.131850e+07</td>\n",
       "      <td>3.540259e+07</td>\n",
       "      <td>4.316640e+07</td>\n",
       "      <td>3.131850e+07</td>\n",
       "      <td>3.131850e+07</td>\n",
       "      <td>8.135930e+06</td>\n",
       "      <td>8.135930e+06</td>\n",
       "      <td>8.135930e+06</td>\n",
       "      <td>8.135930e+06</td>\n",
       "      <td>8.135930e+06</td>\n",
       "      <td>8.135930e+06</td>\n",
       "      <td>0.0</td>\n",
       "      <td>0.0</td>\n",
       "      <td>0.0</td>\n",
       "      <td>3.945443e+07</td>\n",
       "    </tr>\n",
       "    <tr>\n",
       "      <th>3</th>\n",
       "      <td>2015-04-01</td>\n",
       "      <td>3.073852e+07</td>\n",
       "      <td>2.510699e+07</td>\n",
       "      <td>3.289702e+07</td>\n",
       "      <td>3.073852e+07</td>\n",
       "      <td>3.073852e+07</td>\n",
       "      <td>-1.755640e+06</td>\n",
       "      <td>-1.755640e+06</td>\n",
       "      <td>-1.755640e+06</td>\n",
       "      <td>-1.755640e+06</td>\n",
       "      <td>-1.755640e+06</td>\n",
       "      <td>-1.755640e+06</td>\n",
       "      <td>0.0</td>\n",
       "      <td>0.0</td>\n",
       "      <td>0.0</td>\n",
       "      <td>2.898288e+07</td>\n",
       "    </tr>\n",
       "    <tr>\n",
       "      <th>4</th>\n",
       "      <td>2015-05-01</td>\n",
       "      <td>3.017725e+07</td>\n",
       "      <td>2.480365e+07</td>\n",
       "      <td>3.288169e+07</td>\n",
       "      <td>3.017725e+07</td>\n",
       "      <td>3.017725e+07</td>\n",
       "      <td>-1.414526e+06</td>\n",
       "      <td>-1.414526e+06</td>\n",
       "      <td>-1.414526e+06</td>\n",
       "      <td>-1.414526e+06</td>\n",
       "      <td>-1.414526e+06</td>\n",
       "      <td>-1.414526e+06</td>\n",
       "      <td>0.0</td>\n",
       "      <td>0.0</td>\n",
       "      <td>0.0</td>\n",
       "      <td>2.876272e+07</td>\n",
       "    </tr>\n",
       "  </tbody>\n",
       "</table>\n",
       "</div>"
      ],
      "text/plain": [
       "          ds         trend    yhat_lower    yhat_upper   trend_lower  \\\n",
       "0 2015-01-01  3.242233e+07  3.151967e+07  3.958275e+07  3.242233e+07   \n",
       "1 2015-02-01  3.184235e+07  3.080156e+07  3.882494e+07  3.184235e+07   \n",
       "2 2015-03-01  3.131850e+07  3.540259e+07  4.316640e+07  3.131850e+07   \n",
       "3 2015-04-01  3.073852e+07  2.510699e+07  3.289702e+07  3.073852e+07   \n",
       "4 2015-05-01  3.017725e+07  2.480365e+07  3.288169e+07  3.017725e+07   \n",
       "\n",
       "    trend_upper  additive_terms  additive_terms_lower  additive_terms_upper  \\\n",
       "0  3.242233e+07    3.218622e+06          3.218622e+06          3.218622e+06   \n",
       "1  3.184235e+07    2.897048e+06          2.897048e+06          2.897048e+06   \n",
       "2  3.131850e+07    8.135930e+06          8.135930e+06          8.135930e+06   \n",
       "3  3.073852e+07   -1.755640e+06         -1.755640e+06         -1.755640e+06   \n",
       "4  3.017725e+07   -1.414526e+06         -1.414526e+06         -1.414526e+06   \n",
       "\n",
       "         yearly  yearly_lower  yearly_upper  multiplicative_terms  \\\n",
       "0  3.218622e+06  3.218622e+06  3.218622e+06                   0.0   \n",
       "1  2.897048e+06  2.897048e+06  2.897048e+06                   0.0   \n",
       "2  8.135930e+06  8.135930e+06  8.135930e+06                   0.0   \n",
       "3 -1.755640e+06 -1.755640e+06 -1.755640e+06                   0.0   \n",
       "4 -1.414526e+06 -1.414526e+06 -1.414526e+06                   0.0   \n",
       "\n",
       "   multiplicative_terms_lower  multiplicative_terms_upper          yhat  \n",
       "0                         0.0                         0.0  3.564095e+07  \n",
       "1                         0.0                         0.0  3.473940e+07  \n",
       "2                         0.0                         0.0  3.945443e+07  \n",
       "3                         0.0                         0.0  2.898288e+07  \n",
       "4                         0.0                         0.0  2.876272e+07  "
      ]
     },
     "execution_count": 141,
     "metadata": {},
     "output_type": "execute_result"
    }
   ],
   "source": [
    "trade_forecast.head()"
   ]
  },
  {
   "cell_type": "code",
   "execution_count": 142,
   "metadata": {},
   "outputs": [
    {
     "data": {
      "text/html": [
       "<div>\n",
       "<style scoped>\n",
       "    .dataframe tbody tr th:only-of-type {\n",
       "        vertical-align: middle;\n",
       "    }\n",
       "\n",
       "    .dataframe tbody tr th {\n",
       "        vertical-align: top;\n",
       "    }\n",
       "\n",
       "    .dataframe thead th {\n",
       "        text-align: right;\n",
       "    }\n",
       "</style>\n",
       "<table border=\"1\" class=\"dataframe\">\n",
       "  <thead>\n",
       "    <tr style=\"text-align: right;\">\n",
       "      <th></th>\n",
       "      <th>ds</th>\n",
       "      <th>yhat</th>\n",
       "      <th>yhat_lower</th>\n",
       "      <th>yhat_upper</th>\n",
       "    </tr>\n",
       "  </thead>\n",
       "  <tbody>\n",
       "    <tr>\n",
       "      <th>58</th>\n",
       "      <td>2019-10-31</td>\n",
       "      <td>3.379371e+07</td>\n",
       "      <td>2.932567e+07</td>\n",
       "      <td>3.806198e+07</td>\n",
       "    </tr>\n",
       "    <tr>\n",
       "      <th>59</th>\n",
       "      <td>2019-11-30</td>\n",
       "      <td>3.020849e+07</td>\n",
       "      <td>2.537643e+07</td>\n",
       "      <td>3.470727e+07</td>\n",
       "    </tr>\n",
       "    <tr>\n",
       "      <th>60</th>\n",
       "      <td>2019-12-31</td>\n",
       "      <td>3.329849e+07</td>\n",
       "      <td>2.853398e+07</td>\n",
       "      <td>3.789850e+07</td>\n",
       "    </tr>\n",
       "    <tr>\n",
       "      <th>61</th>\n",
       "      <td>2020-01-31</td>\n",
       "      <td>3.286677e+07</td>\n",
       "      <td>2.778785e+07</td>\n",
       "      <td>3.782531e+07</td>\n",
       "    </tr>\n",
       "    <tr>\n",
       "      <th>62</th>\n",
       "      <td>2020-02-29</td>\n",
       "      <td>4.687384e+07</td>\n",
       "      <td>4.139866e+07</td>\n",
       "      <td>5.235557e+07</td>\n",
       "    </tr>\n",
       "  </tbody>\n",
       "</table>\n",
       "</div>"
      ],
      "text/plain": [
       "           ds          yhat    yhat_lower    yhat_upper\n",
       "58 2019-10-31  3.379371e+07  2.932567e+07  3.806198e+07\n",
       "59 2019-11-30  3.020849e+07  2.537643e+07  3.470727e+07\n",
       "60 2019-12-31  3.329849e+07  2.853398e+07  3.789850e+07\n",
       "61 2020-01-31  3.286677e+07  2.778785e+07  3.782531e+07\n",
       "62 2020-02-29  4.687384e+07  4.139866e+07  5.235557e+07"
      ]
     },
     "execution_count": 142,
     "metadata": {},
     "output_type": "execute_result"
    }
   ],
   "source": [
    "trade_forecast[['ds', 'yhat', 'yhat_lower', 'yhat_upper']].tail()"
   ]
  },
  {
   "cell_type": "code",
   "execution_count": 143,
   "metadata": {},
   "outputs": [],
   "source": [
    "metric_df = trade_forecast.set_index('ds')[['yhat']].join(trade.set_index('ds').y).reset_index()"
   ]
  },
  {
   "cell_type": "code",
   "execution_count": 144,
   "metadata": {},
   "outputs": [
    {
     "data": {
      "text/html": [
       "<div>\n",
       "<style scoped>\n",
       "    .dataframe tbody tr th:only-of-type {\n",
       "        vertical-align: middle;\n",
       "    }\n",
       "\n",
       "    .dataframe tbody tr th {\n",
       "        vertical-align: top;\n",
       "    }\n",
       "\n",
       "    .dataframe thead th {\n",
       "        text-align: right;\n",
       "    }\n",
       "</style>\n",
       "<table border=\"1\" class=\"dataframe\">\n",
       "  <thead>\n",
       "    <tr style=\"text-align: right;\">\n",
       "      <th></th>\n",
       "      <th>ds</th>\n",
       "      <th>yhat</th>\n",
       "      <th>y</th>\n",
       "    </tr>\n",
       "  </thead>\n",
       "  <tbody>\n",
       "    <tr>\n",
       "      <th>58</th>\n",
       "      <td>2019-10-31</td>\n",
       "      <td>3.379371e+07</td>\n",
       "      <td>NaN</td>\n",
       "    </tr>\n",
       "    <tr>\n",
       "      <th>59</th>\n",
       "      <td>2019-11-30</td>\n",
       "      <td>3.020849e+07</td>\n",
       "      <td>NaN</td>\n",
       "    </tr>\n",
       "    <tr>\n",
       "      <th>60</th>\n",
       "      <td>2019-12-31</td>\n",
       "      <td>3.329849e+07</td>\n",
       "      <td>NaN</td>\n",
       "    </tr>\n",
       "    <tr>\n",
       "      <th>61</th>\n",
       "      <td>2020-01-31</td>\n",
       "      <td>3.286677e+07</td>\n",
       "      <td>NaN</td>\n",
       "    </tr>\n",
       "    <tr>\n",
       "      <th>62</th>\n",
       "      <td>2020-02-29</td>\n",
       "      <td>4.687384e+07</td>\n",
       "      <td>NaN</td>\n",
       "    </tr>\n",
       "  </tbody>\n",
       "</table>\n",
       "</div>"
      ],
      "text/plain": [
       "           ds          yhat   y\n",
       "58 2019-10-31  3.379371e+07 NaN\n",
       "59 2019-11-30  3.020849e+07 NaN\n",
       "60 2019-12-31  3.329849e+07 NaN\n",
       "61 2020-01-31  3.286677e+07 NaN\n",
       "62 2020-02-29  4.687384e+07 NaN"
      ]
     },
     "execution_count": 144,
     "metadata": {},
     "output_type": "execute_result"
    }
   ],
   "source": [
    "metric_df.tail()"
   ]
  },
  {
   "cell_type": "code",
   "execution_count": 145,
   "metadata": {},
   "outputs": [],
   "source": [
    "metric_df.dropna(inplace=True)"
   ]
  },
  {
   "cell_type": "code",
   "execution_count": 146,
   "metadata": {},
   "outputs": [
    {
     "data": {
      "text/html": [
       "<div>\n",
       "<style scoped>\n",
       "    .dataframe tbody tr th:only-of-type {\n",
       "        vertical-align: middle;\n",
       "    }\n",
       "\n",
       "    .dataframe tbody tr th {\n",
       "        vertical-align: top;\n",
       "    }\n",
       "\n",
       "    .dataframe thead th {\n",
       "        text-align: right;\n",
       "    }\n",
       "</style>\n",
       "<table border=\"1\" class=\"dataframe\">\n",
       "  <thead>\n",
       "    <tr style=\"text-align: right;\">\n",
       "      <th></th>\n",
       "      <th>ds</th>\n",
       "      <th>yhat</th>\n",
       "      <th>y</th>\n",
       "    </tr>\n",
       "  </thead>\n",
       "  <tbody>\n",
       "    <tr>\n",
       "      <th>46</th>\n",
       "      <td>2018-11-01</td>\n",
       "      <td>4.005533e+07</td>\n",
       "      <td>38107121.0</td>\n",
       "    </tr>\n",
       "    <tr>\n",
       "      <th>47</th>\n",
       "      <td>2018-12-01</td>\n",
       "      <td>3.265426e+07</td>\n",
       "      <td>28104012.0</td>\n",
       "    </tr>\n",
       "    <tr>\n",
       "      <th>48</th>\n",
       "      <td>2019-01-01</td>\n",
       "      <td>4.354452e+07</td>\n",
       "      <td>39331470.0</td>\n",
       "    </tr>\n",
       "    <tr>\n",
       "      <th>49</th>\n",
       "      <td>2019-02-01</td>\n",
       "      <td>4.292011e+07</td>\n",
       "      <td>44587071.0</td>\n",
       "    </tr>\n",
       "    <tr>\n",
       "      <th>50</th>\n",
       "      <td>2019-03-01</td>\n",
       "      <td>4.788547e+07</td>\n",
       "      <td>48990588.0</td>\n",
       "    </tr>\n",
       "  </tbody>\n",
       "</table>\n",
       "</div>"
      ],
      "text/plain": [
       "           ds          yhat           y\n",
       "46 2018-11-01  4.005533e+07  38107121.0\n",
       "47 2018-12-01  3.265426e+07  28104012.0\n",
       "48 2019-01-01  4.354452e+07  39331470.0\n",
       "49 2019-02-01  4.292011e+07  44587071.0\n",
       "50 2019-03-01  4.788547e+07  48990588.0"
      ]
     },
     "execution_count": 146,
     "metadata": {},
     "output_type": "execute_result"
    }
   ],
   "source": [
    "\n",
    "metric_df.tail()"
   ]
  },
  {
   "cell_type": "code",
   "execution_count": 147,
   "metadata": {},
   "outputs": [
    {
     "data": {
      "text/plain": [
       "0.8710254857695249"
      ]
     },
     "execution_count": 147,
     "metadata": {},
     "output_type": "execute_result"
    }
   ],
   "source": [
    "r2_score(metric_df.y, metric_df.yhat)"
   ]
  },
  {
   "cell_type": "code",
   "execution_count": 148,
   "metadata": {},
   "outputs": [
    {
     "data": {
      "text/plain": [
       "10047708706861.535"
      ]
     },
     "execution_count": 148,
     "metadata": {},
     "output_type": "execute_result"
    }
   ],
   "source": [
    "mean_squared_error(metric_df.y, metric_df.yhat)"
   ]
  },
  {
   "cell_type": "code",
   "execution_count": null,
   "metadata": {},
   "outputs": [],
   "source": []
  }
 ],
 "metadata": {
  "kernelspec": {
   "display_name": "Python 3",
   "language": "python",
   "name": "python3"
  },
  "language_info": {
   "codemirror_mode": {
    "name": "ipython",
    "version": 3
   },
   "file_extension": ".py",
   "mimetype": "text/x-python",
   "name": "python",
   "nbconvert_exporter": "python",
   "pygments_lexer": "ipython3",
   "version": "3.7.1"
  }
 },
 "nbformat": 4,
 "nbformat_minor": 2
}
