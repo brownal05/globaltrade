{
 "cells": [
  {
   "cell_type": "code",
   "execution_count": 149,
   "metadata": {},
   "outputs": [],
   "source": [
    "import pandas as pd \n",
    "import datetime as dt\n",
    "import numpy as np\n",
    "\n",
    "import requests\n",
    "import json\n",
    "from pprint import pprint\n",
    "import csv"
   ]
  },
  {
   "cell_type": "code",
   "execution_count": 2,
   "metadata": {},
   "outputs": [
    {
     "name": "stderr",
     "output_type": "stream",
     "text": [
      "/home/brownapple/anaconda3/lib/python3.7/site-packages/IPython/core/interactiveshell.py:3049: DtypeWarning: Columns (1,4,7,10,13,16,19,22,25,28,34,37,40,43,46,49,55,58,61,64,67,70,73,76,79,82,85,88,91,94,97,100,103,106,112,115,118,121,124,127,130,133,136,139,142,145,148,151,154,157,160,163,166,169,172,175,178,181,184,187,190,193,196,199,202,205,208,211,217,220,223,226,232,235,238,241,244,247,250,253,256,259,265,268,271,274,277,280,283,286,289,292,295,298,301,304,307,310,313,316,319,322,325,328,331,334,337,340,343,346,349,352,355,358,361,364,367,370,373,376,379,382,385,388,391,394,397,403,406,409,412,415,418,421,424,427,430,433,436,439,442,445,448,451,454,457,460,463,466,469,472,475,478,481,484,487,490,493,496) have mixed types. Specify dtype option on import or set low_memory=False.\n",
      "  interactivity=interactivity, compiler=compiler, result=result)\n"
     ]
    }
   ],
   "source": [
    "df =  pd.read_csv('features.csv')"
   ]
  },
  {
   "cell_type": "code",
   "execution_count": 3,
   "metadata": {},
   "outputs": [
    {
     "data": {
      "text/html": [
       "<div>\n",
       "<style scoped>\n",
       "    .dataframe tbody tr th:only-of-type {\n",
       "        vertical-align: middle;\n",
       "    }\n",
       "\n",
       "    .dataframe tbody tr th {\n",
       "        vertical-align: top;\n",
       "    }\n",
       "\n",
       "    .dataframe thead th {\n",
       "        text-align: right;\n",
       "    }\n",
       "</style>\n",
       "<table border=\"1\" class=\"dataframe\">\n",
       "  <thead>\n",
       "    <tr style=\"text-align: right;\">\n",
       "      <th></th>\n",
       "      <th>Unnamed: 0</th>\n",
       "      <th>CME_QXD</th>\n",
       "      <th>CME_QXS</th>\n",
       "      <th>CME_QXV</th>\n",
       "      <th>LIFFE_RD</th>\n",
       "      <th>LIFFE_RS</th>\n",
       "      <th>LIFFE_RV</th>\n",
       "      <th>SHFE_RBD</th>\n",
       "      <th>SHFE_RBS</th>\n",
       "      <th>SHFE_RBV</th>\n",
       "      <th>...</th>\n",
       "      <th>CME_MEV</th>\n",
       "      <th>CME_MEOD</th>\n",
       "      <th>CME_MEOS</th>\n",
       "      <th>CME_MEOV</th>\n",
       "      <th>CME_MFD</th>\n",
       "      <th>CME_MFS</th>\n",
       "      <th>CME_MFV</th>\n",
       "      <th>CME_MFFD</th>\n",
       "      <th>CME_MFFS</th>\n",
       "      <th>CME_MFFV</th>\n",
       "    </tr>\n",
       "  </thead>\n",
       "  <tbody>\n",
       "    <tr>\n",
       "      <th>0</th>\n",
       "      <td>0</td>\n",
       "      <td>2018-11-27</td>\n",
       "      <td>77.68</td>\n",
       "      <td>0.0</td>\n",
       "      <td>2019-05-01</td>\n",
       "      <td>127.61</td>\n",
       "      <td>88149.0</td>\n",
       "      <td>2019-04-30</td>\n",
       "      <td>4192.0</td>\n",
       "      <td>143910.0</td>\n",
       "      <td>...</td>\n",
       "      <td>0.0</td>\n",
       "      <td>2019-05-01</td>\n",
       "      <td>684.125</td>\n",
       "      <td>0.0</td>\n",
       "      <td>2019-05-01</td>\n",
       "      <td>66.05</td>\n",
       "      <td>0.0</td>\n",
       "      <td>2019-05-01</td>\n",
       "      <td>71.60</td>\n",
       "      <td>0.0</td>\n",
       "    </tr>\n",
       "    <tr>\n",
       "      <th>1</th>\n",
       "      <td>1</td>\n",
       "      <td>2018-11-26</td>\n",
       "      <td>77.68</td>\n",
       "      <td>0.0</td>\n",
       "      <td>2019-04-30</td>\n",
       "      <td>127.32</td>\n",
       "      <td>214495.0</td>\n",
       "      <td>2019-04-29</td>\n",
       "      <td>4179.0</td>\n",
       "      <td>86764.0</td>\n",
       "      <td>...</td>\n",
       "      <td>0.0</td>\n",
       "      <td>2019-04-30</td>\n",
       "      <td>684.125</td>\n",
       "      <td>0.0</td>\n",
       "      <td>2019-04-30</td>\n",
       "      <td>66.04</td>\n",
       "      <td>0.0</td>\n",
       "      <td>2019-04-30</td>\n",
       "      <td>68.58</td>\n",
       "      <td>0.0</td>\n",
       "    </tr>\n",
       "    <tr>\n",
       "      <th>2</th>\n",
       "      <td>2</td>\n",
       "      <td>2018-11-23</td>\n",
       "      <td>77.55</td>\n",
       "      <td>0.0</td>\n",
       "      <td>2019-04-29</td>\n",
       "      <td>127.67</td>\n",
       "      <td>111667.0</td>\n",
       "      <td>2019-04-26</td>\n",
       "      <td>4145.0</td>\n",
       "      <td>78638.0</td>\n",
       "      <td>...</td>\n",
       "      <td>0.0</td>\n",
       "      <td>2019-04-29</td>\n",
       "      <td>683.631</td>\n",
       "      <td>0.0</td>\n",
       "      <td>2019-04-29</td>\n",
       "      <td>66.04</td>\n",
       "      <td>0.0</td>\n",
       "      <td>2019-04-29</td>\n",
       "      <td>68.58</td>\n",
       "      <td>0.0</td>\n",
       "    </tr>\n",
       "    <tr>\n",
       "      <th>3</th>\n",
       "      <td>3</td>\n",
       "      <td>2018-11-21</td>\n",
       "      <td>77.55</td>\n",
       "      <td>0.0</td>\n",
       "      <td>2019-04-26</td>\n",
       "      <td>127.75</td>\n",
       "      <td>133857.0</td>\n",
       "      <td>2019-04-25</td>\n",
       "      <td>4143.0</td>\n",
       "      <td>96228.0</td>\n",
       "      <td>...</td>\n",
       "      <td>0.0</td>\n",
       "      <td>2019-04-26</td>\n",
       "      <td>684.079</td>\n",
       "      <td>0.0</td>\n",
       "      <td>2019-04-26</td>\n",
       "      <td>66.01</td>\n",
       "      <td>0.0</td>\n",
       "      <td>2019-04-26</td>\n",
       "      <td>68.60</td>\n",
       "      <td>0.0</td>\n",
       "    </tr>\n",
       "    <tr>\n",
       "      <th>4</th>\n",
       "      <td>4</td>\n",
       "      <td>2018-11-20</td>\n",
       "      <td>77.55</td>\n",
       "      <td>0.0</td>\n",
       "      <td>2019-04-25</td>\n",
       "      <td>127.62</td>\n",
       "      <td>126012.0</td>\n",
       "      <td>2019-04-24</td>\n",
       "      <td>4135.0</td>\n",
       "      <td>130212.0</td>\n",
       "      <td>...</td>\n",
       "      <td>0.0</td>\n",
       "      <td>2019-04-25</td>\n",
       "      <td>684.730</td>\n",
       "      <td>0.0</td>\n",
       "      <td>2019-04-24</td>\n",
       "      <td>66.29</td>\n",
       "      <td>0.0</td>\n",
       "      <td>2019-04-25</td>\n",
       "      <td>69.25</td>\n",
       "      <td>0.0</td>\n",
       "    </tr>\n",
       "  </tbody>\n",
       "</table>\n",
       "<p>5 rows × 499 columns</p>\n",
       "</div>"
      ],
      "text/plain": [
       "   Unnamed: 0     CME_QXD  CME_QXS  CME_QXV    LIFFE_RD  LIFFE_RS  LIFFE_RV  \\\n",
       "0           0  2018-11-27    77.68      0.0  2019-05-01    127.61   88149.0   \n",
       "1           1  2018-11-26    77.68      0.0  2019-04-30    127.32  214495.0   \n",
       "2           2  2018-11-23    77.55      0.0  2019-04-29    127.67  111667.0   \n",
       "3           3  2018-11-21    77.55      0.0  2019-04-26    127.75  133857.0   \n",
       "4           4  2018-11-20    77.55      0.0  2019-04-25    127.62  126012.0   \n",
       "\n",
       "     SHFE_RBD  SHFE_RBS  SHFE_RBV  ... CME_MEV    CME_MEOD  CME_MEOS CME_MEOV  \\\n",
       "0  2019-04-30    4192.0  143910.0  ...     0.0  2019-05-01   684.125      0.0   \n",
       "1  2019-04-29    4179.0   86764.0  ...     0.0  2019-04-30   684.125      0.0   \n",
       "2  2019-04-26    4145.0   78638.0  ...     0.0  2019-04-29   683.631      0.0   \n",
       "3  2019-04-25    4143.0   96228.0  ...     0.0  2019-04-26   684.079      0.0   \n",
       "4  2019-04-24    4135.0  130212.0  ...     0.0  2019-04-25   684.730      0.0   \n",
       "\n",
       "      CME_MFD  CME_MFS CME_MFV    CME_MFFD  CME_MFFS CME_MFFV  \n",
       "0  2019-05-01    66.05     0.0  2019-05-01     71.60      0.0  \n",
       "1  2019-04-30    66.04     0.0  2019-04-30     68.58      0.0  \n",
       "2  2019-04-29    66.04     0.0  2019-04-29     68.58      0.0  \n",
       "3  2019-04-26    66.01     0.0  2019-04-26     68.60      0.0  \n",
       "4  2019-04-24    66.29     0.0  2019-04-25     69.25      0.0  \n",
       "\n",
       "[5 rows x 499 columns]"
      ]
     },
     "execution_count": 3,
     "metadata": {},
     "output_type": "execute_result"
    }
   ],
   "source": [
    "df.head()"
   ]
  },
  {
   "cell_type": "code",
   "execution_count": 4,
   "metadata": {},
   "outputs": [
    {
     "data": {
      "text/html": [
       "<div>\n",
       "<style scoped>\n",
       "    .dataframe tbody tr th:only-of-type {\n",
       "        vertical-align: middle;\n",
       "    }\n",
       "\n",
       "    .dataframe tbody tr th {\n",
       "        vertical-align: top;\n",
       "    }\n",
       "\n",
       "    .dataframe thead th {\n",
       "        text-align: right;\n",
       "    }\n",
       "</style>\n",
       "<table border=\"1\" class=\"dataframe\">\n",
       "  <thead>\n",
       "    <tr style=\"text-align: right;\">\n",
       "      <th></th>\n",
       "      <th>SHFE_RBD</th>\n",
       "      <th>SHFE_RBS</th>\n",
       "    </tr>\n",
       "  </thead>\n",
       "  <tbody>\n",
       "    <tr>\n",
       "      <th>0</th>\n",
       "      <td>2019-04-30</td>\n",
       "      <td>4192.0</td>\n",
       "    </tr>\n",
       "    <tr>\n",
       "      <th>1</th>\n",
       "      <td>2019-04-29</td>\n",
       "      <td>4179.0</td>\n",
       "    </tr>\n",
       "    <tr>\n",
       "      <th>2</th>\n",
       "      <td>2019-04-26</td>\n",
       "      <td>4145.0</td>\n",
       "    </tr>\n",
       "    <tr>\n",
       "      <th>3</th>\n",
       "      <td>2019-04-25</td>\n",
       "      <td>4143.0</td>\n",
       "    </tr>\n",
       "    <tr>\n",
       "      <th>4</th>\n",
       "      <td>2019-04-24</td>\n",
       "      <td>4135.0</td>\n",
       "    </tr>\n",
       "  </tbody>\n",
       "</table>\n",
       "</div>"
      ],
      "text/plain": [
       "     SHFE_RBD  SHFE_RBS\n",
       "0  2019-04-30    4192.0\n",
       "1  2019-04-29    4179.0\n",
       "2  2019-04-26    4145.0\n",
       "3  2019-04-25    4143.0\n",
       "4  2019-04-24    4135.0"
      ]
     },
     "execution_count": 4,
     "metadata": {},
     "output_type": "execute_result"
    }
   ],
   "source": [
    "sample_df = df[[\"SHFE_RBD\",\"SHFE_RBS\"]]\n",
    "sample_df.head()"
   ]
  },
  {
   "cell_type": "code",
   "execution_count": 14,
   "metadata": {},
   "outputs": [],
   "source": [
    "sample_df = sample_df.set_index('SHFE_RBD')"
   ]
  },
  {
   "cell_type": "code",
   "execution_count": 150,
   "metadata": {},
   "outputs": [],
   "source": [
    "import sqlalchemy\n",
    "from sqlalchemy.ext.automap import automap_base\n",
    "from sqlalchemy.orm import Session\n",
    "from sqlalchemy import create_engine, inspect, func\n",
    "import matplotlib.pyplot as plt"
   ]
  },
  {
   "cell_type": "code",
   "execution_count": 2,
   "metadata": {},
   "outputs": [
    {
     "ename": "NameError",
     "evalue": "name 'create_engine' is not defined",
     "output_type": "error",
     "traceback": [
      "\u001b[1;31m---------------------------------------------------------------------------\u001b[0m",
      "\u001b[1;31mNameError\u001b[0m                                 Traceback (most recent call last)",
      "\u001b[1;32m<ipython-input-2-e61ca30e7fa3>\u001b[0m in \u001b[0;36m<module>\u001b[1;34m\u001b[0m\n\u001b[1;32m----> 1\u001b[1;33m \u001b[0mengine\u001b[0m \u001b[1;33m=\u001b[0m \u001b[0mcreate_engine\u001b[0m\u001b[1;33m(\u001b[0m\u001b[1;34m\"sqlite:///trade.sqlite\"\u001b[0m\u001b[1;33m)\u001b[0m\u001b[1;33m\u001b[0m\u001b[1;33m\u001b[0m\u001b[0m\n\u001b[0m",
      "\u001b[1;31mNameError\u001b[0m: name 'create_engine' is not defined"
     ]
    }
   ],
   "source": [
    "engine = create_engine(\"sqlite:///trade.sqlite\")"
   ]
  },
  {
   "cell_type": "code",
   "execution_count": 34,
   "metadata": {},
   "outputs": [],
   "source": [
    "Base = automap_base()"
   ]
  },
  {
   "cell_type": "code",
   "execution_count": 35,
   "metadata": {},
   "outputs": [],
   "source": [
    "Base.prepare(engine, reflect=True)"
   ]
  },
  {
   "cell_type": "code",
   "execution_count": 36,
   "metadata": {},
   "outputs": [
    {
     "data": {
      "text/plain": [
       "['exports', 'imports']"
      ]
     },
     "execution_count": 36,
     "metadata": {},
     "output_type": "execute_result"
    }
   ],
   "source": [
    "Base.classes.keys()"
   ]
  },
  {
   "cell_type": "code",
   "execution_count": 37,
   "metadata": {},
   "outputs": [],
   "source": [
    "export = Base.classes.exports"
   ]
  },
  {
   "cell_type": "code",
   "execution_count": 38,
   "metadata": {},
   "outputs": [],
   "source": [
    "session = Session(engine)"
   ]
  },
  {
   "cell_type": "code",
   "execution_count": 5,
   "metadata": {},
   "outputs": [],
   "source": [
    "# newList = []\n",
    "# for row in session.query(export.Period).all():\n",
    "#     print(row)"
   ]
  },
  {
   "cell_type": "code",
   "execution_count": 6,
   "metadata": {
    "scrolled": true
   },
   "outputs": [],
   "source": [
    "# newList = []\n",
    "# for row in session.query(export.Period).all():\n",
    "#     newList.append(row.__dict__)"
   ]
  },
  {
   "cell_type": "code",
   "execution_count": 151,
   "metadata": {},
   "outputs": [],
   "source": [
    "api_key = \"93ba5366cb39b249dcbde95cc4d461e7b05b747d\"\n",
    "export_url = (f\"https://api.census.gov/data/timeseries/intltrade/exports\")\n",
    "import_url = (f\"https://api.census.gov/data/timeseries/intltrade/imports\")\n",
    "china_code = \"5700\"\n",
    "usa_code = \"1000\"\n",
    "month = []\n",
    "year = []"
   ]
  },
  {
   "cell_type": "code",
   "execution_count": 152,
   "metadata": {},
   "outputs": [],
   "source": [
    "export_by_commodity = requests.get(f\"{export_url}/hs?get=E_COMMODITY,E_COMMODITY_SDESC,ALL_VAL_MO,ALL_VAL_YR&time=from+2015-01&COMM_LVL=HS4\").json()\n"
   ]
  },
  {
   "cell_type": "code",
   "execution_count": 153,
   "metadata": {},
   "outputs": [
    {
     "data": {
      "text/plain": [
       "62429"
      ]
     },
     "execution_count": 153,
     "metadata": {},
     "output_type": "execute_result"
    }
   ],
   "source": [
    "len(export_by_commodity)"
   ]
  },
  {
   "cell_type": "code",
   "execution_count": 154,
   "metadata": {},
   "outputs": [],
   "source": [
    "count = 1\n",
    "movalue = []\n",
    "yrvalue = []\n",
    "period = []\n",
    "desc = []\n",
    "code = []\n",
    "while count < 62428:\n",
    "    count += 1\n",
    "    movalue.append(export_by_commodity[count][2])\n",
    "    yrvalue.append(export_by_commodity[count][3])\n",
    "    desc.append(export_by_commodity[count][1])\n",
    "    period.append(export_by_commodity[count][4])\n",
    "    code.append(export_by_commodity[count][0])\n",
    "Export = pd.DataFrame({\"YTD Value\" : yrvalue,\n",
    "                           \"Monthly Value\" : movalue,\n",
    "                          \"Period\" : period,\n",
    "                          \"Commodity\" : desc,\n",
    "                          \"Comm Code\": code})"
   ]
  },
  {
   "cell_type": "code",
   "execution_count": 155,
   "metadata": {},
   "outputs": [
    {
     "data": {
      "text/html": [
       "<div>\n",
       "<style scoped>\n",
       "    .dataframe tbody tr th:only-of-type {\n",
       "        vertical-align: middle;\n",
       "    }\n",
       "\n",
       "    .dataframe tbody tr th {\n",
       "        vertical-align: top;\n",
       "    }\n",
       "\n",
       "    .dataframe thead th {\n",
       "        text-align: right;\n",
       "    }\n",
       "</style>\n",
       "<table border=\"1\" class=\"dataframe\">\n",
       "  <thead>\n",
       "    <tr style=\"text-align: right;\">\n",
       "      <th></th>\n",
       "      <th>YTD Value</th>\n",
       "      <th>Monthly Value</th>\n",
       "      <th>Period</th>\n",
       "      <th>Commodity</th>\n",
       "      <th>Comm Code</th>\n",
       "    </tr>\n",
       "  </thead>\n",
       "  <tbody>\n",
       "    <tr>\n",
       "      <th>0</th>\n",
       "      <td>90799112</td>\n",
       "      <td>14887404</td>\n",
       "      <td>2017-06</td>\n",
       "      <td>WOV FABRIC, SYNTH STAPLE FIB NU 85% SYNTH ST F...</td>\n",
       "      <td>5512</td>\n",
       "    </tr>\n",
       "    <tr>\n",
       "      <th>1</th>\n",
       "      <td>223724843</td>\n",
       "      <td>28777799</td>\n",
       "      <td>2018-11</td>\n",
       "      <td>ONIONS, SHALLOTS, GARLIC, LEEKS ETC, FR OR CHI...</td>\n",
       "      <td>0703</td>\n",
       "    </tr>\n",
       "    <tr>\n",
       "      <th>2</th>\n",
       "      <td>104455523</td>\n",
       "      <td>14388026</td>\n",
       "      <td>2015-06</td>\n",
       "      <td>WOV FABRIC, SYNTH STAPLE FIB NU 85% SYNTH ST F...</td>\n",
       "      <td>5512</td>\n",
       "    </tr>\n",
       "    <tr>\n",
       "      <th>3</th>\n",
       "      <td>63994027</td>\n",
       "      <td>27820067</td>\n",
       "      <td>2019-02</td>\n",
       "      <td>ONIONS, SHALLOTS, GARLIC, LEEKS ETC, FR OR CHI...</td>\n",
       "      <td>0703</td>\n",
       "    </tr>\n",
       "    <tr>\n",
       "      <th>4</th>\n",
       "      <td>166874656</td>\n",
       "      <td>22059080</td>\n",
       "      <td>2018-09</td>\n",
       "      <td>ONIONS, SHALLOTS, GARLIC, LEEKS ETC, FR OR CHI...</td>\n",
       "      <td>0703</td>\n",
       "    </tr>\n",
       "  </tbody>\n",
       "</table>\n",
       "</div>"
      ],
      "text/plain": [
       "   YTD Value Monthly Value   Period  \\\n",
       "0   90799112      14887404  2017-06   \n",
       "1  223724843      28777799  2018-11   \n",
       "2  104455523      14388026  2015-06   \n",
       "3   63994027      27820067  2019-02   \n",
       "4  166874656      22059080  2018-09   \n",
       "\n",
       "                                           Commodity Comm Code  \n",
       "0  WOV FABRIC, SYNTH STAPLE FIB NU 85% SYNTH ST F...      5512  \n",
       "1  ONIONS, SHALLOTS, GARLIC, LEEKS ETC, FR OR CHI...      0703  \n",
       "2  WOV FABRIC, SYNTH STAPLE FIB NU 85% SYNTH ST F...      5512  \n",
       "3  ONIONS, SHALLOTS, GARLIC, LEEKS ETC, FR OR CHI...      0703  \n",
       "4  ONIONS, SHALLOTS, GARLIC, LEEKS ETC, FR OR CHI...      0703  "
      ]
     },
     "execution_count": 155,
     "metadata": {},
     "output_type": "execute_result"
    }
   ],
   "source": [
    "Export.head()"
   ]
  },
  {
   "cell_type": "code",
   "execution_count": 293,
   "metadata": {},
   "outputs": [],
   "source": [
    "df_2015 = Export[Export[\"Comm Code\"].str.contains(\"2709\")]"
   ]
  },
  {
   "cell_type": "code",
   "execution_count": 294,
   "metadata": {},
   "outputs": [
    {
     "data": {
      "text/html": [
       "<div>\n",
       "<style scoped>\n",
       "    .dataframe tbody tr th:only-of-type {\n",
       "        vertical-align: middle;\n",
       "    }\n",
       "\n",
       "    .dataframe tbody tr th {\n",
       "        vertical-align: top;\n",
       "    }\n",
       "\n",
       "    .dataframe thead th {\n",
       "        text-align: right;\n",
       "    }\n",
       "</style>\n",
       "<table border=\"1\" class=\"dataframe\">\n",
       "  <thead>\n",
       "    <tr style=\"text-align: right;\">\n",
       "      <th></th>\n",
       "      <th>YTD Value</th>\n",
       "      <th>Monthly Value</th>\n",
       "      <th>Period</th>\n",
       "      <th>Commodity</th>\n",
       "      <th>Comm Code</th>\n",
       "    </tr>\n",
       "  </thead>\n",
       "  <tbody>\n",
       "    <tr>\n",
       "      <th>23690</th>\n",
       "      <td>2562276423</td>\n",
       "      <td>2562276423</td>\n",
       "      <td>2018-01-01</td>\n",
       "      <td>CRUDE OIL FROM PETROLEUM AND BITUMINOUS MINERALS</td>\n",
       "      <td>2709</td>\n",
       "    </tr>\n",
       "    <tr>\n",
       "      <th>23693</th>\n",
       "      <td>9169490982</td>\n",
       "      <td>4830376979</td>\n",
       "      <td>2019-02-01</td>\n",
       "      <td>CRUDE OIL FROM PETROLEUM AND BITUMINOUS MINERALS</td>\n",
       "      <td>2709</td>\n",
       "    </tr>\n",
       "    <tr>\n",
       "      <th>23694</th>\n",
       "      <td>42659658525</td>\n",
       "      <td>5006712609</td>\n",
       "      <td>2018-11-01</td>\n",
       "      <td>CRUDE OIL FROM PETROLEUM AND BITUMINOUS MINERALS</td>\n",
       "      <td>2709</td>\n",
       "    </tr>\n",
       "    <tr>\n",
       "      <th>56780</th>\n",
       "      <td>2449768671</td>\n",
       "      <td>746589663</td>\n",
       "      <td>2016-04-01</td>\n",
       "      <td>CRUDE OIL FROM PETROLEUM AND BITUMINOUS MINERALS</td>\n",
       "      <td>2709</td>\n",
       "    </tr>\n",
       "    <tr>\n",
       "      <th>56782</th>\n",
       "      <td>8238590229</td>\n",
       "      <td>472169266</td>\n",
       "      <td>2015-11-01</td>\n",
       "      <td>CRUDE OIL FROM PETROLEUM AND BITUMINOUS MINERALS</td>\n",
       "      <td>2709</td>\n",
       "    </tr>\n",
       "  </tbody>\n",
       "</table>\n",
       "</div>"
      ],
      "text/plain": [
       "         YTD Value  Monthly Value     Period  \\\n",
       "23690   2562276423     2562276423 2018-01-01   \n",
       "23693   9169490982     4830376979 2019-02-01   \n",
       "23694  42659658525     5006712609 2018-11-01   \n",
       "56780   2449768671      746589663 2016-04-01   \n",
       "56782   8238590229      472169266 2015-11-01   \n",
       "\n",
       "                                              Commodity Comm Code  \n",
       "23690  CRUDE OIL FROM PETROLEUM AND BITUMINOUS MINERALS      2709  \n",
       "23693  CRUDE OIL FROM PETROLEUM AND BITUMINOUS MINERALS      2709  \n",
       "23694  CRUDE OIL FROM PETROLEUM AND BITUMINOUS MINERALS      2709  \n",
       "56780  CRUDE OIL FROM PETROLEUM AND BITUMINOUS MINERALS      2709  \n",
       "56782  CRUDE OIL FROM PETROLEUM AND BITUMINOUS MINERALS      2709  "
      ]
     },
     "execution_count": 294,
     "metadata": {},
     "output_type": "execute_result"
    }
   ],
   "source": [
    "df_2015.head()"
   ]
  },
  {
   "cell_type": "code",
   "execution_count": 295,
   "metadata": {},
   "outputs": [],
   "source": [
    "Export[\"YTD Value\"] =pd.to_numeric(Export[\"YTD Value\"])\n",
    "Export[\"Monthly Value\"] =pd.to_numeric(Export[\"Monthly Value\"])\n",
    "Export[\"Period\"]=pd.to_datetime(Export.Period)"
   ]
  },
  {
   "cell_type": "code",
   "execution_count": 296,
   "metadata": {},
   "outputs": [
    {
     "name": "stderr",
     "output_type": "stream",
     "text": [
      "C:\\Users\\Bashira\\Anaconda3\\lib\\site-packages\\ipykernel_launcher.py:1: SettingWithCopyWarning: \n",
      "A value is trying to be set on a copy of a slice from a DataFrame.\n",
      "Try using .loc[row_indexer,col_indexer] = value instead\n",
      "\n",
      "See the caveats in the documentation: http://pandas.pydata.org/pandas-docs/stable/indexing.html#indexing-view-versus-copy\n",
      "  \"\"\"Entry point for launching an IPython kernel.\n",
      "C:\\Users\\Bashira\\Anaconda3\\lib\\site-packages\\ipykernel_launcher.py:2: SettingWithCopyWarning: \n",
      "A value is trying to be set on a copy of a slice from a DataFrame.\n",
      "Try using .loc[row_indexer,col_indexer] = value instead\n",
      "\n",
      "See the caveats in the documentation: http://pandas.pydata.org/pandas-docs/stable/indexing.html#indexing-view-versus-copy\n",
      "  \n"
     ]
    }
   ],
   "source": [
    "df_2015[\"YTD Value\"] =pd.to_numeric(df_2015[\"YTD Value\"])\n",
    "df_2015[\"Monthly Value\"] =pd.to_numeric(df_2015[\"Monthly Value\"])"
   ]
  },
  {
   "cell_type": "code",
   "execution_count": 297,
   "metadata": {},
   "outputs": [
    {
     "data": {
      "text/plain": [
       "102159562540"
      ]
     },
     "execution_count": 297,
     "metadata": {},
     "output_type": "execute_result"
    }
   ],
   "source": [
    "df_2015[\"Monthly Value\"].sum()"
   ]
  },
  {
   "cell_type": "code",
   "execution_count": 298,
   "metadata": {},
   "outputs": [
    {
     "data": {
      "text/html": [
       "<div>\n",
       "<style scoped>\n",
       "    .dataframe tbody tr th:only-of-type {\n",
       "        vertical-align: middle;\n",
       "    }\n",
       "\n",
       "    .dataframe tbody tr th {\n",
       "        vertical-align: top;\n",
       "    }\n",
       "\n",
       "    .dataframe thead th {\n",
       "        text-align: right;\n",
       "    }\n",
       "</style>\n",
       "<table border=\"1\" class=\"dataframe\">\n",
       "  <thead>\n",
       "    <tr style=\"text-align: right;\">\n",
       "      <th></th>\n",
       "      <th>YTD Value</th>\n",
       "      <th>Monthly Value</th>\n",
       "      <th>Period</th>\n",
       "      <th>Commodity</th>\n",
       "      <th>Comm Code</th>\n",
       "    </tr>\n",
       "  </thead>\n",
       "  <tbody>\n",
       "    <tr>\n",
       "      <th>23690</th>\n",
       "      <td>2562276423</td>\n",
       "      <td>2562276423</td>\n",
       "      <td>2018-01-01</td>\n",
       "      <td>CRUDE OIL FROM PETROLEUM AND BITUMINOUS MINERALS</td>\n",
       "      <td>2709</td>\n",
       "    </tr>\n",
       "    <tr>\n",
       "      <th>23693</th>\n",
       "      <td>9169490982</td>\n",
       "      <td>4830376979</td>\n",
       "      <td>2019-02-01</td>\n",
       "      <td>CRUDE OIL FROM PETROLEUM AND BITUMINOUS MINERALS</td>\n",
       "      <td>2709</td>\n",
       "    </tr>\n",
       "    <tr>\n",
       "      <th>23694</th>\n",
       "      <td>42659658525</td>\n",
       "      <td>5006712609</td>\n",
       "      <td>2018-11-01</td>\n",
       "      <td>CRUDE OIL FROM PETROLEUM AND BITUMINOUS MINERALS</td>\n",
       "      <td>2709</td>\n",
       "    </tr>\n",
       "    <tr>\n",
       "      <th>56780</th>\n",
       "      <td>2449768671</td>\n",
       "      <td>746589663</td>\n",
       "      <td>2016-04-01</td>\n",
       "      <td>CRUDE OIL FROM PETROLEUM AND BITUMINOUS MINERALS</td>\n",
       "      <td>2709</td>\n",
       "    </tr>\n",
       "    <tr>\n",
       "      <th>56782</th>\n",
       "      <td>8238590229</td>\n",
       "      <td>472169266</td>\n",
       "      <td>2015-11-01</td>\n",
       "      <td>CRUDE OIL FROM PETROLEUM AND BITUMINOUS MINERALS</td>\n",
       "      <td>2709</td>\n",
       "    </tr>\n",
       "  </tbody>\n",
       "</table>\n",
       "</div>"
      ],
      "text/plain": [
       "         YTD Value  Monthly Value     Period  \\\n",
       "23690   2562276423     2562276423 2018-01-01   \n",
       "23693   9169490982     4830376979 2019-02-01   \n",
       "23694  42659658525     5006712609 2018-11-01   \n",
       "56780   2449768671      746589663 2016-04-01   \n",
       "56782   8238590229      472169266 2015-11-01   \n",
       "\n",
       "                                              Commodity Comm Code  \n",
       "23690  CRUDE OIL FROM PETROLEUM AND BITUMINOUS MINERALS      2709  \n",
       "23693  CRUDE OIL FROM PETROLEUM AND BITUMINOUS MINERALS      2709  \n",
       "23694  CRUDE OIL FROM PETROLEUM AND BITUMINOUS MINERALS      2709  \n",
       "56780  CRUDE OIL FROM PETROLEUM AND BITUMINOUS MINERALS      2709  \n",
       "56782  CRUDE OIL FROM PETROLEUM AND BITUMINOUS MINERALS      2709  "
      ]
     },
     "execution_count": 298,
     "metadata": {},
     "output_type": "execute_result"
    }
   ],
   "source": [
    "df_2015.head()"
   ]
  },
  {
   "cell_type": "code",
   "execution_count": 162,
   "metadata": {},
   "outputs": [],
   "source": [
    "def commodity(trade,code):\n",
    "    data = trade[trade[\"Comm Code\"].str.contains(code)]\n",
    "    data = data.sort_values(by='Period', ascending=True)\n",
    "    data = data.reset_index()\n",
    "    \n",
    "    return data"
   ]
  },
  {
   "cell_type": "code",
   "execution_count": 231,
   "metadata": {},
   "outputs": [],
   "source": [
    "rice = commodity(Export,\"1006\")"
   ]
  },
  {
   "cell_type": "code",
   "execution_count": 232,
   "metadata": {
    "scrolled": true
   },
   "outputs": [
    {
     "data": {
      "text/html": [
       "<div>\n",
       "<style scoped>\n",
       "    .dataframe tbody tr th:only-of-type {\n",
       "        vertical-align: middle;\n",
       "    }\n",
       "\n",
       "    .dataframe tbody tr th {\n",
       "        vertical-align: top;\n",
       "    }\n",
       "\n",
       "    .dataframe thead th {\n",
       "        text-align: right;\n",
       "    }\n",
       "</style>\n",
       "<table border=\"1\" class=\"dataframe\">\n",
       "  <thead>\n",
       "    <tr style=\"text-align: right;\">\n",
       "      <th></th>\n",
       "      <th>index</th>\n",
       "      <th>YTD Value</th>\n",
       "      <th>Monthly Value</th>\n",
       "      <th>Period</th>\n",
       "      <th>Commodity</th>\n",
       "      <th>Comm Code</th>\n",
       "    </tr>\n",
       "  </thead>\n",
       "  <tbody>\n",
       "    <tr>\n",
       "      <th>0</th>\n",
       "      <td>49783</td>\n",
       "      <td>177701931</td>\n",
       "      <td>177701931</td>\n",
       "      <td>2015-01-01</td>\n",
       "      <td>RICE</td>\n",
       "      <td>1006</td>\n",
       "    </tr>\n",
       "    <tr>\n",
       "      <th>1</th>\n",
       "      <td>49788</td>\n",
       "      <td>301770716</td>\n",
       "      <td>124068785</td>\n",
       "      <td>2015-02-01</td>\n",
       "      <td>RICE</td>\n",
       "      <td>1006</td>\n",
       "    </tr>\n",
       "    <tr>\n",
       "      <th>2</th>\n",
       "      <td>4765</td>\n",
       "      <td>473299026</td>\n",
       "      <td>171528310</td>\n",
       "      <td>2015-03-01</td>\n",
       "      <td>RICE</td>\n",
       "      <td>1006</td>\n",
       "    </tr>\n",
       "    <tr>\n",
       "      <th>3</th>\n",
       "      <td>49834</td>\n",
       "      <td>635716212</td>\n",
       "      <td>162417186</td>\n",
       "      <td>2015-04-01</td>\n",
       "      <td>RICE</td>\n",
       "      <td>1006</td>\n",
       "    </tr>\n",
       "    <tr>\n",
       "      <th>4</th>\n",
       "      <td>49795</td>\n",
       "      <td>836757931</td>\n",
       "      <td>201041719</td>\n",
       "      <td>2015-05-01</td>\n",
       "      <td>RICE</td>\n",
       "      <td>1006</td>\n",
       "    </tr>\n",
       "  </tbody>\n",
       "</table>\n",
       "</div>"
      ],
      "text/plain": [
       "   index  YTD Value  Monthly Value     Period Commodity Comm Code\n",
       "0  49783  177701931      177701931 2015-01-01      RICE      1006\n",
       "1  49788  301770716      124068785 2015-02-01      RICE      1006\n",
       "2   4765  473299026      171528310 2015-03-01      RICE      1006\n",
       "3  49834  635716212      162417186 2015-04-01      RICE      1006\n",
       "4  49795  836757931      201041719 2015-05-01      RICE      1006"
      ]
     },
     "execution_count": 232,
     "metadata": {},
     "output_type": "execute_result"
    }
   ],
   "source": [
    "rice.head()"
   ]
  },
  {
   "cell_type": "code",
   "execution_count": 233,
   "metadata": {},
   "outputs": [
    {
     "data": {
      "text/html": [
       "<div>\n",
       "<style scoped>\n",
       "    .dataframe tbody tr th:only-of-type {\n",
       "        vertical-align: middle;\n",
       "    }\n",
       "\n",
       "    .dataframe tbody tr th {\n",
       "        vertical-align: top;\n",
       "    }\n",
       "\n",
       "    .dataframe thead th {\n",
       "        text-align: right;\n",
       "    }\n",
       "</style>\n",
       "<table border=\"1\" class=\"dataframe\">\n",
       "  <thead>\n",
       "    <tr style=\"text-align: right;\">\n",
       "      <th></th>\n",
       "      <th>Monthly Value</th>\n",
       "    </tr>\n",
       "    <tr>\n",
       "      <th>Period</th>\n",
       "      <th></th>\n",
       "    </tr>\n",
       "  </thead>\n",
       "  <tbody>\n",
       "    <tr>\n",
       "      <th>2015-01-01</th>\n",
       "      <td>177701931</td>\n",
       "    </tr>\n",
       "    <tr>\n",
       "      <th>2015-02-01</th>\n",
       "      <td>124068785</td>\n",
       "    </tr>\n",
       "    <tr>\n",
       "      <th>2015-03-01</th>\n",
       "      <td>171528310</td>\n",
       "    </tr>\n",
       "    <tr>\n",
       "      <th>2015-04-01</th>\n",
       "      <td>162417186</td>\n",
       "    </tr>\n",
       "    <tr>\n",
       "      <th>2015-05-01</th>\n",
       "      <td>201041719</td>\n",
       "    </tr>\n",
       "  </tbody>\n",
       "</table>\n",
       "</div>"
      ],
      "text/plain": [
       "            Monthly Value\n",
       "Period                   \n",
       "2015-01-01      177701931\n",
       "2015-02-01      124068785\n",
       "2015-03-01      171528310\n",
       "2015-04-01      162417186\n",
       "2015-05-01      201041719"
      ]
     },
     "execution_count": 233,
     "metadata": {},
     "output_type": "execute_result"
    }
   ],
   "source": [
    "trade = rice[[\"Period\", \"Monthly Value\"]]\n",
    "trade = trade.set_index('Period')\n",
    "trade.head()"
   ]
  },
  {
   "cell_type": "code",
   "execution_count": 234,
   "metadata": {},
   "outputs": [
    {
     "data": {
      "text/plain": [
       "<matplotlib.axes._subplots.AxesSubplot at 0x20cfc2ea2b0>"
      ]
     },
     "execution_count": 234,
     "metadata": {},
     "output_type": "execute_result"
    },
    {
     "data": {
      "image/png": "[encoded data removed]",
      "text/plain": [
       "<Figure size 432x288 with 1 Axes>"
      ]
     },
     "metadata": {
      "needs_background": "light"
     },
     "output_type": "display_data"
    }
   ],
   "source": [
    "trade.plot()"
   ]
  },
  {
   "cell_type": "code",
   "execution_count": 169,
   "metadata": {},
   "outputs": [
    {
     "data": {
      "text/html": [
       "<div>\n",
       "<style scoped>\n",
       "    .dataframe tbody tr th:only-of-type {\n",
       "        vertical-align: middle;\n",
       "    }\n",
       "\n",
       "    .dataframe tbody tr th {\n",
       "        vertical-align: top;\n",
       "    }\n",
       "\n",
       "    .dataframe thead th {\n",
       "        text-align: right;\n",
       "    }\n",
       "</style>\n",
       "<table border=\"1\" class=\"dataframe\">\n",
       "  <thead>\n",
       "    <tr style=\"text-align: right;\">\n",
       "      <th></th>\n",
       "      <th>Monthly Value</th>\n",
       "    </tr>\n",
       "  </thead>\n",
       "  <tbody>\n",
       "    <tr>\n",
       "      <th>count</th>\n",
       "      <td>5.100000e+01</td>\n",
       "    </tr>\n",
       "    <tr>\n",
       "      <th>mean</th>\n",
       "      <td>6.439993e+09</td>\n",
       "    </tr>\n",
       "    <tr>\n",
       "      <th>std</th>\n",
       "      <td>1.135977e+09</td>\n",
       "    </tr>\n",
       "    <tr>\n",
       "      <th>min</th>\n",
       "      <td>4.036153e+09</td>\n",
       "    </tr>\n",
       "    <tr>\n",
       "      <th>25%</th>\n",
       "      <td>5.608726e+09</td>\n",
       "    </tr>\n",
       "    <tr>\n",
       "      <th>50%</th>\n",
       "      <td>6.278796e+09</td>\n",
       "    </tr>\n",
       "    <tr>\n",
       "      <th>75%</th>\n",
       "      <td>7.318509e+09</td>\n",
       "    </tr>\n",
       "    <tr>\n",
       "      <th>max</th>\n",
       "      <td>9.015393e+09</td>\n",
       "    </tr>\n",
       "  </tbody>\n",
       "</table>\n",
       "</div>"
      ],
      "text/plain": [
       "       Monthly Value\n",
       "count   5.100000e+01\n",
       "mean    6.439993e+09\n",
       "std     1.135977e+09\n",
       "min     4.036153e+09\n",
       "25%     5.608726e+09\n",
       "50%     6.278796e+09\n",
       "75%     7.318509e+09\n",
       "max     9.015393e+09"
      ]
     },
     "execution_count": 169,
     "metadata": {},
     "output_type": "execute_result"
    }
   ],
   "source": [
    "trade.describe()"
   ]
  },
  {
   "cell_type": "code",
   "execution_count": 39,
   "metadata": {},
   "outputs": [
    {
     "name": "stdout",
     "output_type": "stream",
     "text": [
      "Object `conda install pystan -c conda-forge` not found.\n",
      "Object `conda install -c conda-forge fbprophet` not found.\n"
     ]
    }
   ],
   "source": [
    "# fbProphet Model \n",
    "?conda install pystan -c conda-forge\n",
    "?conda install -c conda-forge fbprophet"
   ]
  },
  {
   "cell_type": "code",
   "execution_count": 388,
   "metadata": {},
   "outputs": [
    {
     "data": {
      "text/html": [
       "<div>\n",
       "<style scoped>\n",
       "    .dataframe tbody tr th:only-of-type {\n",
       "        vertical-align: middle;\n",
       "    }\n",
       "\n",
       "    .dataframe tbody tr th {\n",
       "        vertical-align: top;\n",
       "    }\n",
       "\n",
       "    .dataframe thead th {\n",
       "        text-align: right;\n",
       "    }\n",
       "</style>\n",
       "<table border=\"1\" class=\"dataframe\">\n",
       "  <thead>\n",
       "    <tr style=\"text-align: right;\">\n",
       "      <th></th>\n",
       "      <th>index</th>\n",
       "      <th>YTD Value</th>\n",
       "      <th>Monthly Value</th>\n",
       "      <th>Period</th>\n",
       "      <th>Commodity</th>\n",
       "      <th>Comm Code</th>\n",
       "    </tr>\n",
       "  </thead>\n",
       "  <tbody>\n",
       "    <tr>\n",
       "      <th>0</th>\n",
       "      <td>34288</td>\n",
       "      <td>6654682411</td>\n",
       "      <td>6654682411</td>\n",
       "      <td>2015-01-01</td>\n",
       "      <td>OIL (NOT CRUDE) FROM PETR</td>\n",
       "      <td>2710</td>\n",
       "    </tr>\n",
       "    <tr>\n",
       "      <th>1</th>\n",
       "      <td>34248</td>\n",
       "      <td>12385168081</td>\n",
       "      <td>5730485670</td>\n",
       "      <td>2015-02-01</td>\n",
       "      <td>OIL (NOT CRUDE) FROM PETR</td>\n",
       "      <td>2710</td>\n",
       "    </tr>\n",
       "    <tr>\n",
       "      <th>2</th>\n",
       "      <td>34273</td>\n",
       "      <td>17952498009</td>\n",
       "      <td>5567329928</td>\n",
       "      <td>2015-03-01</td>\n",
       "      <td>OIL (NOT CRUDE) FROM PETR</td>\n",
       "      <td>2710</td>\n",
       "    </tr>\n",
       "    <tr>\n",
       "      <th>3</th>\n",
       "      <td>34284</td>\n",
       "      <td>24451111839</td>\n",
       "      <td>6498613830</td>\n",
       "      <td>2015-04-01</td>\n",
       "      <td>OIL (NOT CRUDE) FROM PETR</td>\n",
       "      <td>2710</td>\n",
       "    </tr>\n",
       "    <tr>\n",
       "      <th>4</th>\n",
       "      <td>34263</td>\n",
       "      <td>31588124399</td>\n",
       "      <td>7137012560</td>\n",
       "      <td>2015-05-01</td>\n",
       "      <td>OIL (NOT CRUDE) FROM PETR</td>\n",
       "      <td>2710</td>\n",
       "    </tr>\n",
       "  </tbody>\n",
       "</table>\n",
       "</div>"
      ],
      "text/plain": [
       "   index    YTD Value  Monthly Value     Period                  Commodity  \\\n",
       "0  34288   6654682411     6654682411 2015-01-01  OIL (NOT CRUDE) FROM PETR   \n",
       "1  34248  12385168081     5730485670 2015-02-01  OIL (NOT CRUDE) FROM PETR   \n",
       "2  34273  17952498009     5567329928 2015-03-01  OIL (NOT CRUDE) FROM PETR   \n",
       "3  34284  24451111839     6498613830 2015-04-01  OIL (NOT CRUDE) FROM PETR   \n",
       "4  34263  31588124399     7137012560 2015-05-01  OIL (NOT CRUDE) FROM PETR   \n",
       "\n",
       "  Comm Code  \n",
       "0      2710  \n",
       "1      2710  \n",
       "2      2710  \n",
       "3      2710  \n",
       "4      2710  "
      ]
     },
     "execution_count": 388,
     "metadata": {},
     "output_type": "execute_result"
    }
   ],
   "source": [
    "rice = commodity(Export,\"2710\")\n",
    "rice.head()"
   ]
  },
  {
   "cell_type": "code",
   "execution_count": 389,
   "metadata": {},
   "outputs": [
    {
     "data": {
      "text/html": [
       "<div>\n",
       "<style scoped>\n",
       "    .dataframe tbody tr th:only-of-type {\n",
       "        vertical-align: middle;\n",
       "    }\n",
       "\n",
       "    .dataframe tbody tr th {\n",
       "        vertical-align: top;\n",
       "    }\n",
       "\n",
       "    .dataframe thead th {\n",
       "        text-align: right;\n",
       "    }\n",
       "</style>\n",
       "<table border=\"1\" class=\"dataframe\">\n",
       "  <thead>\n",
       "    <tr style=\"text-align: right;\">\n",
       "      <th></th>\n",
       "      <th>Monthly Value</th>\n",
       "    </tr>\n",
       "    <tr>\n",
       "      <th>Period</th>\n",
       "      <th></th>\n",
       "    </tr>\n",
       "  </thead>\n",
       "  <tbody>\n",
       "    <tr>\n",
       "      <th>2015-01-01</th>\n",
       "      <td>6654682411</td>\n",
       "    </tr>\n",
       "    <tr>\n",
       "      <th>2015-02-01</th>\n",
       "      <td>5730485670</td>\n",
       "    </tr>\n",
       "    <tr>\n",
       "      <th>2015-03-01</th>\n",
       "      <td>5567329928</td>\n",
       "    </tr>\n",
       "    <tr>\n",
       "      <th>2015-04-01</th>\n",
       "      <td>6498613830</td>\n",
       "    </tr>\n",
       "    <tr>\n",
       "      <th>2015-05-01</th>\n",
       "      <td>7137012560</td>\n",
       "    </tr>\n",
       "  </tbody>\n",
       "</table>\n",
       "</div>"
      ],
      "text/plain": [
       "            Monthly Value\n",
       "Period                   \n",
       "2015-01-01     6654682411\n",
       "2015-02-01     5730485670\n",
       "2015-03-01     5567329928\n",
       "2015-04-01     6498613830\n",
       "2015-05-01     7137012560"
      ]
     },
     "execution_count": 389,
     "metadata": {},
     "output_type": "execute_result"
    }
   ],
   "source": [
    "trade = rice[[\"Period\", \"Monthly Value\"]]\n",
    "trade = trade.set_index('Period')\n",
    "trade.head()"
   ]
  },
  {
   "cell_type": "code",
   "execution_count": null,
   "metadata": {},
   "outputs": [],
   "source": []
  },
  {
   "cell_type": "code",
   "execution_count": 390,
   "metadata": {},
   "outputs": [],
   "source": [
    "import fbprophet"
   ]
  },
  {
   "cell_type": "code",
   "execution_count": 391,
   "metadata": {},
   "outputs": [],
   "source": [
    "trade = trade.reset_index()\n"
   ]
  },
  {
   "cell_type": "code",
   "execution_count": 392,
   "metadata": {},
   "outputs": [
    {
     "data": {
      "text/html": [
       "<div>\n",
       "<style scoped>\n",
       "    .dataframe tbody tr th:only-of-type {\n",
       "        vertical-align: middle;\n",
       "    }\n",
       "\n",
       "    .dataframe tbody tr th {\n",
       "        vertical-align: top;\n",
       "    }\n",
       "\n",
       "    .dataframe thead th {\n",
       "        text-align: right;\n",
       "    }\n",
       "</style>\n",
       "<table border=\"1\" class=\"dataframe\">\n",
       "  <thead>\n",
       "    <tr style=\"text-align: right;\">\n",
       "      <th></th>\n",
       "      <th>Period</th>\n",
       "      <th>Monthly Value</th>\n",
       "    </tr>\n",
       "  </thead>\n",
       "  <tbody>\n",
       "    <tr>\n",
       "      <th>0</th>\n",
       "      <td>2015-01-01</td>\n",
       "      <td>6654682411</td>\n",
       "    </tr>\n",
       "    <tr>\n",
       "      <th>1</th>\n",
       "      <td>2015-02-01</td>\n",
       "      <td>5730485670</td>\n",
       "    </tr>\n",
       "    <tr>\n",
       "      <th>2</th>\n",
       "      <td>2015-03-01</td>\n",
       "      <td>5567329928</td>\n",
       "    </tr>\n",
       "    <tr>\n",
       "      <th>3</th>\n",
       "      <td>2015-04-01</td>\n",
       "      <td>6498613830</td>\n",
       "    </tr>\n",
       "    <tr>\n",
       "      <th>4</th>\n",
       "      <td>2015-05-01</td>\n",
       "      <td>7137012560</td>\n",
       "    </tr>\n",
       "  </tbody>\n",
       "</table>\n",
       "</div>"
      ],
      "text/plain": [
       "      Period  Monthly Value\n",
       "0 2015-01-01     6654682411\n",
       "1 2015-02-01     5730485670\n",
       "2 2015-03-01     5567329928\n",
       "3 2015-04-01     6498613830\n",
       "4 2015-05-01     7137012560"
      ]
     },
     "execution_count": 392,
     "metadata": {},
     "output_type": "execute_result"
    }
   ],
   "source": [
    "trade.head()"
   ]
  },
  {
   "cell_type": "code",
   "execution_count": null,
   "metadata": {},
   "outputs": [],
   "source": []
  },
  {
   "cell_type": "code",
   "execution_count": 393,
   "metadata": {},
   "outputs": [
    {
     "data": {
      "text/plain": [
       "pandas.core.series.Series"
      ]
     },
     "execution_count": 393,
     "metadata": {},
     "output_type": "execute_result"
    }
   ],
   "source": [
    "type(trade.Period)"
   ]
  },
  {
   "cell_type": "code",
   "execution_count": 394,
   "metadata": {},
   "outputs": [],
   "source": [
    "trade_test = trade.rename(columns={'Period': 'ds', 'Monthly Value': 'y'})"
   ]
  },
  {
   "cell_type": "code",
   "execution_count": 395,
   "metadata": {},
   "outputs": [],
   "source": [
    "trade_test.y = trade_test.y/1000000000\n"
   ]
  },
  {
   "cell_type": "code",
   "execution_count": 396,
   "metadata": {},
   "outputs": [
    {
     "data": {
      "text/html": [
       "<div>\n",
       "<style scoped>\n",
       "    .dataframe tbody tr th:only-of-type {\n",
       "        vertical-align: middle;\n",
       "    }\n",
       "\n",
       "    .dataframe tbody tr th {\n",
       "        vertical-align: top;\n",
       "    }\n",
       "\n",
       "    .dataframe thead th {\n",
       "        text-align: right;\n",
       "    }\n",
       "</style>\n",
       "<table border=\"1\" class=\"dataframe\">\n",
       "  <thead>\n",
       "    <tr style=\"text-align: right;\">\n",
       "      <th></th>\n",
       "      <th>ds</th>\n",
       "      <th>y</th>\n",
       "    </tr>\n",
       "  </thead>\n",
       "  <tbody>\n",
       "    <tr>\n",
       "      <th>0</th>\n",
       "      <td>2015-01-01</td>\n",
       "      <td>6.654682</td>\n",
       "    </tr>\n",
       "    <tr>\n",
       "      <th>1</th>\n",
       "      <td>2015-02-01</td>\n",
       "      <td>5.730486</td>\n",
       "    </tr>\n",
       "    <tr>\n",
       "      <th>2</th>\n",
       "      <td>2015-03-01</td>\n",
       "      <td>5.567330</td>\n",
       "    </tr>\n",
       "    <tr>\n",
       "      <th>3</th>\n",
       "      <td>2015-04-01</td>\n",
       "      <td>6.498614</td>\n",
       "    </tr>\n",
       "    <tr>\n",
       "      <th>4</th>\n",
       "      <td>2015-05-01</td>\n",
       "      <td>7.137013</td>\n",
       "    </tr>\n",
       "  </tbody>\n",
       "</table>\n",
       "</div>"
      ],
      "text/plain": [
       "          ds         y\n",
       "0 2015-01-01  6.654682\n",
       "1 2015-02-01  5.730486\n",
       "2 2015-03-01  5.567330\n",
       "3 2015-04-01  6.498614\n",
       "4 2015-05-01  7.137013"
      ]
     },
     "execution_count": 396,
     "metadata": {},
     "output_type": "execute_result"
    }
   ],
   "source": [
    "trade_test.head()"
   ]
  },
  {
   "cell_type": "code",
   "execution_count": 397,
   "metadata": {},
   "outputs": [
    {
     "name": "stderr",
     "output_type": "stream",
     "text": [
      "C:\\Users\\Bashira\\Anaconda3\\lib\\site-packages\\fbprophet\\forecaster.py:880: FutureWarning: Series.nonzero() is deprecated and will be removed in a future version.Use Series.to_numpy().nonzero() instead\n",
      "  min_dt = dt.iloc[dt.nonzero()[0]].min()\n",
      "INFO:fbprophet:Disabling weekly seasonality. Run prophet with weekly_seasonality=True to override this.\n",
      "INFO:fbprophet:Disabling daily seasonality. Run prophet with daily_seasonality=True to override this.\n",
      "C:\\Users\\Bashira\\Anaconda3\\lib\\site-packages\\pystan\\misc.py:399: FutureWarning: Conversion of the second argument of issubdtype from `float` to `np.floating` is deprecated. In future, it will be treated as `np.float64 == np.dtype(float).type`.\n",
      "  elif np.issubdtype(np.asarray(v).dtype, float):\n"
     ]
    },
    {
     "data": {
      "text/plain": [
       "<fbprophet.forecaster.Prophet at 0x20cfd286b70>"
      ]
     },
     "execution_count": 397,
     "metadata": {},
     "output_type": "execute_result"
    }
   ],
   "source": [
    "trade_prophet = fbprophet.Prophet(changepoint_prior_scale=0.15)\n",
    "trade_prophet.fit(trade_test)"
   ]
  },
  {
   "cell_type": "code",
   "execution_count": 398,
   "metadata": {},
   "outputs": [],
   "source": [
    "trade_forecast = trade_prophet.make_future_dataframe(periods=12, freq='M')"
   ]
  },
  {
   "cell_type": "code",
   "execution_count": 399,
   "metadata": {},
   "outputs": [],
   "source": [
    "trade_forecast = trade_prophet.predict(trade_forecast)"
   ]
  },
  {
   "cell_type": "code",
   "execution_count": 400,
   "metadata": {},
   "outputs": [
    {
     "data": {
      "text/html": [
       "<div>\n",
       "<style scoped>\n",
       "    .dataframe tbody tr th:only-of-type {\n",
       "        vertical-align: middle;\n",
       "    }\n",
       "\n",
       "    .dataframe tbody tr th {\n",
       "        vertical-align: top;\n",
       "    }\n",
       "\n",
       "    .dataframe thead th {\n",
       "        text-align: right;\n",
       "    }\n",
       "</style>\n",
       "<table border=\"1\" class=\"dataframe\">\n",
       "  <thead>\n",
       "    <tr style=\"text-align: right;\">\n",
       "      <th></th>\n",
       "      <th>ds</th>\n",
       "      <th>trend</th>\n",
       "      <th>yhat_lower</th>\n",
       "      <th>yhat_upper</th>\n",
       "      <th>trend_lower</th>\n",
       "      <th>trend_upper</th>\n",
       "      <th>additive_terms</th>\n",
       "      <th>additive_terms_lower</th>\n",
       "      <th>additive_terms_upper</th>\n",
       "      <th>yearly</th>\n",
       "      <th>yearly_lower</th>\n",
       "      <th>yearly_upper</th>\n",
       "      <th>multiplicative_terms</th>\n",
       "      <th>multiplicative_terms_lower</th>\n",
       "      <th>multiplicative_terms_upper</th>\n",
       "      <th>yhat</th>\n",
       "    </tr>\n",
       "  </thead>\n",
       "  <tbody>\n",
       "    <tr>\n",
       "      <th>0</th>\n",
       "      <td>2015-01-01</td>\n",
       "      <td>6.695937</td>\n",
       "      <td>5.982645</td>\n",
       "      <td>6.872325</td>\n",
       "      <td>6.695937</td>\n",
       "      <td>6.695937</td>\n",
       "      <td>-0.269216</td>\n",
       "      <td>-0.269216</td>\n",
       "      <td>-0.269216</td>\n",
       "      <td>-0.269216</td>\n",
       "      <td>-0.269216</td>\n",
       "      <td>-0.269216</td>\n",
       "      <td>0.0</td>\n",
       "      <td>0.0</td>\n",
       "      <td>0.0</td>\n",
       "      <td>6.426721</td>\n",
       "    </tr>\n",
       "    <tr>\n",
       "      <th>1</th>\n",
       "      <td>2015-02-01</td>\n",
       "      <td>6.566331</td>\n",
       "      <td>5.201114</td>\n",
       "      <td>6.096805</td>\n",
       "      <td>6.566331</td>\n",
       "      <td>6.566331</td>\n",
       "      <td>-0.927073</td>\n",
       "      <td>-0.927073</td>\n",
       "      <td>-0.927073</td>\n",
       "      <td>-0.927073</td>\n",
       "      <td>-0.927073</td>\n",
       "      <td>-0.927073</td>\n",
       "      <td>0.0</td>\n",
       "      <td>0.0</td>\n",
       "      <td>0.0</td>\n",
       "      <td>5.639258</td>\n",
       "    </tr>\n",
       "    <tr>\n",
       "      <th>2</th>\n",
       "      <td>2015-03-01</td>\n",
       "      <td>6.449268</td>\n",
       "      <td>5.572440</td>\n",
       "      <td>6.441752</td>\n",
       "      <td>6.449268</td>\n",
       "      <td>6.449268</td>\n",
       "      <td>-0.429103</td>\n",
       "      <td>-0.429103</td>\n",
       "      <td>-0.429103</td>\n",
       "      <td>-0.429103</td>\n",
       "      <td>-0.429103</td>\n",
       "      <td>-0.429103</td>\n",
       "      <td>0.0</td>\n",
       "      <td>0.0</td>\n",
       "      <td>0.0</td>\n",
       "      <td>6.020165</td>\n",
       "    </tr>\n",
       "    <tr>\n",
       "      <th>3</th>\n",
       "      <td>2015-04-01</td>\n",
       "      <td>6.319662</td>\n",
       "      <td>6.386201</td>\n",
       "      <td>7.280862</td>\n",
       "      <td>6.319662</td>\n",
       "      <td>6.319662</td>\n",
       "      <td>0.508963</td>\n",
       "      <td>0.508963</td>\n",
       "      <td>0.508963</td>\n",
       "      <td>0.508963</td>\n",
       "      <td>0.508963</td>\n",
       "      <td>0.508963</td>\n",
       "      <td>0.0</td>\n",
       "      <td>0.0</td>\n",
       "      <td>0.0</td>\n",
       "      <td>6.828625</td>\n",
       "    </tr>\n",
       "    <tr>\n",
       "      <th>4</th>\n",
       "      <td>2015-05-01</td>\n",
       "      <td>6.194237</td>\n",
       "      <td>6.274816</td>\n",
       "      <td>7.138786</td>\n",
       "      <td>6.194237</td>\n",
       "      <td>6.194237</td>\n",
       "      <td>0.524224</td>\n",
       "      <td>0.524224</td>\n",
       "      <td>0.524224</td>\n",
       "      <td>0.524224</td>\n",
       "      <td>0.524224</td>\n",
       "      <td>0.524224</td>\n",
       "      <td>0.0</td>\n",
       "      <td>0.0</td>\n",
       "      <td>0.0</td>\n",
       "      <td>6.718462</td>\n",
       "    </tr>\n",
       "  </tbody>\n",
       "</table>\n",
       "</div>"
      ],
      "text/plain": [
       "          ds     trend  yhat_lower  yhat_upper  trend_lower  trend_upper  \\\n",
       "0 2015-01-01  6.695937    5.982645    6.872325     6.695937     6.695937   \n",
       "1 2015-02-01  6.566331    5.201114    6.096805     6.566331     6.566331   \n",
       "2 2015-03-01  6.449268    5.572440    6.441752     6.449268     6.449268   \n",
       "3 2015-04-01  6.319662    6.386201    7.280862     6.319662     6.319662   \n",
       "4 2015-05-01  6.194237    6.274816    7.138786     6.194237     6.194237   \n",
       "\n",
       "   additive_terms  additive_terms_lower  additive_terms_upper    yearly  \\\n",
       "0       -0.269216             -0.269216             -0.269216 -0.269216   \n",
       "1       -0.927073             -0.927073             -0.927073 -0.927073   \n",
       "2       -0.429103             -0.429103             -0.429103 -0.429103   \n",
       "3        0.508963              0.508963              0.508963  0.508963   \n",
       "4        0.524224              0.524224              0.524224  0.524224   \n",
       "\n",
       "   yearly_lower  yearly_upper  multiplicative_terms  \\\n",
       "0     -0.269216     -0.269216                   0.0   \n",
       "1     -0.927073     -0.927073                   0.0   \n",
       "2     -0.429103     -0.429103                   0.0   \n",
       "3      0.508963      0.508963                   0.0   \n",
       "4      0.524224      0.524224                   0.0   \n",
       "\n",
       "   multiplicative_terms_lower  multiplicative_terms_upper      yhat  \n",
       "0                         0.0                         0.0  6.426721  \n",
       "1                         0.0                         0.0  5.639258  \n",
       "2                         0.0                         0.0  6.020165  \n",
       "3                         0.0                         0.0  6.828625  \n",
       "4                         0.0                         0.0  6.718462  "
      ]
     },
     "execution_count": 400,
     "metadata": {},
     "output_type": "execute_result"
    }
   ],
   "source": [
    "trade_forecast.head()"
   ]
  },
  {
   "cell_type": "code",
   "execution_count": 401,
   "metadata": {},
   "outputs": [
    {
     "data": {
      "text/plain": [
       "<matplotlib.legend.Legend at 0x20cfd2c4780>"
      ]
     },
     "execution_count": 401,
     "metadata": {},
     "output_type": "execute_result"
    },
    {
     "data": {
      "image/png": "[encoded data removed]",
      "text/plain": [
       "<Figure size 720x432 with 1 Axes>"
      ]
     },
     "metadata": {},
     "output_type": "display_data"
    }
   ],
   "source": [
    "trade_prophet.plot(trade_forecast, xlabel = 'Date', ylabel = 'Trade in (Billions $)')\n",
    "plt.title('Modeling with Prophet',fontsize=20);\n",
    "plt.gca().legend((\"Actual values\", \"Forecasted values\"),fontsize=15)"
   ]
  },
  {
   "cell_type": "code",
   "execution_count": 402,
   "metadata": {},
   "outputs": [],
   "source": [
    "from sklearn.metrics import mean_squared_error, r2_score, mean_absolute_error"
   ]
  },
  {
   "cell_type": "code",
   "execution_count": 403,
   "metadata": {},
   "outputs": [
    {
     "data": {
      "text/html": [
       "<div>\n",
       "<style scoped>\n",
       "    .dataframe tbody tr th:only-of-type {\n",
       "        vertical-align: middle;\n",
       "    }\n",
       "\n",
       "    .dataframe tbody tr th {\n",
       "        vertical-align: top;\n",
       "    }\n",
       "\n",
       "    .dataframe thead th {\n",
       "        text-align: right;\n",
       "    }\n",
       "</style>\n",
       "<table border=\"1\" class=\"dataframe\">\n",
       "  <thead>\n",
       "    <tr style=\"text-align: right;\">\n",
       "      <th></th>\n",
       "      <th>ds</th>\n",
       "      <th>trend</th>\n",
       "      <th>yhat_lower</th>\n",
       "      <th>yhat_upper</th>\n",
       "      <th>trend_lower</th>\n",
       "      <th>trend_upper</th>\n",
       "      <th>additive_terms</th>\n",
       "      <th>additive_terms_lower</th>\n",
       "      <th>additive_terms_upper</th>\n",
       "      <th>yearly</th>\n",
       "      <th>yearly_lower</th>\n",
       "      <th>yearly_upper</th>\n",
       "      <th>multiplicative_terms</th>\n",
       "      <th>multiplicative_terms_lower</th>\n",
       "      <th>multiplicative_terms_upper</th>\n",
       "      <th>yhat</th>\n",
       "    </tr>\n",
       "  </thead>\n",
       "  <tbody>\n",
       "    <tr>\n",
       "      <th>0</th>\n",
       "      <td>2015-01-01</td>\n",
       "      <td>6.695937</td>\n",
       "      <td>5.982645</td>\n",
       "      <td>6.872325</td>\n",
       "      <td>6.695937</td>\n",
       "      <td>6.695937</td>\n",
       "      <td>-0.269216</td>\n",
       "      <td>-0.269216</td>\n",
       "      <td>-0.269216</td>\n",
       "      <td>-0.269216</td>\n",
       "      <td>-0.269216</td>\n",
       "      <td>-0.269216</td>\n",
       "      <td>0.0</td>\n",
       "      <td>0.0</td>\n",
       "      <td>0.0</td>\n",
       "      <td>6.426721</td>\n",
       "    </tr>\n",
       "    <tr>\n",
       "      <th>1</th>\n",
       "      <td>2015-02-01</td>\n",
       "      <td>6.566331</td>\n",
       "      <td>5.201114</td>\n",
       "      <td>6.096805</td>\n",
       "      <td>6.566331</td>\n",
       "      <td>6.566331</td>\n",
       "      <td>-0.927073</td>\n",
       "      <td>-0.927073</td>\n",
       "      <td>-0.927073</td>\n",
       "      <td>-0.927073</td>\n",
       "      <td>-0.927073</td>\n",
       "      <td>-0.927073</td>\n",
       "      <td>0.0</td>\n",
       "      <td>0.0</td>\n",
       "      <td>0.0</td>\n",
       "      <td>5.639258</td>\n",
       "    </tr>\n",
       "    <tr>\n",
       "      <th>2</th>\n",
       "      <td>2015-03-01</td>\n",
       "      <td>6.449268</td>\n",
       "      <td>5.572440</td>\n",
       "      <td>6.441752</td>\n",
       "      <td>6.449268</td>\n",
       "      <td>6.449268</td>\n",
       "      <td>-0.429103</td>\n",
       "      <td>-0.429103</td>\n",
       "      <td>-0.429103</td>\n",
       "      <td>-0.429103</td>\n",
       "      <td>-0.429103</td>\n",
       "      <td>-0.429103</td>\n",
       "      <td>0.0</td>\n",
       "      <td>0.0</td>\n",
       "      <td>0.0</td>\n",
       "      <td>6.020165</td>\n",
       "    </tr>\n",
       "    <tr>\n",
       "      <th>3</th>\n",
       "      <td>2015-04-01</td>\n",
       "      <td>6.319662</td>\n",
       "      <td>6.386201</td>\n",
       "      <td>7.280862</td>\n",
       "      <td>6.319662</td>\n",
       "      <td>6.319662</td>\n",
       "      <td>0.508963</td>\n",
       "      <td>0.508963</td>\n",
       "      <td>0.508963</td>\n",
       "      <td>0.508963</td>\n",
       "      <td>0.508963</td>\n",
       "      <td>0.508963</td>\n",
       "      <td>0.0</td>\n",
       "      <td>0.0</td>\n",
       "      <td>0.0</td>\n",
       "      <td>6.828625</td>\n",
       "    </tr>\n",
       "    <tr>\n",
       "      <th>4</th>\n",
       "      <td>2015-05-01</td>\n",
       "      <td>6.194237</td>\n",
       "      <td>6.274816</td>\n",
       "      <td>7.138786</td>\n",
       "      <td>6.194237</td>\n",
       "      <td>6.194237</td>\n",
       "      <td>0.524224</td>\n",
       "      <td>0.524224</td>\n",
       "      <td>0.524224</td>\n",
       "      <td>0.524224</td>\n",
       "      <td>0.524224</td>\n",
       "      <td>0.524224</td>\n",
       "      <td>0.0</td>\n",
       "      <td>0.0</td>\n",
       "      <td>0.0</td>\n",
       "      <td>6.718462</td>\n",
       "    </tr>\n",
       "  </tbody>\n",
       "</table>\n",
       "</div>"
      ],
      "text/plain": [
       "          ds     trend  yhat_lower  yhat_upper  trend_lower  trend_upper  \\\n",
       "0 2015-01-01  6.695937    5.982645    6.872325     6.695937     6.695937   \n",
       "1 2015-02-01  6.566331    5.201114    6.096805     6.566331     6.566331   \n",
       "2 2015-03-01  6.449268    5.572440    6.441752     6.449268     6.449268   \n",
       "3 2015-04-01  6.319662    6.386201    7.280862     6.319662     6.319662   \n",
       "4 2015-05-01  6.194237    6.274816    7.138786     6.194237     6.194237   \n",
       "\n",
       "   additive_terms  additive_terms_lower  additive_terms_upper    yearly  \\\n",
       "0       -0.269216             -0.269216             -0.269216 -0.269216   \n",
       "1       -0.927073             -0.927073             -0.927073 -0.927073   \n",
       "2       -0.429103             -0.429103             -0.429103 -0.429103   \n",
       "3        0.508963              0.508963              0.508963  0.508963   \n",
       "4        0.524224              0.524224              0.524224  0.524224   \n",
       "\n",
       "   yearly_lower  yearly_upper  multiplicative_terms  \\\n",
       "0     -0.269216     -0.269216                   0.0   \n",
       "1     -0.927073     -0.927073                   0.0   \n",
       "2     -0.429103     -0.429103                   0.0   \n",
       "3      0.508963      0.508963                   0.0   \n",
       "4      0.524224      0.524224                   0.0   \n",
       "\n",
       "   multiplicative_terms_lower  multiplicative_terms_upper      yhat  \n",
       "0                         0.0                         0.0  6.426721  \n",
       "1                         0.0                         0.0  5.639258  \n",
       "2                         0.0                         0.0  6.020165  \n",
       "3                         0.0                         0.0  6.828625  \n",
       "4                         0.0                         0.0  6.718462  "
      ]
     },
     "execution_count": 403,
     "metadata": {},
     "output_type": "execute_result"
    }
   ],
   "source": [
    "trade_forecast.head()"
   ]
  },
  {
   "cell_type": "code",
   "execution_count": 404,
   "metadata": {},
   "outputs": [],
   "source": [
    "prediction = trade_forecast[['ds', 'yhat', 'yhat_lower', 'yhat_upper']].tail(12)"
   ]
  },
  {
   "cell_type": "code",
   "execution_count": 413,
   "metadata": {},
   "outputs": [
    {
     "data": {
      "text/plain": [
       "<matplotlib.legend.Legend at 0x20cfd3816a0>"
      ]
     },
     "execution_count": 413,
     "metadata": {},
     "output_type": "execute_result"
    },
    {
     "data": {
      "image/png": "[encoded data removed]",
      "text/plain": [
       "<Figure size 720x432 with 1 Axes>"
      ]
     },
     "metadata": {},
     "output_type": "display_data"
    }
   ],
   "source": [
    "trade_prophet.plot(prediction, xlabel = 'Date', ylabel = 'Trade in (Billions $)')\n",
    "plt.title(\"Prophet's 12 month Prediction\",fontsize =20);\n",
    "plt.gca().legend((\"Actual values\", \"Forecasted values\"),fontsize=15)"
   ]
  },
  {
   "cell_type": "code",
   "execution_count": 406,
   "metadata": {},
   "outputs": [],
   "source": [
    "metric_df = trade_forecast.set_index('ds')[['yhat']].join(trade_test.set_index('ds').y).reset_index()"
   ]
  },
  {
   "cell_type": "code",
   "execution_count": 407,
   "metadata": {},
   "outputs": [
    {
     "data": {
      "text/html": [
       "<div>\n",
       "<style scoped>\n",
       "    .dataframe tbody tr th:only-of-type {\n",
       "        vertical-align: middle;\n",
       "    }\n",
       "\n",
       "    .dataframe tbody tr th {\n",
       "        vertical-align: top;\n",
       "    }\n",
       "\n",
       "    .dataframe thead th {\n",
       "        text-align: right;\n",
       "    }\n",
       "</style>\n",
       "<table border=\"1\" class=\"dataframe\">\n",
       "  <thead>\n",
       "    <tr style=\"text-align: right;\">\n",
       "      <th></th>\n",
       "      <th>ds</th>\n",
       "      <th>yhat</th>\n",
       "      <th>y</th>\n",
       "    </tr>\n",
       "  </thead>\n",
       "  <tbody>\n",
       "    <tr>\n",
       "      <th>58</th>\n",
       "      <td>2019-10-31</td>\n",
       "      <td>9.205944</td>\n",
       "      <td>NaN</td>\n",
       "    </tr>\n",
       "    <tr>\n",
       "      <th>59</th>\n",
       "      <td>2019-11-30</td>\n",
       "      <td>8.624783</td>\n",
       "      <td>NaN</td>\n",
       "    </tr>\n",
       "    <tr>\n",
       "      <th>60</th>\n",
       "      <td>2019-12-31</td>\n",
       "      <td>7.547717</td>\n",
       "      <td>NaN</td>\n",
       "    </tr>\n",
       "    <tr>\n",
       "      <th>61</th>\n",
       "      <td>2020-01-31</td>\n",
       "      <td>6.951209</td>\n",
       "      <td>NaN</td>\n",
       "    </tr>\n",
       "    <tr>\n",
       "      <th>62</th>\n",
       "      <td>2020-02-29</td>\n",
       "      <td>7.964356</td>\n",
       "      <td>NaN</td>\n",
       "    </tr>\n",
       "  </tbody>\n",
       "</table>\n",
       "</div>"
      ],
      "text/plain": [
       "           ds      yhat   y\n",
       "58 2019-10-31  9.205944 NaN\n",
       "59 2019-11-30  8.624783 NaN\n",
       "60 2019-12-31  7.547717 NaN\n",
       "61 2020-01-31  6.951209 NaN\n",
       "62 2020-02-29  7.964356 NaN"
      ]
     },
     "execution_count": 407,
     "metadata": {},
     "output_type": "execute_result"
    }
   ],
   "source": [
    "metric_df.tail()"
   ]
  },
  {
   "cell_type": "code",
   "execution_count": 408,
   "metadata": {},
   "outputs": [],
   "source": [
    "metric_df.dropna(inplace=True)"
   ]
  },
  {
   "cell_type": "code",
   "execution_count": 409,
   "metadata": {},
   "outputs": [
    {
     "data": {
      "text/html": [
       "<div>\n",
       "<style scoped>\n",
       "    .dataframe tbody tr th:only-of-type {\n",
       "        vertical-align: middle;\n",
       "    }\n",
       "\n",
       "    .dataframe tbody tr th {\n",
       "        vertical-align: top;\n",
       "    }\n",
       "\n",
       "    .dataframe thead th {\n",
       "        text-align: right;\n",
       "    }\n",
       "</style>\n",
       "<table border=\"1\" class=\"dataframe\">\n",
       "  <thead>\n",
       "    <tr style=\"text-align: right;\">\n",
       "      <th></th>\n",
       "      <th>ds</th>\n",
       "      <th>yhat</th>\n",
       "      <th>y</th>\n",
       "    </tr>\n",
       "  </thead>\n",
       "  <tbody>\n",
       "    <tr>\n",
       "      <th>46</th>\n",
       "      <td>2018-11-01</td>\n",
       "      <td>8.278235</td>\n",
       "      <td>8.611642</td>\n",
       "    </tr>\n",
       "    <tr>\n",
       "      <th>47</th>\n",
       "      <td>2018-12-01</td>\n",
       "      <td>8.072484</td>\n",
       "      <td>7.483425</td>\n",
       "    </tr>\n",
       "    <tr>\n",
       "      <th>48</th>\n",
       "      <td>2019-01-01</td>\n",
       "      <td>7.621520</td>\n",
       "      <td>7.231464</td>\n",
       "    </tr>\n",
       "    <tr>\n",
       "      <th>49</th>\n",
       "      <td>2019-02-01</td>\n",
       "      <td>7.003448</td>\n",
       "      <td>6.456199</td>\n",
       "    </tr>\n",
       "    <tr>\n",
       "      <th>50</th>\n",
       "      <td>2019-03-01</td>\n",
       "      <td>7.537354</td>\n",
       "      <td>7.405555</td>\n",
       "    </tr>\n",
       "  </tbody>\n",
       "</table>\n",
       "</div>"
      ],
      "text/plain": [
       "           ds      yhat         y\n",
       "46 2018-11-01  8.278235  8.611642\n",
       "47 2018-12-01  8.072484  7.483425\n",
       "48 2019-01-01  7.621520  7.231464\n",
       "49 2019-02-01  7.003448  6.456199\n",
       "50 2019-03-01  7.537354  7.405555"
      ]
     },
     "execution_count": 409,
     "metadata": {},
     "output_type": "execute_result"
    }
   ],
   "source": [
    "\n",
    "metric_df.tail()"
   ]
  },
  {
   "cell_type": "code",
   "execution_count": 410,
   "metadata": {},
   "outputs": [
    {
     "data": {
      "text/plain": [
       "0.9052877973103215"
      ]
     },
     "execution_count": 410,
     "metadata": {},
     "output_type": "execute_result"
    }
   ],
   "source": [
    "r2_score(metric_df.y, metric_df.yhat)"
   ]
  },
  {
   "cell_type": "code",
   "execution_count": 411,
   "metadata": {},
   "outputs": [
    {
     "data": {
      "text/plain": [
       "0.11982428130989234"
      ]
     },
     "execution_count": 411,
     "metadata": {},
     "output_type": "execute_result"
    }
   ],
   "source": [
    "mean_squared_error(metric_df.y, metric_df.yhat)"
   ]
  },
  {
   "cell_type": "code",
   "execution_count": null,
   "metadata": {},
   "outputs": [],
   "source": []
  },
  {
   "cell_type": "code",
   "execution_count": null,
   "metadata": {},
   "outputs": [],
   "source": []
  },
  {
   "cell_type": "code",
   "execution_count": null,
   "metadata": {},
   "outputs": [],
   "source": []
  },
  {
   "cell_type": "code",
   "execution_count": null,
   "metadata": {},
   "outputs": [],
   "source": []
  },
  {
   "cell_type": "code",
   "execution_count": null,
   "metadata": {},
   "outputs": [],
   "source": []
  }
 ],
 "metadata": {
  "kernelspec": {
   "display_name": "Python 3",
   "language": "python",
   "name": "python3"
  },
  "language_info": {
   "codemirror_mode": {
    "name": "ipython",
    "version": 3
   },
   "file_extension": ".py",
   "mimetype": "text/x-python",
   "name": "python",
   "nbconvert_exporter": "python",
   "pygments_lexer": "ipython3",
   "version": "3.6.7"
  }
 },
 "nbformat": 4,
 "nbformat_minor": 2
}
