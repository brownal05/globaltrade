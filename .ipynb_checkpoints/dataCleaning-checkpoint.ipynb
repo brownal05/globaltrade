{
 "cells": [
  {
   "cell_type": "code",
   "execution_count": 23,
   "metadata": {},
   "outputs": [],
   "source": [
    "import datetime as dt\n",
    "import numpy as np\n",
    "import pandas as pd\n",
    "import requests\n",
    "import json\n",
    "from pprint import pprint\n",
    "import csv\n",
    "import datetime\n",
    "from pandas import Series\n",
    "\n",
    "from flask import Flask, jsonify, render_template\n",
    "\n",
    "\n",
    "from flask_sqlalchemy import SQLAlchemy\n",
    "from sqlalchemy.ext.automap import automap_base\n",
    "from sqlalchemy.orm import Session\n",
    "from sqlalchemy import create_engine, func\n",
    "import sqlalchemy"
   ]
  },
  {
   "cell_type": "code",
   "execution_count": 11,
   "metadata": {},
   "outputs": [],
   "source": [
    "engine = create_engine('sqlite:///./data/trade.sqlite')\n"
   ]
  },
  {
   "cell_type": "code",
   "execution_count": 12,
   "metadata": {},
   "outputs": [],
   "source": [
    "Base = automap_base()\n",
    "Base.prepare(engine, reflect=True)\n",
    "session = Session(engine)"
   ]
  },
  {
   "cell_type": "code",
   "execution_count": 13,
   "metadata": {},
   "outputs": [],
   "source": [
    "Imports = Base.classes.imports"
   ]
  },
  {
   "cell_type": "code",
   "execution_count": 14,
   "metadata": {},
   "outputs": [],
   "source": [
    "api_key = \"93ba5366cb39b249dcbde95cc4d461e7b05b747d\"\n",
    "access_key = \"4f9566c06802ac93dbb7af423e88dd45\"\n",
    "export_url = (f\"https://api.census.gov/data/timeseries/intltrade/exports\")\n",
    "import_url = (f\"https://api.census.gov/data/timeseries/intltrade/imports\")\n",
    "china_code = \"5700\"\n",
    "usa_code = \"1000\"\n",
    "month = []\n",
    "year = []"
   ]
  },
  {
   "cell_type": "code",
   "execution_count": null,
   "metadata": {},
   "outputs": [],
   "source": [
    "total_import_by_commodity = requests.get(f\"{import_url}/hs?get=CTY_CODE,CTY_NAME,I_COMMODITY,I_COMMODITY_SDESC,GEN_VAL_MO,GEN_VAL_YR&key={api_key}&time=from+2019-01&COMM_LVL=HS4\").json()"
   ]
  },
  {
   "cell_type": "code",
   "execution_count": null,
   "metadata": {},
   "outputs": [],
   "source": [
    "count = 1\n",
    "cty_code = []\n",
    "cty_name = []\n",
    "commodity = []\n",
    "movalue = []\n",
    "yrvalue = []\n",
    "period = []\n",
    "desc = []\n",
    "code = []\n",
    "while count < 3460904:\n",
    "    count += 1\n",
    "    cty_code.append(total_import_by_commodity[count][0])\n",
    "    cty_name.append(total_import_by_commodity[count][1])\n",
    "    commodity.append(total_import_by_commodity[count][2])\n",
    "    desc.append(total_import_by_commodity[count][3])\n",
    "    movalue.append(total_import_by_commodity[count][4])\n",
    "    yrvalue.append(total_import_by_commodity[count][5])\n",
    "    period.append(total_import_by_commodity[count][6])\n",
    "total_import_commodity = pd.DataFrame({\"YTDValue\" : yrvalue,\n",
    "                          \"Period\" : period,\n",
    "                          \"Description\" : desc,\n",
    "                          \"HSC\": commodity,\n",
    "                          \"MoValue\" : movalue,\n",
    "                           \"Country\" : cty_name,\n",
    "                           \"CountryCode\": cty_code})"
   ]
  },
  {
   "cell_type": "code",
   "execution_count": null,
   "metadata": {},
   "outputs": [],
   "source": [
    "total_import_commodity.to_sql('total_country_imports', con=engine, if_exists='replace') "
   ]
  },
  {
   "cell_type": "code",
   "execution_count": null,
   "metadata": {},
   "outputs": [],
   "source": [
    "total_export_by_commodity = requests.get(f\"{export_url}/hs?get=CTY_CODE,CTY_NAME,E_COMMODITY,E_COMMODITY_SDESC,ALL_VAL_MO,ALL_VAL_YR&key={api_key}&time=from+2015-01&COMM_LVL=HS4\").json()\n"
   ]
  },
  {
   "cell_type": "code",
   "execution_count": null,
   "metadata": {},
   "outputs": [],
   "source": [
    "count = 1\n",
    "cty_code = []\n",
    "cty_name = []\n",
    "commodity = []\n",
    "movalue = []\n",
    "yrvalue = []\n",
    "period = []\n",
    "desc = []\n",
    "code = []\n",
    "while count < 3460904:\n",
    "    count += 1\n",
    "    cty_code.append(total_export_by_commodity[count][0])\n",
    "    cty_name.append(total_export_by_commodity[count][1])\n",
    "    commodity.append(total_export_by_commodity[count][2])\n",
    "    desc.append(total_export_by_commodity[count][3])\n",
    "    movalue.append(total_export_by_commodity[count][4])\n",
    "    yrvalue.append(total_export_by_commodity[count][5])\n",
    "    period.append(total_export_by_commodity[count][6])\n",
    "total_export_commodity = pd.DataFrame({\"YTDValue\" : yrvalue,\n",
    "                          \"Period\" : period,\n",
    "                          \"Description\" : desc,\n",
    "                          \"HSC\": commodity,\n",
    "                          \"MoValue\" : movalue,\n",
    "                           \"Country\" : cty_name,\n",
    "                           \"CountryCode\": cty_code})"
   ]
  },
  {
   "cell_type": "code",
   "execution_count": 15,
   "metadata": {},
   "outputs": [],
   "source": [
    "results = session.query(Imports).statement\n",
    "df = pd.read_sql_query(results, session.bind)"
   ]
  },
  {
   "cell_type": "code",
   "execution_count": 16,
   "metadata": {},
   "outputs": [],
   "source": [
    "df = df.sort_values(by=[\"Period\", \"HSC\"])"
   ]
  },
  {
   "cell_type": "code",
   "execution_count": null,
   "metadata": {},
   "outputs": [],
   "source": [
    "start_date = \"\"\n",
    "end_date = \"\"\n",
    "base = \"USD\"\n",
    "symbols = [\"USD\",\"MXN\",\"CNY\",\"JPY\",\"EUR\",\"GBP\",\"AUD\",\"CHF\",\"NZD\"]\n",
    "fx = requests.get(f\"http://data.fixer.io/api/latest?access_key={access_key}&format=1\").json()\n",
    "\n"
   ]
  },
  {
   "cell_type": "code",
   "execution_count": null,
   "metadata": {},
   "outputs": [],
   "source": [
    "series = pd.read_csv('allfx.csv')\n",
    "X = series.values\n",
    "train_size = int(len(X) * 0.66)\n",
    "train, test = X[0:train_size], X[train_size:len(X)]\n",
    "print('Observations: %d' % (len(X)))\n",
    "print('Training Observations: %d' % (len(train)))\n",
    "print('Testing Observations: %d' % (len(test)))"
   ]
  },
  {
   "cell_type": "code",
   "execution_count": 9,
   "metadata": {},
   "outputs": [
    {
     "ename": "NameError",
     "evalue": "name 'df' is not defined",
     "output_type": "error",
     "traceback": [
      "\u001b[1;31m---------------------------------------------------------------------------\u001b[0m",
      "\u001b[1;31mNameError\u001b[0m                                 Traceback (most recent call last)",
      "\u001b[1;32m<ipython-input-9-00cf07b74dcd>\u001b[0m in \u001b[0;36m<module>\u001b[1;34m()\u001b[0m\n\u001b[1;32m----> 1\u001b[1;33m \u001b[0mdf\u001b[0m\u001b[1;33m\u001b[0m\u001b[0m\n\u001b[0m",
      "\u001b[1;31mNameError\u001b[0m: name 'df' is not defined"
     ]
    }
   ],
   "source": []
  },
  {
   "cell_type": "code",
   "execution_count": 19,
   "metadata": {},
   "outputs": [
    {
     "data": {
      "text/html": [
       "<div>\n",
       "<style scoped>\n",
       "    .dataframe tbody tr th:only-of-type {\n",
       "        vertical-align: middle;\n",
       "    }\n",
       "\n",
       "    .dataframe tbody tr th {\n",
       "        vertical-align: top;\n",
       "    }\n",
       "\n",
       "    .dataframe thead th {\n",
       "        text-align: right;\n",
       "    }\n",
       "</style>\n",
       "<table border=\"1\" class=\"dataframe\">\n",
       "  <thead>\n",
       "    <tr style=\"text-align: right;\">\n",
       "      <th></th>\n",
       "      <th>index</th>\n",
       "      <th>YTDValue</th>\n",
       "      <th>Period</th>\n",
       "      <th>Description</th>\n",
       "      <th>HSC</th>\n",
       "      <th>MoValue</th>\n",
       "      <th>Country</th>\n",
       "      <th>CountryCode</th>\n",
       "    </tr>\n",
       "  </thead>\n",
       "  <tbody>\n",
       "    <tr>\n",
       "      <th>2161989</th>\n",
       "      <td>2161989</td>\n",
       "      <td>10500</td>\n",
       "      <td>2015-01</td>\n",
       "      <td>HORSES, ASSES, MULES AND HINNIES, LIVE</td>\n",
       "      <td>0101</td>\n",
       "      <td>10500</td>\n",
       "      <td>OPEC</td>\n",
       "      <td>0001</td>\n",
       "    </tr>\n",
       "    <tr>\n",
       "      <th>2161990</th>\n",
       "      <td>2161990</td>\n",
       "      <td>38583160</td>\n",
       "      <td>2015-01</td>\n",
       "      <td>HORSES, ASSES, MULES AND HINNIES, LIVE</td>\n",
       "      <td>0101</td>\n",
       "      <td>38583160</td>\n",
       "      <td>EUROPEAN UNION</td>\n",
       "      <td>0003</td>\n",
       "    </tr>\n",
       "    <tr>\n",
       "      <th>2161991</th>\n",
       "      <td>2161991</td>\n",
       "      <td>650000</td>\n",
       "      <td>2015-01</td>\n",
       "      <td>HORSES, ASSES, MULES AND HINNIES, LIVE</td>\n",
       "      <td>0101</td>\n",
       "      <td>650000</td>\n",
       "      <td>PACIFIC RIM COUNTRIES</td>\n",
       "      <td>0014</td>\n",
       "    </tr>\n",
       "    <tr>\n",
       "      <th>2161992</th>\n",
       "      <td>2161992</td>\n",
       "      <td>23500</td>\n",
       "      <td>2015-01</td>\n",
       "      <td>HORSES, ASSES, MULES AND HINNIES, LIVE</td>\n",
       "      <td>0101</td>\n",
       "      <td>23500</td>\n",
       "      <td>CAFTA-DR</td>\n",
       "      <td>0017</td>\n",
       "    </tr>\n",
       "    <tr>\n",
       "      <th>2161993</th>\n",
       "      <td>2161993</td>\n",
       "      <td>2854104</td>\n",
       "      <td>2015-01</td>\n",
       "      <td>HORSES, ASSES, MULES AND HINNIES, LIVE</td>\n",
       "      <td>0101</td>\n",
       "      <td>2854104</td>\n",
       "      <td>NAFTA</td>\n",
       "      <td>0020</td>\n",
       "    </tr>\n",
       "  </tbody>\n",
       "</table>\n",
       "</div>"
      ],
      "text/plain": [
       "           index  YTDValue   Period                             Description  \\\n",
       "2161989  2161989     10500  2015-01  HORSES, ASSES, MULES AND HINNIES, LIVE   \n",
       "2161990  2161990  38583160  2015-01  HORSES, ASSES, MULES AND HINNIES, LIVE   \n",
       "2161991  2161991    650000  2015-01  HORSES, ASSES, MULES AND HINNIES, LIVE   \n",
       "2161992  2161992     23500  2015-01  HORSES, ASSES, MULES AND HINNIES, LIVE   \n",
       "2161993  2161993   2854104  2015-01  HORSES, ASSES, MULES AND HINNIES, LIVE   \n",
       "\n",
       "          HSC   MoValue                Country CountryCode  \n",
       "2161989  0101     10500                   OPEC        0001  \n",
       "2161990  0101  38583160         EUROPEAN UNION        0003  \n",
       "2161991  0101    650000  PACIFIC RIM COUNTRIES        0014  \n",
       "2161992  0101     23500               CAFTA-DR        0017  \n",
       "2161993  0101   2854104                  NAFTA        0020  "
      ]
     },
     "execution_count": 19,
     "metadata": {},
     "output_type": "execute_result"
    }
   ],
   "source": [
    "df.head()"
   ]
  },
  {
   "cell_type": "code",
   "execution_count": 20,
   "metadata": {},
   "outputs": [],
   "source": [
    "country_df = df.groupby(\"Country\")"
   ]
  },
  {
   "cell_type": "code",
   "execution_count": 22,
   "metadata": {},
   "outputs": [
    {
     "ename": "AttributeError",
     "evalue": "Cannot access callable attribute 'sort_values' of 'DataFrameGroupBy' objects, try using the 'apply' method",
     "output_type": "error",
     "traceback": [
      "\u001b[1;31m---------------------------------------------------------------------------\u001b[0m",
      "\u001b[1;31mAttributeError\u001b[0m                            Traceback (most recent call last)",
      "\u001b[1;32m<ipython-input-22-ebdd522ca979>\u001b[0m in \u001b[0;36m<module>\u001b[1;34m()\u001b[0m\n\u001b[1;32m----> 1\u001b[1;33m \u001b[0mcountry_df\u001b[0m\u001b[1;33m.\u001b[0m\u001b[0msort_values\u001b[0m\u001b[1;33m(\u001b[0m\u001b[1;34m\"Country\"\u001b[0m\u001b[1;33m)\u001b[0m\u001b[1;33m\u001b[0m\u001b[0m\n\u001b[0m",
      "\u001b[1;32m~\\AppData\\Roaming\\Python\\Python36\\site-packages\\pandas\\core\\groupby\\groupby.py\u001b[0m in \u001b[0;36m__getattr__\u001b[1;34m(self, attr)\u001b[0m\n\u001b[0;32m    760\u001b[0m             \u001b[1;32mreturn\u001b[0m \u001b[0mself\u001b[0m\u001b[1;33m[\u001b[0m\u001b[0mattr\u001b[0m\u001b[1;33m]\u001b[0m\u001b[1;33m\u001b[0m\u001b[0m\n\u001b[0;32m    761\u001b[0m         \u001b[1;32mif\u001b[0m \u001b[0mhasattr\u001b[0m\u001b[1;33m(\u001b[0m\u001b[0mself\u001b[0m\u001b[1;33m.\u001b[0m\u001b[0mobj\u001b[0m\u001b[1;33m,\u001b[0m \u001b[0mattr\u001b[0m\u001b[1;33m)\u001b[0m\u001b[1;33m:\u001b[0m\u001b[1;33m\u001b[0m\u001b[0m\n\u001b[1;32m--> 762\u001b[1;33m             \u001b[1;32mreturn\u001b[0m \u001b[0mself\u001b[0m\u001b[1;33m.\u001b[0m\u001b[0m_make_wrapper\u001b[0m\u001b[1;33m(\u001b[0m\u001b[0mattr\u001b[0m\u001b[1;33m)\u001b[0m\u001b[1;33m\u001b[0m\u001b[0m\n\u001b[0m\u001b[0;32m    763\u001b[0m \u001b[1;33m\u001b[0m\u001b[0m\n\u001b[0;32m    764\u001b[0m         raise AttributeError(\"%r object has no attribute %r\" %\n",
      "\u001b[1;32m~\\AppData\\Roaming\\Python\\Python36\\site-packages\\pandas\\core\\groupby\\groupby.py\u001b[0m in \u001b[0;36m_make_wrapper\u001b[1;34m(self, name)\u001b[0m\n\u001b[0;32m    797\u001b[0m                    \"using the 'apply' method\".format(kind, name,\n\u001b[0;32m    798\u001b[0m                                                      type(self).__name__))\n\u001b[1;32m--> 799\u001b[1;33m             \u001b[1;32mraise\u001b[0m \u001b[0mAttributeError\u001b[0m\u001b[1;33m(\u001b[0m\u001b[0mmsg\u001b[0m\u001b[1;33m)\u001b[0m\u001b[1;33m\u001b[0m\u001b[0m\n\u001b[0m\u001b[0;32m    800\u001b[0m \u001b[1;33m\u001b[0m\u001b[0m\n\u001b[0;32m    801\u001b[0m         \u001b[0mself\u001b[0m\u001b[1;33m.\u001b[0m\u001b[0m_set_group_selection\u001b[0m\u001b[1;33m(\u001b[0m\u001b[1;33m)\u001b[0m\u001b[1;33m\u001b[0m\u001b[0m\n",
      "\u001b[1;31mAttributeError\u001b[0m: Cannot access callable attribute 'sort_values' of 'DataFrameGroupBy' objects, try using the 'apply' method"
     ]
    }
   ],
   "source": [
    "country_df.sort_values(\"Country\")"
   ]
  },
  {
   "cell_type": "code",
   "execution_count": null,
   "metadata": {},
   "outputs": [],
   "source": []
  }
 ],
 "metadata": {
  "kernelspec": {
   "display_name": "Python 3",
   "language": "python",
   "name": "python3"
  },
  "language_info": {
   "codemirror_mode": {
    "name": "ipython",
    "version": 3
   },
   "file_extension": ".py",
   "mimetype": "text/x-python",
   "name": "python",
   "nbconvert_exporter": "python",
   "pygments_lexer": "ipython3",
   "version": "3.6.5"
  }
 },
 "nbformat": 4,
 "nbformat_minor": 2
}
