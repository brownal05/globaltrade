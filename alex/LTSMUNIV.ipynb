{
 "cells": [
  {
   "cell_type": "code",
   "execution_count": 1,
   "metadata": {},
   "outputs": [
    {
     "name": "stderr",
     "output_type": "stream",
     "text": [
      "C:\\Program Files (x86)\\Microsoft Visual Studio\\Shared\\Anaconda3_64\\lib\\site-packages\\h5py\\__init__.py:36: FutureWarning: Conversion of the second argument of issubdtype from `float` to `np.floating` is deprecated. In future, it will be treated as `np.float64 == np.dtype(float).type`.\n",
      "  from ._conv import register_converters as _register_converters\n",
      "Using TensorFlow backend.\n"
     ]
    }
   ],
   "source": [
    "import numpy as np # linear algebra\n",
    "import pandas as pd # data processing, CSV file I/O (e.g. pd.read_csv)\n",
    "from numpy import array\n",
    "from numpy import newaxis\n",
    "import math\n",
    "from scipy import stats\n",
    "from subprocess import check_output\n",
    "# from keras.layers.core import Dense, Activation, Dropout\n",
    "# from keras.layers.recurrent import LSTM\n",
    "# from keras.models import Sequential\n",
    "from sklearn.model_selection import  train_test_split\n",
    "import time #helper libraries\n",
    "import matplotlib.pyplot as plt\n",
    "import tensorflow as tf\n",
    "from keras.models import Sequential\n",
    "from keras.layers import Dense\n",
    "from keras.layers import LSTM\n",
    "from sklearn.preprocessing import MinMaxScaler\n",
    "from sklearn.metrics import mean_squared_error\n",
    "from keras.models import load_model\n"
   ]
  },
  {
   "cell_type": "code",
   "execution_count": 2,
   "metadata": {},
   "outputs": [],
   "source": [
    "def create_dataset(dataset, look_back=1):\n",
    "    dataX, dataY = [], []\n",
    "    for i in range(len(dataset)-look_back-1):\n",
    "        a = dataset[i:(i+look_back), 0]\n",
    "        dataX.append(a)\n",
    "        dataY.append(dataset[i + look_back, 0])\n",
    "    return np.array(dataX), np.array(dataY)"
   ]
  },
  {
   "cell_type": "code",
   "execution_count": 3,
   "metadata": {},
   "outputs": [],
   "source": [
    "#load your data to train or predict on \n",
    "raw_data = pd.read_csv(f\"https://s3.amazonaws.com/globefutures/data/CME_CL1.csv\", usecols=[7])\n"
   ]
  },
  {
   "cell_type": "code",
   "execution_count": 4,
   "metadata": {},
   "outputs": [],
   "source": [
    "df = raw_data"
   ]
  },
  {
   "cell_type": "code",
   "execution_count": 6,
   "metadata": {},
   "outputs": [
    {
     "data": {
      "text/html": [
       "<div>\n",
       "<style scoped>\n",
       "    .dataframe tbody tr th:only-of-type {\n",
       "        vertical-align: middle;\n",
       "    }\n",
       "\n",
       "    .dataframe tbody tr th {\n",
       "        vertical-align: top;\n",
       "    }\n",
       "\n",
       "    .dataframe thead th {\n",
       "        text-align: right;\n",
       "    }\n",
       "</style>\n",
       "<table border=\"1\" class=\"dataframe\">\n",
       "  <thead>\n",
       "    <tr style=\"text-align: right;\">\n",
       "      <th></th>\n",
       "      <th>Settle</th>\n",
       "    </tr>\n",
       "  </thead>\n",
       "  <tbody>\n",
       "    <tr>\n",
       "      <th>4</th>\n",
       "      <td>65.21</td>\n",
       "    </tr>\n",
       "    <tr>\n",
       "      <th>3</th>\n",
       "      <td>63.30</td>\n",
       "    </tr>\n",
       "    <tr>\n",
       "      <th>2</th>\n",
       "      <td>63.50</td>\n",
       "    </tr>\n",
       "    <tr>\n",
       "      <th>1</th>\n",
       "      <td>63.91</td>\n",
       "    </tr>\n",
       "    <tr>\n",
       "      <th>0</th>\n",
       "      <td>63.60</td>\n",
       "    </tr>\n",
       "  </tbody>\n",
       "</table>\n",
       "</div>"
      ],
      "text/plain": [
       "   Settle\n",
       "4   65.21\n",
       "3   63.30\n",
       "2   63.50\n",
       "1   63.91\n",
       "0   63.60"
      ]
     },
     "execution_count": 6,
     "metadata": {},
     "output_type": "execute_result"
    }
   ],
   "source": [
    "data_frame = df.sort_index(axis=1 ,ascending=True)\n",
    "data_frame = data_frame.iloc[::-1]\n",
    "data_frame = data_frame.sort_index(ascending=True, axis=0)\n",
    "df = data_frame.reindex(index=data_frame.index[::-1])\n",
    "df.tail()"
   ]
  },
  {
   "cell_type": "code",
   "execution_count": null,
   "metadata": {},
   "outputs": [],
   "source": []
  },
  {
   "cell_type": "code",
   "execution_count": 7,
   "metadata": {},
   "outputs": [
    {
     "name": "stdout",
     "output_type": "stream",
     "text": [
      "[[0.47236259]\n",
      " [0.4762087 ]\n",
      " [0.470964  ]\n",
      " ...\n",
      " [0.7199309 ]\n",
      " [0.7342664 ]\n",
      " [0.72342736]]\n"
     ]
    }
   ],
   "source": [
    "df_z = np.abs(stats.zscore(df))\n",
    "print(df_z)"
   ]
  },
  {
   "cell_type": "code",
   "execution_count": 8,
   "metadata": {},
   "outputs": [
    {
     "name": "stdout",
     "output_type": "stream",
     "text": [
      "(array([], dtype=int64), array([], dtype=int64))\n"
     ]
    }
   ],
   "source": [
    "threshhold = 5\n",
    "print(np.where(df_z>threshhold))\n",
    "df_o = df[(df_z < threshhold).all(axis=1)]\n"
   ]
  },
  {
   "cell_type": "code",
   "execution_count": 9,
   "metadata": {},
   "outputs": [
    {
     "name": "stdout",
     "output_type": "stream",
     "text": [
      "Raw Data: (9068, 1)\n",
      "Data with Z-Scores > 5 removed: (9068, 1)\n"
     ]
    }
   ],
   "source": [
    "print(f\"Raw Data: {df.shape}\")\n",
    "print(f\"Data with Z-Scores > {threshhold} removed: {df_o.shape}\")\n"
   ]
  },
  {
   "cell_type": "code",
   "execution_count": 10,
   "metadata": {},
   "outputs": [
    {
     "data": {
      "text/plain": [
       "array([[29.4 ],\n",
       "       [29.29],\n",
       "       [29.44],\n",
       "       ...,\n",
       "       [63.5 ],\n",
       "       [63.91],\n",
       "       [63.6 ]], dtype=float32)"
      ]
     },
     "execution_count": 10,
     "metadata": {},
     "output_type": "execute_result"
    }
   ],
   "source": [
    "dataset = df_o\n",
    "dataset = dataset.values\n",
    "dataset = dataset.astype('float32')\n",
    "dataset"
   ]
  },
  {
   "cell_type": "code",
   "execution_count": 10,
   "metadata": {},
   "outputs": [
    {
     "data": {
      "text/plain": [
       "array([[0.14072812],\n",
       "       [0.13991253],\n",
       "       [0.14102471],\n",
       "       ...,\n",
       "       [0.39356422],\n",
       "       [0.39660418],\n",
       "       [0.39430565]], dtype=float32)"
      ]
     },
     "execution_count": 10,
     "metadata": {},
     "output_type": "execute_result"
    }
   ],
   "source": [
    "#scale the data, makes the model happy\n",
    "np.random.seed(7)\n",
    "\n",
    "scaler = MinMaxScaler(feature_range=(0, 1))\n",
    "dataset = scaler.fit_transform(dataset)\n",
    "dataset"
   ]
  },
  {
   "cell_type": "code",
   "execution_count": 11,
   "metadata": {},
   "outputs": [
    {
     "name": "stdout",
     "output_type": "stream",
     "text": [
      "6075 2993\n"
     ]
    }
   ],
   "source": [
    "# split into train and test sets\n",
    "train_size = int(len(dataset) * 0.67)\n",
    "test_size = len(dataset) - train_size\n",
    "train, test = dataset[0:train_size,:], dataset[train_size:len(dataset),:]\n",
    "print(len(train), len(test))"
   ]
  },
  {
   "cell_type": "code",
   "execution_count": 12,
   "metadata": {},
   "outputs": [],
   "source": [
    "look_back = 15 # sets how many steps out from the current step model is looking, 3 is two days in our timeseries. The current day and two days out.\n",
    "trainX, trainY = create_dataset(train, look_back)\n",
    "testX, testY = create_dataset(test, look_back)"
   ]
  },
  {
   "cell_type": "code",
   "execution_count": 13,
   "metadata": {},
   "outputs": [
    {
     "data": {
      "text/plain": [
       "array([[[0.14072812],\n",
       "        [0.13991253],\n",
       "        [0.14102471],\n",
       "        ...,\n",
       "        [0.15073776],\n",
       "        [0.15073776],\n",
       "        [0.15036704]],\n",
       "\n",
       "       [[0.13991253],\n",
       "        [0.14102471],\n",
       "        [0.14302662],\n",
       "        ...,\n",
       "        [0.15073776],\n",
       "        [0.15036704],\n",
       "        [0.15021874]],\n",
       "\n",
       "       [[0.14102471],\n",
       "        [0.14302662],\n",
       "        [0.14443539],\n",
       "        ...,\n",
       "        [0.15036704],\n",
       "        [0.15021874],\n",
       "        [0.15073776]],\n",
       "\n",
       "       ...,\n",
       "\n",
       "       [[0.4103952 ],\n",
       "        [0.39860606],\n",
       "        [0.40616888],\n",
       "        ...,\n",
       "        [0.40290654],\n",
       "        [0.4118781 ],\n",
       "        [0.4072811 ]],\n",
       "\n",
       "       [[0.39860606],\n",
       "        [0.40616888],\n",
       "        [0.44961816],\n",
       "        ...,\n",
       "        [0.4118781 ],\n",
       "        [0.4072811 ],\n",
       "        [0.41402835]],\n",
       "\n",
       "       [[0.40616888],\n",
       "        [0.44961816],\n",
       "        [0.3909691 ],\n",
       "        ...,\n",
       "        [0.4072811 ],\n",
       "        [0.41402835],\n",
       "        [0.4243346 ]]], dtype=float32)"
      ]
     },
     "execution_count": 13,
     "metadata": {},
     "output_type": "execute_result"
    }
   ],
   "source": [
    "trainX = np.reshape(trainX, (trainX.shape[0], trainX.shape[1], 1))\n",
    "testX = np.reshape(testX, (testX.shape[0], testX.shape[1], 1))\n",
    "trainX"
   ]
  },
  {
   "cell_type": "code",
   "execution_count": 14,
   "metadata": {},
   "outputs": [
    {
     "name": "stdout",
     "output_type": "stream",
     "text": [
      "WARNING:tensorflow:From C:\\Program Files (x86)\\Microsoft Visual Studio\\Shared\\Anaconda3_64\\lib\\site-packages\\tensorflow\\python\\framework\\op_def_library.py:263: colocate_with (from tensorflow.python.framework.ops) is deprecated and will be removed in a future version.\n",
      "Instructions for updating:\n",
      "Colocations handled automatically by placer.\n",
      "WARNING:tensorflow:From C:\\Program Files (x86)\\Microsoft Visual Studio\\Shared\\Anaconda3_64\\lib\\site-packages\\tensorflow\\python\\ops\\math_ops.py:3066: to_int32 (from tensorflow.python.ops.math_ops) is deprecated and will be removed in a future version.\n",
      "Instructions for updating:\n",
      "Use tf.cast instead.\n",
      "Epoch 1/5\n",
      " - 25s - loss: 4.2532e-04\n",
      "Epoch 2/5\n",
      " - 24s - loss: 8.3324e-05\n",
      "Epoch 3/5\n",
      " - 24s - loss: 6.6663e-05\n",
      "Epoch 4/5\n",
      " - 25s - loss: 5.4617e-05\n",
      "Epoch 5/5\n",
      " - 26s - loss: 4.6662e-05\n"
     ]
    },
    {
     "data": {
      "text/plain": [
       "<keras.callbacks.History at 0x1bf29a58c50>"
      ]
     },
     "execution_count": 14,
     "metadata": {},
     "output_type": "execute_result"
    }
   ],
   "source": [
    "# create and fit the LSTM network\n",
    "model = Sequential()\n",
    "model.add(LSTM(5, input_shape=(look_back, 1)))\n",
    "model.add(Dense(3))\n",
    "model.add(Dense(1))\n",
    "model.compile(loss='mean_squared_error', optimizer='adam')\n",
    "model.fit(trainX, trainY, epochs=5, batch_size=1, verbose=2)\n"
   ]
  },
  {
   "cell_type": "code",
   "execution_count": 298,
   "metadata": {},
   "outputs": [],
   "source": [
    "model.save('filename.h5') #change file name! lstm_modelCLstep15, lstm_modelCL"
   ]
  },
  {
   "cell_type": "code",
   "execution_count": 26,
   "metadata": {},
   "outputs": [],
   "source": [
    "model = load_model('lstm_modelCL.h5') #load a model "
   ]
  },
  {
   "cell_type": "code",
   "execution_count": 15,
   "metadata": {},
   "outputs": [
    {
     "name": "stdout",
     "output_type": "stream",
     "text": [
      "Train Score: 1.05 RMSE\n",
      "Test Score: 1.90 RMSE\n"
     ]
    },
    {
     "data": {
      "text/plain": [
       "[<matplotlib.lines.Line2D at 0x1bf2b40ad68>]"
      ]
     },
     "execution_count": 15,
     "metadata": {},
     "output_type": "execute_result"
    },
    {
     "data": {
      "image/png": "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\n",
      "text/plain": [
       "<Figure size 432x288 with 1 Axes>"
      ]
     },
     "metadata": {},
     "output_type": "display_data"
    }
   ],
   "source": [
    "# make predictions\n",
    "trainPredict = model.predict(trainX, verbose=2)\n",
    "testPredict = model.predict(testX, verbose=2)\n",
    "trainPredict = scaler.inverse_transform(trainPredict)\n",
    "trainY = scaler.inverse_transform([trainY])\n",
    "testPredict = scaler.inverse_transform(testPredict)\n",
    "testY = scaler.inverse_transform([testY])\n",
    "# calculate root mean squared error\n",
    "trainScore = math.sqrt(mean_squared_error(trainY[0], trainPredict[:,0]))\n",
    "print('Train Score: %.2f RMSE' % (trainScore))\n",
    "testScore = math.sqrt(mean_squared_error(testY[0], testPredict[:,0]))\n",
    "print('Test Score: %.2f RMSE' % (testScore))\n",
    "# shift train predictions for plotting\n",
    "trainPredictPlot = np.empty_like(dataset)\n",
    "trainPredictPlot[:, :] = np.nan\n",
    "trainPredictPlot[look_back:len(trainPredict)+look_back, :] = trainPredict\n",
    "# shift test predictions for plotting\n",
    "testPredictPlot = np.empty_like(dataset)\n",
    "testPredictPlot[:, :] = np.nan\n",
    "testPredictPlot[len(trainPredict)+(look_back*2)+1:len(dataset)-1, :] = testPredict\n",
    "# plot baseline and predictions\n",
    "plt.plot(scaler.inverse_transform(dataset))\n",
    "plt.plot(trainPredictPlot)\n",
    "plt.plot(testPredictPlot)"
   ]
  },
  {
   "cell_type": "code",
   "execution_count": 79,
   "metadata": {},
   "outputs": [
    {
     "data": {
      "text/plain": [
       "[<matplotlib.lines.Line2D at 0x233981c2b38>]"
      ]
     },
     "execution_count": 79,
     "metadata": {},
     "output_type": "execute_result"
    },
    {
     "data": {
      "image/png": "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\n",
      "text/plain": [
       "<Figure size 432x288 with 1 Axes>"
      ]
     },
     "metadata": {},
     "output_type": "display_data"
    }
   ],
   "source": [
    "plt.plot(scaler.inverse_transform(dataset[:len(testPredictPlot)]))\n",
    "plt.plot(testPredictPlot)\n",
    "\n"
   ]
  },
  {
   "cell_type": "code",
   "execution_count": 77,
   "metadata": {},
   "outputs": [
    {
     "name": "stdout",
     "output_type": "stream",
     "text": [
      "[[75.09405 ]\n",
      " [75.48663 ]\n",
      " [75.397285]\n",
      " ...\n",
      " [68.025345]\n",
      " [66.417786]\n",
      " [66.16314 ]]\n"
     ]
    }
   ],
   "source": [
    "print(testPredict)\n"
   ]
  },
  {
   "cell_type": "code",
   "execution_count": 319,
   "metadata": {},
   "outputs": [
    {
     "data": {
      "text/plain": [
       "[<matplotlib.lines.Line2D at 0x1a6ea6a50b8>]"
      ]
     },
     "execution_count": 319,
     "metadata": {},
     "output_type": "execute_result"
    },
    {
     "data": {
      "image/png": "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\n",
      "text/plain": [
       "<Figure size 432x288 with 1 Axes>"
      ]
     },
     "metadata": {},
     "output_type": "display_data"
    }
   ],
   "source": [
    "plt.plot(testPredictPlot)\n"
   ]
  },
  {
   "cell_type": "code",
   "execution_count": 438,
   "metadata": {},
   "outputs": [
    {
     "name": "stdout",
     "output_type": "stream",
     "text": [
      "Train Score: 0.01 RMSE\n",
      "Test Score: 0.01 RMSE\n"
     ]
    }
   ],
   "source": [
    "# trainScore = math.sqrt(mean_squared_error(trainY[0], trainPredict[:,0]))\n",
    "# print('Train Score: %.2f RMSE' % (trainScore))\n",
    "# testScore = math.sqrt(mean_squared_error(testY[0], testPredict[:,0]))\n",
    "# print('Test Score: %.2f RMSE' % (testScore))"
   ]
  },
  {
   "cell_type": "markdown",
   "metadata": {},
   "source": [
    "Crude Oil Contract - Univariate"
   ]
  },
  {
   "cell_type": "code",
   "execution_count": 313,
   "metadata": {},
   "outputs": [
    {
     "data": {
      "text/plain": [
       "[<matplotlib.lines.Line2D at 0x1a6fe53acf8>]"
      ]
     },
     "execution_count": 313,
     "metadata": {},
     "output_type": "execute_result"
    },
    {
     "data": {
      "image/png": "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\n",
      "text/plain": [
       "<Figure size 432x288 with 1 Axes>"
      ]
     },
     "metadata": {},
     "output_type": "display_data"
    }
   ],
   "source": []
  },
  {
   "cell_type": "code",
   "execution_count": null,
   "metadata": {},
   "outputs": [],
   "source": []
  }
 ],
 "metadata": {
  "kernelspec": {
   "display_name": "Python 3",
   "language": "python",
   "name": "python3"
  },
  "language_info": {
   "codemirror_mode": {
    "name": "ipython",
    "version": 3
   },
   "file_extension": ".py",
   "mimetype": "text/x-python",
   "name": "python",
   "nbconvert_exporter": "python",
   "pygments_lexer": "ipython3",
<<<<<<< HEAD
   "version": "3.7.1"
=======
   "version": "3.7.3"
>>>>>>> 5dc3602bbbcada7fa33fb9c81f236c439797dcb3
  }
 },
 "nbformat": 4,
 "nbformat_minor": 2
}
