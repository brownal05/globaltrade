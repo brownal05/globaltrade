{
 "cells": [
  {
   "cell_type": "code",
   "execution_count": 1,
   "metadata": {},
   "outputs": [
    {
     "name": "stderr",
     "output_type": "stream",
     "text": [
      "C:\\Program Files (x86)\\Microsoft Visual Studio\\Shared\\Anaconda3_64\\lib\\site-packages\\h5py\\__init__.py:36: FutureWarning: Conversion of the second argument of issubdtype from `float` to `np.floating` is deprecated. In future, it will be treated as `np.float64 == np.dtype(float).type`.\n",
      "  from ._conv import register_converters as _register_converters\n",
      "Using TensorFlow backend.\n",
      "C:\\Program Files (x86)\\Microsoft Visual Studio\\Shared\\Anaconda3_64\\lib\\site-packages\\sklearn\\cross_validation.py:41: DeprecationWarning: This module was deprecated in version 0.18 in favor of the model_selection module into which all the refactored classes and functions are moved. Also note that the interface of the new CV iterators are different from that of this module. This module will be removed in 0.20.\n",
      "  \"This module will be removed in 0.20.\", DeprecationWarning)\n"
     ]
    }
   ],
   "source": [
    "import numpy as np # linear algebra\n",
    "import pandas as pd # data processing, CSV file I/O (e.g. pd.read_csv)\n",
    "from numpy import array\n",
    "from numpy import newaxis\n",
    "import math\n",
    "from scipy import stats\n",
    "from subprocess import check_output\n",
    "# from keras.layers.core import Dense, Activation, Dropout\n",
    "# from keras.layers.recurrent import LSTM\n",
    "# from keras.models import Sequential\n",
    "from sklearn.model_selection import  train_test_split\n",
    "import time #helper libraries\n",
    "import matplotlib.pyplot as plt\n",
    "import tensorflow as tf\n",
    "from keras.models import Sequential\n",
    "from keras.layers import Dense\n",
    "from keras.layers import LSTM\n",
    "from sklearn.preprocessing import MinMaxScaler\n",
    "from sklearn.metrics import mean_squared_error\n",
    "from keras.models import load_model\n"
   ]
  },
  {
   "cell_type": "code",
   "execution_count": 2,
   "metadata": {},
   "outputs": [],
   "source": [
    "def create_dataset(dataset, look_back=1):\n",
    "    dataX, dataY = [], []\n",
    "    for i in range(len(dataset)-look_back-1):\n",
    "        a = dataset[i:(i+look_back), 0]\n",
    "        dataX.append(a)\n",
    "        dataY.append(dataset[i + look_back, 0])\n",
    "    return np.array(dataX), np.array(dataY)"
   ]
  },
  {
   "cell_type": "code",
   "execution_count": 3,
   "metadata": {},
   "outputs": [],
   "source": [
    "#load your data to train or predict on \n",
    "raw_data = pd.read_csv(f\"https://s3.amazonaws.com/globefutures/data/CME_CL1.csv\", usecols=[7])\n"
   ]
  },
  {
   "cell_type": "code",
   "execution_count": 4,
   "metadata": {},
   "outputs": [],
   "source": [
    "df = raw_data"
   ]
  },
  {
   "cell_type": "code",
   "execution_count": 5,
   "metadata": {},
   "outputs": [
    {
     "data": {
      "text/html": [
       "<div>\n",
       "<style scoped>\n",
       "    .dataframe tbody tr th:only-of-type {\n",
       "        vertical-align: middle;\n",
       "    }\n",
       "\n",
       "    .dataframe tbody tr th {\n",
       "        vertical-align: top;\n",
       "    }\n",
       "\n",
       "    .dataframe thead th {\n",
       "        text-align: right;\n",
       "    }\n",
       "</style>\n",
       "<table border=\"1\" class=\"dataframe\">\n",
       "  <thead>\n",
       "    <tr style=\"text-align: right;\">\n",
       "      <th></th>\n",
       "      <th>Settle</th>\n",
       "    </tr>\n",
       "  </thead>\n",
       "  <tbody>\n",
       "    <tr>\n",
       "      <th>4</th>\n",
       "      <td>65.21</td>\n",
       "    </tr>\n",
       "    <tr>\n",
       "      <th>3</th>\n",
       "      <td>63.30</td>\n",
       "    </tr>\n",
       "    <tr>\n",
       "      <th>2</th>\n",
       "      <td>63.50</td>\n",
       "    </tr>\n",
       "    <tr>\n",
       "      <th>1</th>\n",
       "      <td>63.91</td>\n",
       "    </tr>\n",
       "    <tr>\n",
       "      <th>0</th>\n",
       "      <td>63.60</td>\n",
       "    </tr>\n",
       "  </tbody>\n",
       "</table>\n",
       "</div>"
      ],
      "text/plain": [
       "   Settle\n",
       "4   65.21\n",
       "3   63.30\n",
       "2   63.50\n",
       "1   63.91\n",
       "0   63.60"
      ]
     },
     "execution_count": 5,
     "metadata": {},
     "output_type": "execute_result"
    }
   ],
   "source": [
    "data_frame = df.sort_index(axis=1 ,ascending=True)\n",
    "data_frame = data_frame.iloc[::-1]\n",
    "data_frame = data_frame.sort_index(ascending=True, axis=0)\n",
    "df = data_frame.reindex(index=data_frame.index[::-1])\n",
    "df.tail()"
   ]
  },
  {
   "cell_type": "code",
   "execution_count": null,
   "metadata": {},
   "outputs": [],
   "source": []
  },
  {
   "cell_type": "code",
   "execution_count": 6,
   "metadata": {},
   "outputs": [
    {
     "name": "stdout",
     "output_type": "stream",
     "text": [
      "[[0.47236259]\n",
      " [0.4762087 ]\n",
      " [0.470964  ]\n",
      " ...\n",
      " [0.7199309 ]\n",
      " [0.7342664 ]\n",
      " [0.72342736]]\n"
     ]
    }
   ],
   "source": [
    "df_z = np.abs(stats.zscore(df))\n",
    "print(df_z)"
   ]
  },
  {
   "cell_type": "code",
   "execution_count": 7,
   "metadata": {},
   "outputs": [
    {
     "name": "stdout",
     "output_type": "stream",
     "text": [
      "(array([], dtype=int64), array([], dtype=int64))\n"
     ]
    }
   ],
   "source": [
    "threshhold = 5\n",
    "print(np.where(df_z>threshhold))\n",
    "df_o = df[(df_z < threshhold).all(axis=1)]"
   ]
  },
  {
   "cell_type": "code",
   "execution_count": 8,
   "metadata": {},
   "outputs": [
    {
     "name": "stdout",
     "output_type": "stream",
     "text": [
      "Raw Data: (9068, 1)\n",
      "Data with Z-Scores > 5 removed: (9068, 1)\n"
     ]
    }
   ],
   "source": [
    "print(f\"Raw Data: {df.shape}\")\n",
    "print(f\"Data with Z-Scores > {threshhold} removed: {df_o.shape}\")\n"
   ]
  },
  {
   "cell_type": "code",
   "execution_count": 9,
   "metadata": {},
   "outputs": [],
   "source": [
    "dataset = df_o\n",
    "dataset = dataset.values\n",
    "dataset = dataset.astype('float32')\n"
   ]
  },
  {
   "cell_type": "code",
   "execution_count": 10,
   "metadata": {},
   "outputs": [],
   "source": [
    "#scale the data, makes the model happy\n",
    "np.random.seed(7)\n",
    "\n",
    "scaler = MinMaxScaler(feature_range=(0, 1))\n",
    "dataset = scaler.fit_transform(dataset)\n"
   ]
  },
  {
   "cell_type": "code",
   "execution_count": 11,
   "metadata": {},
   "outputs": [
    {
     "name": "stdout",
     "output_type": "stream",
     "text": [
      "6075 2993\n"
     ]
    }
   ],
   "source": [
    "# split into train and test sets\n",
    "train_size = int(len(dataset) * 0.67)\n",
    "test_size = len(dataset) - train_size\n",
    "train, test = dataset[0:train_size,:], dataset[train_size:len(dataset),:]\n",
    "print(len(train), len(test))"
   ]
  },
  {
   "cell_type": "code",
   "execution_count": 12,
   "metadata": {},
   "outputs": [],
   "source": [
    "look_back = 1 # sets how many steps out from the current step model is looking, 3 is two days in our timeseries. The current day and two days out.\n",
    "trainX, trainY = create_dataset(train, look_back)\n",
    "testX, testY = create_dataset(test, look_back)"
   ]
  },
  {
   "cell_type": "code",
   "execution_count": 13,
   "metadata": {},
   "outputs": [],
   "source": [
    "trainX = np.reshape(trainX, (trainX.shape[0], 1, trainX.shape[1]))\n",
    "testX = np.reshape(testX, (testX.shape[0], 1, testX.shape[1]))\n"
   ]
  },
  {
   "cell_type": "code",
   "execution_count": 14,
   "metadata": {},
   "outputs": [
    {
     "name": "stdout",
     "output_type": "stream",
     "text": [
      "WARNING:tensorflow:From C:\\Program Files (x86)\\Microsoft Visual Studio\\Shared\\Anaconda3_64\\lib\\site-packages\\tensorflow\\python\\framework\\op_def_library.py:263: colocate_with (from tensorflow.python.framework.ops) is deprecated and will be removed in a future version.\n",
      "Instructions for updating:\n",
      "Colocations handled automatically by placer.\n",
      "WARNING:tensorflow:From C:\\Program Files (x86)\\Microsoft Visual Studio\\Shared\\Anaconda3_64\\lib\\site-packages\\tensorflow\\python\\ops\\math_ops.py:3066: to_int32 (from tensorflow.python.ops.math_ops) is deprecated and will be removed in a future version.\n",
      "Instructions for updating:\n",
      "Use tf.cast instead.\n",
      "Epoch 1/100\n",
      " - 6s - loss: 0.0015\n",
      "Epoch 2/100\n",
      " - 5s - loss: 4.4587e-05\n",
      "Epoch 3/100\n",
      " - 5s - loss: 4.3684e-05\n",
      "Epoch 4/100\n",
      " - 5s - loss: 4.2786e-05\n",
      "Epoch 5/100\n",
      " - 5s - loss: 4.2676e-05\n",
      "Epoch 6/100\n",
      " - 5s - loss: 4.1204e-05\n",
      "Epoch 7/100\n",
      " - 5s - loss: 4.2605e-05\n",
      "Epoch 8/100\n",
      " - 6s - loss: 4.1576e-05\n",
      "Epoch 9/100\n",
      " - 6s - loss: 4.1269e-05\n",
      "Epoch 10/100\n",
      " - 6s - loss: 4.1732e-05\n",
      "Epoch 11/100\n",
      " - 6s - loss: 4.1387e-05\n",
      "Epoch 12/100\n",
      " - 6s - loss: 4.1500e-05\n",
      "Epoch 13/100\n",
      " - 8s - loss: 4.0665e-05\n",
      "Epoch 14/100\n",
      " - 8s - loss: 4.1164e-05\n",
      "Epoch 15/100\n",
      " - 8s - loss: 4.1003e-05\n",
      "Epoch 16/100\n",
      " - 8s - loss: 4.0388e-05\n",
      "Epoch 17/100\n",
      " - 7s - loss: 4.0778e-05\n",
      "Epoch 18/100\n",
      " - 7s - loss: 3.8795e-05\n",
      "Epoch 19/100\n",
      " - 7s - loss: 4.0143e-05\n",
      "Epoch 20/100\n",
      " - 7s - loss: 3.9282e-05\n",
      "Epoch 21/100\n",
      " - 8s - loss: 3.8705e-05\n",
      "Epoch 22/100\n",
      " - 8s - loss: 3.9265e-05\n",
      "Epoch 23/100\n",
      " - 7s - loss: 3.9221e-05\n",
      "Epoch 24/100\n",
      " - 7s - loss: 3.9435e-05\n",
      "Epoch 25/100\n",
      " - 7s - loss: 3.9619e-05\n",
      "Epoch 26/100\n",
      " - 7s - loss: 3.9281e-05\n",
      "Epoch 27/100\n",
      " - 11s - loss: 3.8700e-05\n",
      "Epoch 28/100\n",
      " - 12s - loss: 3.8347e-05\n",
      "Epoch 29/100\n",
      " - 15s - loss: 3.9679e-05\n",
      "Epoch 30/100\n",
      " - 11s - loss: 3.8162e-05\n",
      "Epoch 31/100\n",
      " - 9s - loss: 3.8251e-05\n",
      "Epoch 32/100\n",
      " - 9s - loss: 3.9841e-05\n",
      "Epoch 33/100\n",
      " - 12s - loss: 3.7851e-05\n",
      "Epoch 34/100\n",
      " - 10s - loss: 3.8706e-05\n",
      "Epoch 35/100\n",
      " - 9s - loss: 3.7437e-05\n",
      "Epoch 36/100\n",
      " - 10s - loss: 3.7361e-05\n",
      "Epoch 37/100\n",
      " - 9s - loss: 3.8069e-05\n",
      "Epoch 38/100\n",
      " - 10s - loss: 3.8803e-05\n",
      "Epoch 39/100\n",
      " - 11s - loss: 3.8054e-05\n",
      "Epoch 40/100\n",
      " - 12s - loss: 3.9128e-05\n",
      "Epoch 41/100\n",
      " - 12s - loss: 3.8443e-05\n",
      "Epoch 42/100\n",
      " - 11s - loss: 3.7491e-05\n",
      "Epoch 43/100\n",
      " - 10s - loss: 3.8865e-05\n",
      "Epoch 44/100\n",
      " - 11s - loss: 3.8106e-05\n",
      "Epoch 45/100\n",
      " - 10s - loss: 3.8164e-05\n",
      "Epoch 46/100\n",
      " - 10s - loss: 3.8371e-05\n",
      "Epoch 47/100\n",
      " - 10s - loss: 3.7933e-05\n",
      "Epoch 48/100\n",
      " - 11s - loss: 3.9002e-05\n",
      "Epoch 49/100\n",
      " - 10s - loss: 3.6923e-05\n",
      "Epoch 50/100\n",
      " - 10s - loss: 3.7114e-05\n",
      "Epoch 51/100\n",
      " - 10s - loss: 3.7662e-05\n",
      "Epoch 52/100\n",
      " - 10s - loss: 3.7981e-05\n",
      "Epoch 53/100\n",
      " - 10s - loss: 3.7029e-05\n",
      "Epoch 54/100\n",
      " - 10s - loss: 3.6897e-05\n",
      "Epoch 55/100\n",
      " - 10s - loss: 3.7929e-05\n",
      "Epoch 56/100\n",
      " - 10s - loss: 3.8202e-05\n",
      "Epoch 57/100\n",
      " - 10s - loss: 3.8588e-05\n",
      "Epoch 58/100\n",
      " - 10s - loss: 3.6441e-05\n",
      "Epoch 59/100\n",
      " - 11s - loss: 3.7316e-05\n",
      "Epoch 60/100\n",
      " - 9s - loss: 3.7905e-05\n",
      "Epoch 61/100\n",
      " - 10s - loss: 3.6466e-05\n",
      "Epoch 62/100\n",
      " - 10s - loss: 3.7243e-05\n",
      "Epoch 63/100\n",
      " - 10s - loss: 3.7283e-05\n",
      "Epoch 64/100\n",
      " - 10s - loss: 3.6680e-05\n",
      "Epoch 65/100\n",
      " - 10s - loss: 3.7335e-05\n",
      "Epoch 66/100\n",
      " - 10s - loss: 3.6453e-05\n",
      "Epoch 67/100\n",
      " - 9s - loss: 3.7750e-05\n",
      "Epoch 68/100\n",
      " - 9s - loss: 3.6498e-05\n",
      "Epoch 69/100\n",
      " - 10s - loss: 3.7826e-05\n",
      "Epoch 70/100\n",
      " - 9s - loss: 3.6690e-05\n",
      "Epoch 71/100\n",
      " - 9s - loss: 3.7660e-05\n",
      "Epoch 72/100\n",
      " - 9s - loss: 3.6880e-05\n",
      "Epoch 73/100\n",
      " - 10s - loss: 3.6538e-05\n",
      "Epoch 74/100\n",
      " - 9s - loss: 3.6394e-05\n",
      "Epoch 75/100\n",
      " - 9s - loss: 3.6816e-05\n",
      "Epoch 76/100\n",
      " - 10s - loss: 3.6305e-05\n",
      "Epoch 77/100\n",
      " - 9s - loss: 3.6493e-05\n",
      "Epoch 78/100\n",
      " - 10s - loss: 3.6363e-05\n",
      "Epoch 79/100\n",
      " - 10s - loss: 3.7015e-05\n",
      "Epoch 80/100\n",
      " - 10s - loss: 3.6044e-05\n",
      "Epoch 81/100\n",
      " - 10s - loss: 3.6759e-05\n",
      "Epoch 82/100\n",
      " - 11s - loss: 3.6709e-05\n",
      "Epoch 83/100\n",
      " - 8s - loss: 3.6580e-05\n",
      "Epoch 84/100\n",
      " - 7s - loss: 3.7203e-05\n",
      "Epoch 85/100\n",
      " - 7s - loss: 3.6210e-05\n",
      "Epoch 86/100\n",
      " - 7s - loss: 3.6428e-05\n",
      "Epoch 87/100\n",
      " - 9s - loss: 3.7534e-05\n",
      "Epoch 88/100\n",
      " - 11s - loss: 3.6250e-05\n",
      "Epoch 89/100\n",
      " - 5s - loss: 3.6298e-05\n",
      "Epoch 90/100\n",
      " - 11s - loss: 3.7407e-05\n",
      "Epoch 91/100\n",
      " - 10s - loss: 3.7077e-05\n",
      "Epoch 92/100\n",
      " - 8s - loss: 3.5955e-05\n",
      "Epoch 93/100\n",
      " - 8s - loss: 3.6881e-05\n",
      "Epoch 94/100\n",
      " - 9s - loss: 3.6534e-05\n",
      "Epoch 95/100\n",
      " - 8s - loss: 3.6226e-05\n",
      "Epoch 96/100\n",
      " - 9s - loss: 3.6881e-05\n",
      "Epoch 97/100\n",
      " - 10s - loss: 3.5577e-05\n",
      "Epoch 98/100\n",
      " - 9s - loss: 3.6933e-05\n",
      "Epoch 99/100\n",
      " - 10s - loss: 3.6600e-05\n",
      "Epoch 100/100\n",
      " - 10s - loss: 3.5977e-05\n"
     ]
    },
    {
     "data": {
      "text/plain": [
       "<keras.callbacks.History at 0x1e70ba71710>"
      ]
     },
     "execution_count": 14,
     "metadata": {},
     "output_type": "execute_result"
    }
   ],
   "source": [
    "# create and fit the LSTM network\n",
    "batch_size = 1\n",
    "model = Sequential()\n",
    "model.add(LSTM(5, input_shape=(1, look_back)))\n",
    "model.add(Dense(3))\n",
    "model.add(Dense(1))\n",
    "model.compile(loss='mean_squared_error', optimizer='adam')\n",
    "model.fit(trainX, trainY, epochs=100, batch_size=batch_size, verbose=2)\n"
   ]
  },
  {
   "cell_type": "code",
   "execution_count": 298,
   "metadata": {},
   "outputs": [],
   "source": [
    "model.save('filename.h5') #change file name! lstm_modelCLstep15, lstm_modelCL"
   ]
  },
  {
   "cell_type": "code",
   "execution_count": 448,
   "metadata": {},
   "outputs": [],
   "source": [
    "model = load_model('lstm_modelCL.h5') #load a model "
   ]
  },
  {
   "cell_type": "code",
   "execution_count": 449,
   "metadata": {},
   "outputs": [
    {
     "ename": "ValueError",
     "evalue": "Error when checking input: expected lstm_6_input to have shape (1, 3) but got array with shape (3, 1)",
     "output_type": "error",
     "traceback": [
      "\u001b[1;31m---------------------------------------------------------------------------\u001b[0m",
      "\u001b[1;31mValueError\u001b[0m                                Traceback (most recent call last)",
      "\u001b[1;32m<ipython-input-449-25a7caacb7de>\u001b[0m in \u001b[0;36m<module>\u001b[1;34m()\u001b[0m\n\u001b[0;32m      1\u001b[0m \u001b[1;31m# make predictions\u001b[0m\u001b[1;33m\u001b[0m\u001b[1;33m\u001b[0m\u001b[0m\n\u001b[1;32m----> 2\u001b[1;33m \u001b[0mtrainPredict\u001b[0m \u001b[1;33m=\u001b[0m \u001b[0mmodel\u001b[0m\u001b[1;33m.\u001b[0m\u001b[0mpredict\u001b[0m\u001b[1;33m(\u001b[0m\u001b[0mtrainX\u001b[0m\u001b[1;33m,\u001b[0m \u001b[0mverbose\u001b[0m\u001b[1;33m=\u001b[0m\u001b[1;36m2\u001b[0m\u001b[1;33m)\u001b[0m\u001b[1;33m\u001b[0m\u001b[0m\n\u001b[0m\u001b[0;32m      3\u001b[0m \u001b[0mtestPredict\u001b[0m \u001b[1;33m=\u001b[0m \u001b[0mmodel\u001b[0m\u001b[1;33m.\u001b[0m\u001b[0mpredict\u001b[0m\u001b[1;33m(\u001b[0m\u001b[0mtestX\u001b[0m\u001b[1;33m,\u001b[0m \u001b[0mverbose\u001b[0m\u001b[1;33m=\u001b[0m\u001b[1;36m2\u001b[0m\u001b[1;33m)\u001b[0m\u001b[1;33m\u001b[0m\u001b[0m\n\u001b[0;32m      4\u001b[0m \u001b[0mtrainPredict\u001b[0m \u001b[1;33m=\u001b[0m \u001b[0mscaler\u001b[0m\u001b[1;33m.\u001b[0m\u001b[0minverse_transform\u001b[0m\u001b[1;33m(\u001b[0m\u001b[0mtrainPredict\u001b[0m\u001b[1;33m)\u001b[0m\u001b[1;33m\u001b[0m\u001b[0m\n\u001b[0;32m      5\u001b[0m \u001b[0mtrainY\u001b[0m \u001b[1;33m=\u001b[0m \u001b[0mscaler\u001b[0m\u001b[1;33m.\u001b[0m\u001b[0minverse_transform\u001b[0m\u001b[1;33m(\u001b[0m\u001b[1;33m[\u001b[0m\u001b[0mtrainY\u001b[0m\u001b[1;33m]\u001b[0m\u001b[1;33m)\u001b[0m\u001b[1;33m\u001b[0m\u001b[0m\n",
      "\u001b[1;32mC:\\Program Files (x86)\\Microsoft Visual Studio\\Shared\\Anaconda3_64\\lib\\site-packages\\keras\\engine\\training.py\u001b[0m in \u001b[0;36mpredict\u001b[1;34m(self, x, batch_size, verbose, steps)\u001b[0m\n\u001b[0;32m   1147\u001b[0m                              'argument.')\n\u001b[0;32m   1148\u001b[0m         \u001b[1;31m# Validate user data.\u001b[0m\u001b[1;33m\u001b[0m\u001b[1;33m\u001b[0m\u001b[0m\n\u001b[1;32m-> 1149\u001b[1;33m         \u001b[0mx\u001b[0m\u001b[1;33m,\u001b[0m \u001b[0m_\u001b[0m\u001b[1;33m,\u001b[0m \u001b[0m_\u001b[0m \u001b[1;33m=\u001b[0m \u001b[0mself\u001b[0m\u001b[1;33m.\u001b[0m\u001b[0m_standardize_user_data\u001b[0m\u001b[1;33m(\u001b[0m\u001b[0mx\u001b[0m\u001b[1;33m)\u001b[0m\u001b[1;33m\u001b[0m\u001b[0m\n\u001b[0m\u001b[0;32m   1150\u001b[0m         \u001b[1;32mif\u001b[0m \u001b[0mself\u001b[0m\u001b[1;33m.\u001b[0m\u001b[0mstateful\u001b[0m\u001b[1;33m:\u001b[0m\u001b[1;33m\u001b[0m\u001b[0m\n\u001b[0;32m   1151\u001b[0m             \u001b[1;32mif\u001b[0m \u001b[0mx\u001b[0m\u001b[1;33m[\u001b[0m\u001b[1;36m0\u001b[0m\u001b[1;33m]\u001b[0m\u001b[1;33m.\u001b[0m\u001b[0mshape\u001b[0m\u001b[1;33m[\u001b[0m\u001b[1;36m0\u001b[0m\u001b[1;33m]\u001b[0m \u001b[1;33m>\u001b[0m \u001b[0mbatch_size\u001b[0m \u001b[1;32mand\u001b[0m \u001b[0mx\u001b[0m\u001b[1;33m[\u001b[0m\u001b[1;36m0\u001b[0m\u001b[1;33m]\u001b[0m\u001b[1;33m.\u001b[0m\u001b[0mshape\u001b[0m\u001b[1;33m[\u001b[0m\u001b[1;36m0\u001b[0m\u001b[1;33m]\u001b[0m \u001b[1;33m%\u001b[0m \u001b[0mbatch_size\u001b[0m \u001b[1;33m!=\u001b[0m \u001b[1;36m0\u001b[0m\u001b[1;33m:\u001b[0m\u001b[1;33m\u001b[0m\u001b[0m\n",
      "\u001b[1;32mC:\\Program Files (x86)\\Microsoft Visual Studio\\Shared\\Anaconda3_64\\lib\\site-packages\\keras\\engine\\training.py\u001b[0m in \u001b[0;36m_standardize_user_data\u001b[1;34m(self, x, y, sample_weight, class_weight, check_array_lengths, batch_size)\u001b[0m\n\u001b[0;32m    749\u001b[0m             \u001b[0mfeed_input_shapes\u001b[0m\u001b[1;33m,\u001b[0m\u001b[1;33m\u001b[0m\u001b[0m\n\u001b[0;32m    750\u001b[0m             \u001b[0mcheck_batch_axis\u001b[0m\u001b[1;33m=\u001b[0m\u001b[1;32mFalse\u001b[0m\u001b[1;33m,\u001b[0m  \u001b[1;31m# Don't enforce the batch size.\u001b[0m\u001b[1;33m\u001b[0m\u001b[0m\n\u001b[1;32m--> 751\u001b[1;33m             exception_prefix='input')\n\u001b[0m\u001b[0;32m    752\u001b[0m \u001b[1;33m\u001b[0m\u001b[0m\n\u001b[0;32m    753\u001b[0m         \u001b[1;32mif\u001b[0m \u001b[0my\u001b[0m \u001b[1;32mis\u001b[0m \u001b[1;32mnot\u001b[0m \u001b[1;32mNone\u001b[0m\u001b[1;33m:\u001b[0m\u001b[1;33m\u001b[0m\u001b[0m\n",
      "\u001b[1;32mC:\\Program Files (x86)\\Microsoft Visual Studio\\Shared\\Anaconda3_64\\lib\\site-packages\\keras\\engine\\training_utils.py\u001b[0m in \u001b[0;36mstandardize_input_data\u001b[1;34m(data, names, shapes, check_batch_axis, exception_prefix)\u001b[0m\n\u001b[0;32m    136\u001b[0m                             \u001b[1;34m': expected '\u001b[0m \u001b[1;33m+\u001b[0m \u001b[0mnames\u001b[0m\u001b[1;33m[\u001b[0m\u001b[0mi\u001b[0m\u001b[1;33m]\u001b[0m \u001b[1;33m+\u001b[0m \u001b[1;34m' to have shape '\u001b[0m \u001b[1;33m+\u001b[0m\u001b[1;33m\u001b[0m\u001b[0m\n\u001b[0;32m    137\u001b[0m                             \u001b[0mstr\u001b[0m\u001b[1;33m(\u001b[0m\u001b[0mshape\u001b[0m\u001b[1;33m)\u001b[0m \u001b[1;33m+\u001b[0m \u001b[1;34m' but got array with shape '\u001b[0m \u001b[1;33m+\u001b[0m\u001b[1;33m\u001b[0m\u001b[0m\n\u001b[1;32m--> 138\u001b[1;33m                             str(data_shape))\n\u001b[0m\u001b[0;32m    139\u001b[0m     \u001b[1;32mreturn\u001b[0m \u001b[0mdata\u001b[0m\u001b[1;33m\u001b[0m\u001b[0m\n\u001b[0;32m    140\u001b[0m \u001b[1;33m\u001b[0m\u001b[0m\n",
      "\u001b[1;31mValueError\u001b[0m: Error when checking input: expected lstm_6_input to have shape (1, 3) but got array with shape (3, 1)"
     ]
    }
   ],
   "source": [
    "# make predictions\n",
    "trainPredict = model.predict(trainX, batch_size=batch_size, verbose=2)\n",
    "testPredict = model.predict(testX, batch_size=batch_size, verbose=2)\n",
    "trainPredict = scaler.inverse_transform(trainPredict)\n",
    "trainY = scaler.inverse_transform([trainY])\n",
    "testPredict = scaler.inverse_transform(testPredict)\n",
    "testY = scaler.inverse_transform([testY])\n",
    "# calculate root mean squared error\n",
    "trainScore = math.sqrt(mean_squared_error(trainY[0], trainPredict[:,0]))\n",
    "print('Train Score: %.2f RMSE' % (trainScore))\n",
    "testScore = math.sqrt(mean_squared_error(testY[0], testPredict[:,0]))\n",
    "print('Test Score: %.2f RMSE' % (testScore))\n",
    "# shift train predictions for plotting\n",
    "trainPredictPlot = np.empty_like(dataset)\n",
    "trainPredictPlot[:, :] = np.nan\n",
    "trainPredictPlot[look_back:len(trainPredict)+look_back, :] = trainPredict\n",
    "# shift test predictions for plotting\n",
    "testPredictPlot = np.empty_like(dataset)\n",
    "testPredictPlot[:, :] = np.nan\n",
    "testPredictPlot[len(trainPredict)+(look_back*2)+1:len(dataset)-1, :] = testPredict\n",
    "# plot baseline and predictions\n",
    "plt.plot(scaler.inverse_transform(dataset))\n",
    "plt.plot(trainPredictPlot)\n",
    "plt.plot(testPredictPlot)"
   ]
  },
  {
   "cell_type": "code",
   "execution_count": 348,
   "metadata": {},
   "outputs": [
    {
     "data": {
      "text/plain": [
       "[<matplotlib.lines.Line2D at 0x1a681c96400>]"
      ]
     },
     "execution_count": 348,
     "metadata": {},
     "output_type": "execute_result"
    },
    {
     "data": {
      "image/png": "[encoded data removed]",
      "text/plain": [
       "<Figure size 432x288 with 1 Axes>"
      ]
     },
     "metadata": {},
     "output_type": "display_data"
    }
   ],
   "source": [
    "plt.plot(scaler.inverse_transform(dataset))\n"
   ]
  },
  {
   "cell_type": "code",
   "execution_count": 319,
   "metadata": {},
   "outputs": [
    {
     "data": {
      "text/plain": [
       "[<matplotlib.lines.Line2D at 0x1a6ea6a50b8>]"
      ]
     },
     "execution_count": 319,
     "metadata": {},
     "output_type": "execute_result"
    },
    {
     "data": {
      "image/png": "[encoded data removed]",
      "text/plain": [
       "<Figure size 432x288 with 1 Axes>"
      ]
     },
     "metadata": {},
     "output_type": "display_data"
    }
   ],
   "source": [
    "plt.plot(testPredictPlot)\n"
   ]
  },
  {
   "cell_type": "code",
   "execution_count": 438,
   "metadata": {},
   "outputs": [
    {
     "name": "stdout",
     "output_type": "stream",
     "text": [
      "Train Score: 0.01 RMSE\n",
      "Test Score: 0.01 RMSE\n"
     ]
    }
   ],
   "source": [
    "# trainScore = math.sqrt(mean_squared_error(trainY[0], trainPredict[:,0]))\n",
    "# print('Train Score: %.2f RMSE' % (trainScore))\n",
    "# testScore = math.sqrt(mean_squared_error(testY[0], testPredict[:,0]))\n",
    "# print('Test Score: %.2f RMSE' % (testScore))"
   ]
  },
  {
   "cell_type": "markdown",
   "metadata": {},
   "source": [
    "Crude Oil Contract - Univariate"
   ]
  },
  {
   "cell_type": "code",
   "execution_count": 313,
   "metadata": {},
   "outputs": [
    {
     "data": {
      "text/plain": [
       "[<matplotlib.lines.Line2D at 0x1a6fe53acf8>]"
      ]
     },
     "execution_count": 313,
     "metadata": {},
     "output_type": "execute_result"
    },
    {
     "data": {
      "image/png": "[encoded data removed]",
      "text/plain": [
       "<Figure size 432x288 with 1 Axes>"
      ]
     },
     "metadata": {},
     "output_type": "display_data"
    }
   ],
   "source": []
  },
  {
   "cell_type": "code",
   "execution_count": null,
   "metadata": {},
   "outputs": [],
   "source": []
  }
 ],
 "metadata": {
  "kernelspec": {
   "display_name": "Python 3",
   "language": "python",
   "name": "python3"
  },
  "language_info": {
   "codemirror_mode": {
    "name": "ipython",
    "version": 3
   },
   "file_extension": ".py",
   "mimetype": "text/x-python",
   "name": "python",
   "nbconvert_exporter": "python",
   "pygments_lexer": "ipython3",
   "version": "3.7.3"
  }
 },
 "nbformat": 4,
 "nbformat_minor": 2
}
